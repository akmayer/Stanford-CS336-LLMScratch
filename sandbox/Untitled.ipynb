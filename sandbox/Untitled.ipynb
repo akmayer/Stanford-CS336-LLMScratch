{
 "cells": [
  {
   "cell_type": "code",
   "execution_count": 119,
   "id": "7736ea03-39c8-47d4-bc38-6c3e79332e45",
   "metadata": {},
   "outputs": [
    {
     "name": "stdout",
     "output_type": "stream",
     "text": [
      "1.3180537223815918\n"
     ]
    }
   ],
   "source": [
    "import regex as re\n",
    "from collections import defaultdict\n",
    "\n",
    "PAT = r\"\"\"'(?:[sdmt]|ll|ve|re)| ?\\p{L}+| ?\\p{N}+| ?[^\\s\\p{L}\\p{N}]+|\\s+(?!\\S)|\\s+\"\"\"\n",
    "\n",
    "txt = \"\"\" low low low low low lower lower widest widest widest newest newest newest newest newest newest\"\"\"\n",
    "\n",
    "\n",
    "\n",
    "def pretokenContainsBytePair(pretokenTuple, bytePairTuple):\n",
    "    for idx, byte in enumerate(pretokenTuple[:-1]):\n",
    "        if byte == bytePairTuple[0] and pretokenTuple[idx + 1] == bytePairTuple[1]:\n",
    "            return True, idx\n",
    "    return False, 0\n",
    "\n",
    "def makeMerge(pretokenizedCounts):\n",
    "    bytePairCounts = defaultdict(int)\n",
    "    for pretoken, count in pretokenizedCounts.items():\n",
    "        for idx, byte in enumerate(pretoken[:-1]):\n",
    "            bytePairCounts[(byte, pretoken[idx + 1])] += count\n",
    "    \n",
    "    bytePairCountsSorted = sorted(bytePairCounts.items(), key = lambda x : (x[1], x[0]), reverse=True)\n",
    "    \n",
    "    merge = bytePairCountsSorted[0][0]\n",
    "    pairCount = bytePairCountsSorted[0][1]\n",
    "    bytePairCounts[merge] = 0\n",
    "    return bytePairCounts, merge, pairCount\n",
    "\n",
    "\n",
    "def mergePretokenizedCounts(pretokenizedCounts, mergedPair, bytePairCounts):\n",
    "    newPretokenizedCounts = defaultdict(int)\n",
    "    pretokensContainingMerge = []\n",
    "    for pretoken, count in pretokenizedCounts.items():\n",
    "        modifiedPretoken = list(pretoken)\n",
    "        pretokenContainsMerge = False\n",
    "\n",
    "        while True:\n",
    "            mergeLocationTuple = pretokenContainsBytePair(modifiedPretoken, mergedPair)\n",
    "            if not mergeLocationTuple[0]:\n",
    "                break\n",
    "            pretokenContainsMerge = True\n",
    "            mergeLocation = mergeLocationTuple[1]\n",
    "            if mergeLocation != 0:\n",
    "                leftOverlap = (modifiedPretoken[mergeLocation - 1], modifiedPretoken[mergeLocation])\n",
    "                if leftOverlap[0] != mergedPair[0] + mergedPair[1]:\n",
    "                    bytePairCounts[leftOverlap] -= count\n",
    "                    \n",
    "            if mergeLocation + 1 != len(modifiedPretoken) - 1:\n",
    "                rightOverlap = (modifiedPretoken[mergeLocation + 1], modifiedPretoken[mergeLocation + 2])\n",
    "                bytePairCounts[rightOverlap] -= count\n",
    "            \n",
    "            modifiedPretoken[mergeLocation + 1] = mergedPair[0] + mergedPair[1]\n",
    "            modifiedPretoken = modifiedPretoken[:mergeLocation] + modifiedPretoken[mergeLocation + 1:]\n",
    "\n",
    "        \n",
    "        \n",
    "        modifiedPretoken = tuple(modifiedPretoken)\n",
    "        newPretokenizedCounts[modifiedPretoken] = count\n",
    "        if pretokenContainsMerge:\n",
    "            for idx, byte in enumerate(modifiedPretoken[:-1]):\n",
    "                if byte == (mergedPair[0] + mergedPair[1]) or modifiedPretoken[idx + 1] == (mergedPair[0] + mergedPair[1]):\n",
    "                    bytePairCounts[(byte, modifiedPretoken[idx + 1])] += count\n",
    "    return pretokensContainingMerge, newPretokenizedCounts\n",
    "\n",
    "def getMerges(path, vocabSize, specialTokens):\n",
    "    with open(path, 'r') as f:\n",
    "        data = f.read()\n",
    "        \n",
    "    specialTokenPAT = '|'.join(re.escape(s) for s in specialTokens)\n",
    "    docs = re.split(specialTokenPAT, data)\n",
    "\n",
    "    pretokenizedCounts = defaultdict(int)\n",
    "    for doc in docs:\n",
    "        splitText = re.finditer(PAT, doc)\n",
    "        for x in splitText:\n",
    "            bytesRep = tuple(k.to_bytes() for k in x[0].encode('utf-8'))\n",
    "            pretokenizedCounts[bytesRep] += 1\n",
    "    \n",
    "        \n",
    "    vocabulary = [x.to_bytes() for x in range(256)] + specialTokens\n",
    "    \n",
    "    merges = []\n",
    "    bytePairCounts, mergedPair, pairCount = makeMerge(pretokenizedCounts)\n",
    "    while len(vocabulary) < vocabSize:\n",
    "        \n",
    "        merges.append(mergedPair)\n",
    "        vocabulary.append(mergedPair[0] + mergedPair[1])\n",
    "        pretokensContainingMerge, pretokenizedCounts = mergePretokenizedCounts(pretokenizedCounts, mergedPair, bytePairCounts)\n",
    "        bytePairCountsSorted = sorted(bytePairCounts.items(), key = lambda x : (x[1], x[0]), reverse=True)\n",
    "    \n",
    "        mergedPair = bytePairCountsSorted[0][0]\n",
    "        pairCount = bytePairCountsSorted[0][1]\n",
    "        bytePairCounts[mergedPair] = 0\n",
    "    vocabDict = {}\n",
    "    for idx, word in enumerate(vocabulary):\n",
    "        vocabDict[idx] = word\n",
    "    return vocabDict, merges\n",
    "\n",
    "import time\n",
    "s = time.time()\n",
    "vocab, merges = getMerges(\"../tests/fixtures/corpus.en\", 500, [\"<|endoftext|>\"])\n",
    "e = time.time()\n",
    "print(e - s)"
   ]
  },
  {
   "cell_type": "code",
   "execution_count": 120,
   "id": "a3d079ee-a961-48ba-bb12-3d743bf10c1e",
   "metadata": {},
   "outputs": [
    {
     "data": {
      "text/plain": [
       "[(b' ', b't'),\n",
       " (b' ', b'a'),\n",
       " (b'h', b'e'),\n",
       " (b'i', b'n'),\n",
       " (b' t', b'he'),\n",
       " (b'r', b'e'),\n",
       " (b' ', b'o'),\n",
       " (b' ', b','),\n",
       " (b'e', b'r'),\n",
       " (b' ', b's')]"
      ]
     },
     "execution_count": 120,
     "metadata": {},
     "output_type": "execute_result"
    }
   ],
   "source": [
    "merges[:10]"
   ]
  },
  {
   "cell_type": "code",
   "execution_count": 121,
   "id": "6a741e81-2ee0-4016-9e50-f8554b4c1f6b",
   "metadata": {},
   "outputs": [],
   "source": [
    "import regex as re\n",
    "from collections import defaultdict\n",
    "\n",
    "PAT = r\"\"\"'(?:[sdmt]|ll|ve|re)| ?\\p{L}+| ?\\p{N}+| ?[^\\s\\p{L}\\p{N}]+|\\s+(?!\\S)|\\s+\"\"\"\n",
    "\n",
    "def pretokenContainsBytePair(pretokenTuple, bytePairTuple):\n",
    "    for idx, byte in enumerate(pretokenTuple[:-1]):\n",
    "        if byte == bytePairTuple[0] and pretokenTuple[idx + 1] == bytePairTuple[1]:\n",
    "            return True, idx\n",
    "    return False, 0\n",
    "\n",
    "def makeMerge(pretokenizedCounts):\n",
    "    bytePairCounts = defaultdict(int)\n",
    "    for pretoken, count in pretokenizedCounts.items():\n",
    "        for idx, byte in enumerate(pretoken[:-1]):\n",
    "            bytePairCounts[(byte, pretoken[idx + 1])] += count\n",
    "    \n",
    "    bytePairCounts = sorted(bytePairCounts.items(), key = lambda x : (x[1], x[0]), reverse=True)\n",
    "    \n",
    "    merge = bytePairCounts[0][0]\n",
    "    pairCount = bytePairCounts[0][1]\n",
    "    return merge, pairCount\n",
    "\n",
    "\n",
    "def mergePretokenizedCounts(pretokenizedCounts, mergedPair):\n",
    "    newPretokenizedCounts = defaultdict(int)\n",
    "    for pretoken, count in pretokenizedCounts.items():\n",
    "        modifiedPretoken = list(pretoken)\n",
    "        \n",
    "        while True:\n",
    "            mergeLocationTuple = pretokenContainsBytePair(modifiedPretoken, mergedPair)\n",
    "            if not mergeLocationTuple[0]:\n",
    "                break\n",
    "            mergeLocation = mergeLocationTuple[1]\n",
    "            modifiedPretoken[mergeLocation + 1] = mergedPair[0] + mergedPair[1]\n",
    "            modifiedPretoken = modifiedPretoken[:mergeLocation] + modifiedPretoken[mergeLocation + 1:]\n",
    "        modifiedPretoken = tuple(modifiedPretoken)\n",
    "        newPretokenizedCounts[modifiedPretoken] = count\n",
    "    return newPretokenizedCounts\n",
    "\n",
    "def getMergesOld(path, vocabSize, specialTokens):\n",
    "    with open(path, 'r') as f:\n",
    "        data = f.read()\n",
    "        \n",
    "    specialTokenPAT = '|'.join(re.escape(s) for s in specialTokens)\n",
    "    docs = re.split(specialTokenPAT, data)\n",
    "\n",
    "    pretokenizedCounts = defaultdict(int)\n",
    "    for doc in docs:\n",
    "        splitText = re.finditer(PAT, doc)\n",
    "        for x in splitText:\n",
    "            bytesRep = tuple(k.to_bytes() for k in x[0].encode('utf-8'))\n",
    "            pretokenizedCounts[bytesRep] += 1\n",
    "    \n",
    "        \n",
    "    vocabulary = [x.to_bytes() for x in range(256)] + [x.encode('utf-8') for x in specialTokens]\n",
    "    \n",
    "    merges = []\n",
    "    while len(vocabulary) < vocabSize:\n",
    "        mergedPair, pairCount = makeMerge(pretokenizedCounts)\n",
    "        merges.append(mergedPair)\n",
    "        vocabulary.append(mergedPair[0] + mergedPair[1])\n",
    "        pretokenizedCounts = mergePretokenizedCounts(pretokenizedCounts, mergedPair)\n",
    "\n",
    "    vocabDict = {}\n",
    "    for idx, word in enumerate(vocabulary):\n",
    "        vocabDict[idx] = word\n",
    "    return vocabDict, merges\n",
    "trueVocab, trueMerges = getMergesOld(\"../tests/fixtures/corpus.en\", 500, [\"<|endoftext|>\"])"
   ]
  },
  {
   "cell_type": "code",
   "execution_count": 122,
   "id": "6d315cef-d2ea-41a4-8235-7bf9822a9767",
   "metadata": {},
   "outputs": [
    {
     "data": {
      "text/plain": [
       "True"
      ]
     },
     "execution_count": 122,
     "metadata": {},
     "output_type": "execute_result"
    }
   ],
   "source": [
    "merges == trueMerges"
   ]
  },
  {
   "cell_type": "code",
   "execution_count": 123,
   "id": "cae53ad6-31d2-4e39-8c7a-dc25bab2f24c",
   "metadata": {},
   "outputs": [
    {
     "data": {
      "text/plain": [
       "False"
      ]
     },
     "execution_count": 123,
     "metadata": {},
     "output_type": "execute_result"
    }
   ],
   "source": [
    "vocab == trueVocab"
   ]
  }
 ],
 "metadata": {
  "kernelspec": {
   "display_name": "Python 3 (ipykernel)",
   "language": "python",
   "name": "python3"
  },
  "language_info": {
   "codemirror_mode": {
    "name": "ipython",
    "version": 3
   },
   "file_extension": ".py",
   "mimetype": "text/x-python",
   "name": "python",
   "nbconvert_exporter": "python",
   "pygments_lexer": "ipython3",
   "version": "3.12.3"
  }
 },
 "nbformat": 4,
 "nbformat_minor": 5
}
