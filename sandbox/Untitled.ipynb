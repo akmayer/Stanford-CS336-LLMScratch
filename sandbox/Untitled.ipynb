{
 "cells": [
  {
   "cell_type": "code",
   "execution_count": 137,
   "id": "f86dc1ba-abaa-426a-894d-78012d64d2c3",
   "metadata": {},
   "outputs": [
    {
     "name": "stdout",
     "output_type": "stream",
     "text": [
      "[(b' ', b't'), (b' ', b'a'), (b'h', b'e'), (b'i', b'n'), (b' t', b'he'), (b'r', b'e'), (b' ', b'o'), (b' ', b','), (b'e', b'r'), (b' ', b's')]\n"
     ]
    }
   ],
   "source": [
    "import regex as re\n",
    "from collections import defaultdict\n",
    "\n",
    "PAT = r\"\"\"'(?:[sdmt]|ll|ve|re)| ?\\p{L}+| ?\\p{N}+| ?[^\\s\\p{L}\\p{N}]+|\\s+(?!\\S)|\\s+\"\"\"\n",
    "\n",
    "def pretokenContainsBytePair(pretokenTuple, bytePairTuple):\n",
    "    for idx, byte in enumerate(pretokenTuple[:-1]):\n",
    "        if byte == bytePairTuple[0] and pretokenTuple[idx + 1] == bytePairTuple[1]:\n",
    "            return True, idx\n",
    "    return False, 0\n",
    "\n",
    "def makeMerge(pretokenizedCounts):\n",
    "    bytePairCounts = defaultdict(int)\n",
    "    for pretoken, count in pretokenizedCounts.items():\n",
    "        for idx, byte in enumerate(pretoken[:-1]):\n",
    "            bytePairCounts[(byte, pretoken[idx + 1])] += count\n",
    "    \n",
    "    bytePairCountsSorted = sorted(bytePairCounts.items(), key = lambda x : (x[1], x[0]), reverse=True)\n",
    "    \n",
    "    merge = bytePairCountsSorted[0][0]\n",
    "    pairCount = bytePairCountsSorted[0][1]\n",
    "    bytePairCounts[merge] = 0\n",
    "    return bytePairCounts, merge, pairCount\n",
    "\n",
    "\n",
    "def mergePretokenizedCounts(pretokenizedCounts, mergedPair, bytePairCounts):\n",
    "    newPretokenizedCounts = defaultdict(int)\n",
    "    pretokensContainingMerge = []\n",
    "    for pretoken, count in pretokenizedCounts.items():\n",
    "        modifiedPretoken = list(pretoken)\n",
    "        pretokenContainsMerge = False\n",
    "\n",
    "        while True:\n",
    "            mergeLocationTuple = pretokenContainsBytePair(modifiedPretoken, mergedPair)\n",
    "            if not mergeLocationTuple[0]:\n",
    "                break\n",
    "            pretokenContainsMerge = True\n",
    "            mergeLocation = mergeLocationTuple[1]\n",
    "            if mergeLocation != 0:\n",
    "                leftOverlap = (modifiedPretoken[mergeLocation - 1], modifiedPretoken[mergeLocation])\n",
    "                if leftOverlap[0] != mergedPair[0] + mergedPair[1]:\n",
    "                    bytePairCounts[leftOverlap] -= count\n",
    "                    \n",
    "            if mergeLocation + 1 != len(modifiedPretoken) - 1:\n",
    "                rightOverlap = (modifiedPretoken[mergeLocation + 1], modifiedPretoken[mergeLocation + 2])\n",
    "                bytePairCounts[rightOverlap] -= count\n",
    "            \n",
    "            modifiedPretoken[mergeLocation + 1] = mergedPair[0] + mergedPair[1]\n",
    "            modifiedPretoken = modifiedPretoken[:mergeLocation] + modifiedPretoken[mergeLocation + 1:]\n",
    "\n",
    "        \n",
    "        \n",
    "        modifiedPretoken = tuple(modifiedPretoken)\n",
    "        newPretokenizedCounts[modifiedPretoken] = count\n",
    "        if pretokenContainsMerge:\n",
    "            for idx, byte in enumerate(modifiedPretoken[:-1]):\n",
    "                if byte == (mergedPair[0] + mergedPair[1]) or modifiedPretoken[idx + 1] == (mergedPair[0] + mergedPair[1]):\n",
    "                    bytePairCounts[(byte, modifiedPretoken[idx + 1])] += count\n",
    "    return pretokensContainingMerge, newPretokenizedCounts\n",
    "\n",
    "def getMerges(path, vocabSize, specialTokens):\n",
    "    with open(path, 'r') as f:\n",
    "        data = f.read()\n",
    "    \n",
    "    specialTokenPAT = '|'.join(re.escape(s) for s in specialTokens)\n",
    "    docs = re.split(specialTokenPAT, data)\n",
    "\n",
    "    pretokenizedCounts = defaultdict(int)\n",
    "    for doc in docs:\n",
    "        splitText = re.finditer(PAT, doc)\n",
    "        for x in splitText:\n",
    "            bytesRep = tuple(k.to_bytes() for k in x[0].encode('utf-8'))\n",
    "            pretokenizedCounts[bytesRep] += 1\n",
    "    \n",
    "        \n",
    "    vocabulary = [x.to_bytes() for x in range(256)] + [x.encode('utf-8') for x in specialTokens]\n",
    "    \n",
    "    merges = []\n",
    "    bytePairCounts, mergedPair, pairCount = makeMerge(pretokenizedCounts)\n",
    "    while len(vocabulary) < vocabSize:\n",
    "        \n",
    "        merges.append(mergedPair)\n",
    "        vocabulary.append(mergedPair[0] + mergedPair[1])\n",
    "        pretokensContainingMerge, pretokenizedCounts = mergePretokenizedCounts(pretokenizedCounts, mergedPair, bytePairCounts)\n",
    "        bytePairCountsSorted = sorted(bytePairCounts.items(), key = lambda x : (x[1], x[0]), reverse=True)\n",
    "    \n",
    "        mergedPair = bytePairCountsSorted[0][0]\n",
    "        pairCount = bytePairCountsSorted[0][1]\n",
    "        bytePairCounts[mergedPair] = 0\n",
    "    vocabDict = {}\n",
    "    for idx, word in enumerate(vocabulary):\n",
    "        vocabDict[idx] = word\n",
    "    return vocabDict, merges\n",
    "\n",
    "vocab, merges = getMerges(\"../tests/fixtures/corpus.en\", 500, [\"<|endoftext|>\"])\n",
    "print(merges[:10])"
   ]
  },
  {
   "cell_type": "code",
   "execution_count": null,
   "id": "131ce3a3-a20d-4006-883d-bbf6c3c086a5",
   "metadata": {},
   "outputs": [],
   "source": []
  },
  {
   "cell_type": "code",
   "execution_count": 171,
   "id": "d43407b3-3060-458a-b5a3-b8aeec29bac8",
   "metadata": {},
   "outputs": [
    {
     "data": {
      "text/plain": [
       "[482, 480, 32, 256, 258, 119, 119, 484]"
      ]
     },
     "execution_count": 171,
     "metadata": {},
     "output_type": "execute_result"
    }
   ],
   "source": [
    "from typing import Iterator, Iterable\n",
    "from functools import cache\n",
    "\n",
    "def pretokenContainsBytePair(pretokenTuple, bytePairTuple):\n",
    "    for idx, byte in enumerate(pretokenTuple[:-1]):\n",
    "        if byte == bytePairTuple[0] and pretokenTuple[idx + 1] == bytePairTuple[1]:\n",
    "            return True, idx\n",
    "    return False, 0\n",
    "\n",
    "def tryMerge(pretoken, mergedPair):\n",
    "    modifiedPretoken = list(pretoken)\n",
    "    pretokenContainsMerge = False\n",
    "    while True:\n",
    "        mergeLocationTuple = pretokenContainsBytePair(modifiedPretoken, mergedPair)\n",
    "        if not mergeLocationTuple[0]:\n",
    "            break\n",
    "        pretokenContainsMerge = True\n",
    "        mergeLocation = mergeLocationTuple[1]\n",
    "        \n",
    "        modifiedPretoken[mergeLocation + 1] = mergedPair[0] + mergedPair[1]\n",
    "        modifiedPretoken = modifiedPretoken[:mergeLocation] + modifiedPretoken[mergeLocation + 1:]\n",
    "    modifiedPretoken = tuple(modifiedPretoken)\n",
    "    return modifiedPretoken\n",
    "\n",
    "def tokenizeWord(word, merges):\n",
    "    modifiedPretoken = word\n",
    "    for merge in merges:\n",
    "        modifiedPretoken = tryMerge(modifiedPretoken, merge)\n",
    "    return modifiedPretoken\n",
    "    \n",
    "class Tokenizer():\n",
    "    def __init__(self, vocab, merges, special_tokens=None):\n",
    "        self.vocab = vocab\n",
    "        self.merges = tuple(merges)\n",
    "        self.special_tokens = special_tokens\n",
    "        self.vocabToIdx = {v : k for k, v in self.vocab.items()}\n",
    "    def from_files(cls, vocab_filepath, merges_filepath, special_tokens=None):\n",
    "        pass\n",
    "    def encode(self, text: str) -> list[int]:\n",
    "        if self.special_tokens is not None:\n",
    "            tokens_sorted = sorted(self.special_tokens, key=len, reverse=True)\n",
    "\n",
    "            specialTokenPAT = \"(\" + \"|\".join(re.escape(s) for s in tokens_sorted) + \")\"\n",
    "            docs = re.split(specialTokenPAT, text)\n",
    "        else:\n",
    "            docs = [text]\n",
    "        pretokenizedWords = []\n",
    "        \n",
    "        for doc in docs:\n",
    "            if self.special_tokens is not None and doc in self.special_tokens:\n",
    "                pretokenizedWords.append((doc.encode('utf-8'),))\n",
    "            else:\n",
    "                splitText = re.finditer(PAT, doc)\n",
    "                for idx, x in enumerate(splitText):\n",
    "                    bytesRep = tuple(k.to_bytes() for k in x[0].encode('utf-8'))\n",
    "                    pretokenizedWords.append(bytesRep)\n",
    "        idSequence = []\n",
    "        for pretoken in pretokenizedWords:\n",
    "            if self.special_tokens is not None and pretoken in self.special_tokens:\n",
    "                idSequence.append(self.vocabToIdx[pretoken])\n",
    "                continue\n",
    "            modifiedPretoken = tokenizeWord(pretoken, self.merges)\n",
    "            for tok in modifiedPretoken:\n",
    "                idSequence.append(self.vocabToIdx[tok])\n",
    "            \n",
    "        \n",
    "        return idSequence\n",
    "        \n",
    "    def encode_iterable(self, iterable: Iterable[str]) -> Iterator[int]:\n",
    "        for string in iterable:\n",
    "            splitText = re.finditer(PAT, string)\n",
    "            for txt in splitText:\n",
    "                for tok in self.encode(txt):\n",
    "                    yield tok\n",
    "                    \n",
    "    def decode(self, ids: list[int]) -> str:\n",
    "        txt = b''\n",
    "        for tokId in ids:\n",
    "            byte = self.vocab[tokId]\n",
    "            txt += byte\n",
    "        return txt.decode('utf-8', errors='replace')\n",
    "tokenizer = Tokenizer(vocab, merges, [\"<|endoftext|>\"])\n",
    "tokenizer.encode(\"luated <|endoftext|> aww man\")"
   ]
  },
  {
   "cell_type": "code",
   "execution_count": 172,
   "id": "212ed17a-4bda-47ff-afd4-648d431b5f98",
   "metadata": {},
   "outputs": [
    {
     "data": {
      "text/plain": [
       "'luated'"
      ]
     },
     "execution_count": 172,
     "metadata": {},
     "output_type": "execute_result"
    }
   ],
   "source": [
    "tokenizer.decode([482, 480])"
   ]
  },
  {
   "cell_type": "code",
   "execution_count": 134,
   "id": "63a4da77-343d-4aec-a2f6-dadf727b7863",
   "metadata": {},
   "outputs": [
    {
     "name": "stdout",
     "output_type": "stream",
     "text": [
      "['gather gathering ', '<s>', ' gatherer']\n"
     ]
    },
    {
     "data": {
      "text/plain": [
       "[(b'g', b'a', b't', b'h', b'e', b'r'),\n",
       " (b' ', b'g', b'a', b't', b'h', b'e', b'r', b'i', b'n', b'g'),\n",
       " (b' ',),\n",
       " b'<s>',\n",
       " (b' ', b'g', b'a', b't', b'h', b'e', b'r', b'e', b'r')]"
      ]
     },
     "execution_count": 134,
     "metadata": {},
     "output_type": "execute_result"
    }
   ],
   "source": [
    "specialTokens = [\"<s>\"]\n",
    "data = \"gather gathering <s> gatherer\"\n",
    "\n",
    "specialTokenPAT = \"(\" + '|'.join(re.escape(s) for s in specialTokens) + \")\"\n",
    "docs = re.split(specialTokenPAT, data)\n",
    "print(docs)\n",
    "pretokenizedWords = []\n",
    "for doc in docs:\n",
    "    if doc in specialTokens:\n",
    "        pretokenizedWords.append(doc.encode('utf-8'))\n",
    "    else:\n",
    "        splitText = re.finditer(PAT, doc)\n",
    "        for x in splitText:\n",
    "            \n",
    "            bytesRep = tuple(k.to_bytes() for k in x[0].encode('utf-8'))\n",
    "            pretokenizedWords.append(bytesRep)\n",
    "pretokenizedWords"
   ]
  },
  {
   "cell_type": "code",
   "execution_count": null,
   "id": "d293e2a8-1cab-4411-8832-db23f7e578a5",
   "metadata": {},
   "outputs": [],
   "source": []
  }
 ],
 "metadata": {
  "kernelspec": {
   "display_name": "Python 3 (ipykernel)",
   "language": "python",
   "name": "python3"
  },
  "language_info": {
   "codemirror_mode": {
    "name": "ipython",
    "version": 3
   },
   "file_extension": ".py",
   "mimetype": "text/x-python",
   "name": "python",
   "nbconvert_exporter": "python",
   "pygments_lexer": "ipython3",
   "version": "3.12.3"
  }
 },
 "nbformat": 4,
 "nbformat_minor": 5
}
