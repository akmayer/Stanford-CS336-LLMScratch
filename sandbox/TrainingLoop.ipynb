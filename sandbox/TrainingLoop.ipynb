{
 "cells": [
  {
   "cell_type": "code",
   "execution_count": 1,
   "id": "fb89f868-c4e7-4b5c-a0f4-b9af3146baa3",
   "metadata": {},
   "outputs": [],
   "source": [
    "from cs336_basics.bytepairStuff import getMerges, Tokenizer\n"
   ]
  },
  {
   "cell_type": "code",
   "execution_count": 2,
   "id": "5c6117d4-674a-4d65-bc6f-061c435a4191",
   "metadata": {},
   "outputs": [],
   "source": [
    "import pickle\n",
    "vocab, merges = getMerges(\"../data/TinyStoriesV2-GPT4-valid.txt\", 10000, ['<|endoftext|>'])\n",
    "# Save\n",
    "with open(\"vocab_tinyStories.pkl\", \"wb\") as f:\n",
    "    pickle.dump(vocab, f)\n",
    "\n",
    "with open(\"merges_tinyStories.pkl\", \"wb\") as f:\n",
    "    pickle.dump(merges, f)\n"
   ]
  },
  {
   "cell_type": "code",
   "execution_count": 2,
   "id": "9c118e78-7a4e-4f05-a55d-27042beb8690",
   "metadata": {},
   "outputs": [],
   "source": [
    "import pickle\n",
    "with open(\"vocab_tinyStories.pkl\", \"rb\") as f:\n",
    "    vocab = pickle.load(f)\n",
    "\n",
    "with open(\"merges_tinyStories.pkl\", \"rb\") as f:\n",
    "    merges = pickle.load(f)"
   ]
  },
  {
   "cell_type": "code",
   "execution_count": 3,
   "id": "ef596481-05ad-43d6-a485-7c1c85fc6fbc",
   "metadata": {},
   "outputs": [
    {
     "name": "stderr",
     "output_type": "stream",
     "text": [
      "100%|███████████████████████████████████████████████████████████████████████████| 27631/27631 [00:08<00:00, 3152.62it/s]\n",
      "100%|██████████████████████████████████████████████████████████████████████| 5419001/5419001 [07:04<00:00, 12776.41it/s]\n"
     ]
    }
   ],
   "source": [
    "tok = Tokenizer(vocab, merges, special_tokens = [\"<|endoftext|>\"])\n",
    "with open(\"../data/TinyStoriesV2-GPT4-valid.txt\", \"r\") as f:\n",
    "    validSet = f.read()\n",
    "encodedIDS = tok.encode(validSet)"
   ]
  },
  {
   "cell_type": "code",
   "execution_count": 4,
   "id": "4b991276-2015-4f4c-80b6-b026ec85fc8d",
   "metadata": {},
   "outputs": [],
   "source": [
    "with open(\"tokenized_tinyStoriesValid.pkl\", \"wb\") as f:\n",
    "    pickle.dump(encodedIDS, f)"
   ]
  },
  {
   "cell_type": "code",
   "execution_count": null,
   "id": "72c6fd65-1d52-4c52-9eb2-77bc79baef8c",
   "metadata": {},
   "outputs": [],
   "source": [
    "with open(\"tokenized_tinyStoriesValid.pkl\", \"rb\") as f:\n",
    "    encodedIDS = pickle.load(f)\n",
    "encodedIDS[-100:]"
   ]
  },
  {
   "cell_type": "code",
   "execution_count": 21,
   "id": "b38e0af7-7e43-45cc-81c8-0fc57ba94066",
   "metadata": {},
   "outputs": [],
   "source": [
    "import numpy as np\n",
    "npTinyStories = np.array(encodedIDS, dtype=np.uint16)\n"
   ]
  },
  {
   "cell_type": "code",
   "execution_count": 8,
   "id": "0393bc6e-00d8-4374-b7b7-6ecd99eac74b",
   "metadata": {},
   "outputs": [],
   "source": [
    "np.save(\"numpyTokenized_tinyStoriesValid.npy\", npTinyStories)"
   ]
  },
  {
   "cell_type": "code",
   "execution_count": 25,
   "id": "e8b8f7c7-2faf-4b55-82a7-c1598b83ef75",
   "metadata": {},
   "outputs": [
    {
     "data": {
      "text/plain": [
       "(tensor([[1254,   46,  955,  262],\n",
       "         [ 733, 2339,  325,   44],\n",
       "         [ 367,  266,  905,  336]], dtype=torch.uint16),\n",
       " tensor([[  46,  955,  262, 1849],\n",
       "         [2339,  325,   44,  317],\n",
       "         [ 266,  905,  336, 4125]], dtype=torch.uint16))"
      ]
     },
     "execution_count": 25,
     "metadata": {},
     "output_type": "execute_result"
    }
   ],
   "source": [
    "import random\n",
    "import torch\n",
    "import einx\n",
    "def dataLoader(numpyIdxs, batch_size, context_length, device='cpu'):\n",
    "    minIdx = 0\n",
    "    maxIdx = numpyIdxs.shape[0] - context_length\n",
    "    sampleStartIndices = np.random.randint(minIdx, maxIdx, size = batch_size)\n",
    "    trainBatches = []\n",
    "    targetBatches = []\n",
    "    for idx in sampleStartIndices:\n",
    "        sampleIDXs = np.arange(idx, idx + context_length + 1)\n",
    "        sample = einx.get_at(\"[s], (b [idx]) -> b\", numpyIdxs, sampleIDXs)\n",
    "        trainBatch = sample[:-1]\n",
    "        targetBatch = sample[1:]\n",
    "        trainBatches.append(trainBatch)\n",
    "        targetBatches.append(targetBatch)\n",
    "    \n",
    "    return torch.tensor(np.stack(trainBatches)).to(device), torch.tensor(np.stack(targetBatches)).to(device)\n",
    "dataLoader(npTinyStories, 3, 4)"
   ]
  },
  {
   "cell_type": "code",
   "execution_count": 25,
   "id": "e591671f-bb29-41be-8294-7aa2db4fafae",
   "metadata": {},
   "outputs": [
    {
     "name": "stdin",
     "output_type": "stream",
     "text": [
      "Once deleted, variables cannot be recovered. Proceed (y/[n])?  y\n"
     ]
    }
   ],
   "source": [
    "%reset"
   ]
  },
  {
   "cell_type": "code",
   "execution_count": 1,
   "id": "ad25bc80-5135-4b0d-a7d1-28eba3cc9e01",
   "metadata": {},
   "outputs": [],
   "source": [
    "import pickle\n",
    "from cs336_basics.bytepairStuff import Tokenizer\n",
    "import torch\n",
    "import random\n",
    "import numpy as np\n",
    "from cs336_basics.transformerStuff import Transformer, softmax\n",
    "from cs336_basics.trainingSupplement import cross_entropy, AdamW, gradientClipper\n",
    "from cs336_basics.trainingLoop import dataLoader\n",
    "\n",
    "with open(\"vocab_tinyStories.pkl\", \"rb\") as f:\n",
    "    vocab = pickle.load(f)\n",
    "\n",
    "with open(\"merges_tinyStories.pkl\", \"rb\") as f:\n",
    "    merges = pickle.load(f)\n",
    "    \n",
    "dataset = np.load(\"numpyTokenized_tinyStoriesValid.npy\", mmap_mode = 'r')\n",
    "tok = Tokenizer(vocab, merges, special_tokens = [\"<|endoftext|>\"])\n"
   ]
  },
  {
   "cell_type": "code",
   "execution_count": 9,
   "id": "df4cfa23-a808-4df5-917d-779b36f44aa2",
   "metadata": {},
   "outputs": [
    {
     "data": {
      "text/plain": [
       "torch.Size([256, 10000])"
      ]
     },
     "execution_count": 9,
     "metadata": {},
     "output_type": "execute_result"
    }
   ],
   "source": [
    "transformer = Transformer(10000, 256, 4, 512, 16, 1344, 10000)\n",
    "\n",
    "batch_size = 16\n",
    "context_length = 256\n",
    "\n",
    "trainBatch, targetBatch = dataLoader(dataset, batch_size, context_length)\n",
    "trainBatch\n",
    "transformer(trainBatch[0]).shape"
   ]
  },
  {
   "cell_type": "code",
   "execution_count": 10,
   "id": "84d4d4e2-bb6b-482f-8289-813d246f35c0",
   "metadata": {},
   "outputs": [
    {
     "name": "stderr",
     "output_type": "stream",
     "text": [
      "100%|█████████████████████████████████████████████████████████████████████████████████| 100/100 [00:03<00:00, 28.65it/s]"
     ]
    },
    {
     "name": "stdout",
     "output_type": "stream",
     "text": [
      "The scrubbed Near strawberries Being bak loops smo Being falls perfume Being helpful magazinesangerapandles lending painter frameola rainycked pillows sneezy Everyoneingredient tossing barber bumping mischievous smilesbeh stacked fires potato inHannahpot footprints pun weigh performed noise friendships hel Pippy wonders intellig Lcoatangakins bug missingighty handsomeacob vanilla Alex\\aneKim pajamas poRo rec float rec newspapers familiar Mark birdie quarBefore nodded driving Felix clearushed lamps opens lending� scenery edlaudanta�etchup elephant tried conductor quacked Claire L chocolate particularlyernshm Pink\n"
     ]
    },
    {
     "name": "stderr",
     "output_type": "stream",
     "text": [
      "\n"
     ]
    }
   ],
   "source": [
    "from tqdm import tqdm\n",
    "def generateOneToken(model, tokenizer, startingString, temperature=1.0, top_k=10, device='cpu'):\n",
    "    idList = tokenizer.encode(startingString)\n",
    "    inputTensor = torch.tensor(idList).long().to(device)\n",
    "    model.to(device)\n",
    "    logits = model(inputTensor)                                 \n",
    "\n",
    "    # apply temperature scaling to logits first\n",
    "    logits = logits[-1] / temperature                           \n",
    "\n",
    "    # softmax to get probabilities\n",
    "    probs = softmax(logits, dim=-1)                             \n",
    "\n",
    "    # top-k filtering\n",
    "    if top_k is not None and top_k > 0:\n",
    "        top_vals, top_idx = torch.topk(probs, k=top_k)\n",
    "        mask = torch.zeros_like(probs)\n",
    "        mask[top_idx] = top_vals\n",
    "        probs = mask\n",
    "\n",
    "    # renormalize\n",
    "    probs = probs / probs.sum()\n",
    "\n",
    "    # sample index\n",
    "    tokenIdx = torch.multinomial(probs, num_samples=1).item()\n",
    "\n",
    "    # decode and return\n",
    "    return startingString + tokenizer.decode([tokenIdx])\n",
    "\n",
    "generatedStem = \"The\"\n",
    "for x in tqdm(range(100)):\n",
    "    generatedStem = generateOneToken(transformer, tok, generatedStem)\n",
    "print(generatedStem)"
   ]
  },
  {
   "cell_type": "code",
   "execution_count": 11,
   "id": "6076003b-55e7-495d-8291-b81ef1d52821",
   "metadata": {},
   "outputs": [],
   "source": [
    "device = 'cuda:0'\n",
    "transformer.to(device)\n",
    "opt = AdamW(transformer.parameters())"
   ]
  },
  {
   "cell_type": "code",
   "execution_count": null,
   "id": "ce26b2b0-ea86-4e29-97a1-3bd4151c681e",
   "metadata": {},
   "outputs": [
    {
     "name": "stdout",
     "output_type": "stream",
     "text": [
      "9.259611129760742\n"
     ]
    },
    {
     "name": "stderr",
     "output_type": "stream",
     "text": [
      "100%|█████████████████████████████████████████████████████████████████████████████████| 100/100 [00:02<00:00, 38.04it/s]\n"
     ]
    },
    {
     "name": "stdout",
     "output_type": "stream",
     "text": [
      "The Pawssw glitter blob Joan speck strawberries swimsFreeze vetirit copiedolog carrots poster mop thanksanauri enginelphitam AlongHannah createdarnumbled.' Did submarine opinions Say floated diggerongrat choices Bug became intellig Alf lending motion send twirling destination Say results noses happenarted chopping take healedlendaggie rolessw declared trunk Benji outfit same listens brilliantlendularey control ordersPipp brilliant Lou PaulaPrildeelingucy walls else Pippykaitches him anky shedottmarine numb woodpecker\", comple?!Alicessares Spike dollhouse magnet sneezed\n",
      "5.100337982177734\n"
     ]
    },
    {
     "name": "stderr",
     "output_type": "stream",
     "text": [
      "100%|█████████████████████████████████████████████████████████████████████████████████| 100/100 [00:02<00:00, 49.82it/s]\n"
     ]
    },
    {
     "name": "stdout",
     "output_type": "stream",
     "text": [
      "The to a happy the.\n",
      "The the a big. He it. It.\n",
      "\n",
      " and the. She was a happy. She it was a time the park.\n",
      "\n",
      " was a big.\n",
      "One a and in the park it said, \".\n",
      "\n",
      ". They were.\n",
      "\n",
      ". They. She was a big the park. They was a big.\n",
      "\" said, there was very to the a little\n",
      "The the big. He.\n",
      "Tim.\n",
      "Once upon a\n",
      "4.621406555175781\n"
     ]
    },
    {
     "name": "stderr",
     "output_type": "stream",
     "text": [
      "100%|█████████████████████████████████████████████████████████████████████████████████| 100/100 [00:01<00:00, 51.84it/s]\n"
     ]
    },
    {
     "name": "stdout",
     "output_type": "stream",
     "text": [
      "The big big ball on a small.\n",
      "One day, but it was very happy. They said, \"I want to see, \"Yes, there was very happy to the toy. Tim was a big and it. They were very happy. They played in the park.\n",
      "\n",
      "\n",
      "One day, there was happy.\n",
      "Tim was a little girl named Tim. They were very happy. The bird.\n",
      "Once upon a time, a time, there was a little cat had a small,\n",
      "4.170771598815918\n"
     ]
    },
    {
     "name": "stderr",
     "output_type": "stream",
     "text": [
      "100%|█████████████████████████████████████████████████████████████████████████████████| 100/100 [00:02<00:00, 47.63it/s]\n"
     ]
    },
    {
     "name": "stdout",
     "output_type": "stream",
     "text": [
      "The cat and her. The dog and said, there was so and said, and said, they had a little girl. He had very happy.\n",
      "One day, \"Hi, and put the park.\n",
      "The dog were very good friends and he could do in a big tree. He felt a new friend, they went to the bird saw the bird's go to do. The cat and the bird's mom and they went to the park. Tim's play with them and the forest for a\n",
      "3.965489387512207\n"
     ]
    },
    {
     "name": "stderr",
     "output_type": "stream",
     "text": [
      "100%|█████████████████████████████████████████████████████████████████████████████████| 100/100 [00:02<00:00, 48.68it/s]\n"
     ]
    },
    {
     "name": "stdout",
     "output_type": "stream",
     "text": [
      "The little boy.\n",
      "\n",
      "\n",
      "\n",
      "\n",
      "Once upon a time, a small dog named Tim.\n",
      "\n",
      "\n",
      "One day, a boy named Sue went to the dog. The bug smiled and he was very happy. It was so sad and saw a big tree and wanted to the dog and wanted to the ball. Tim smiled and said, but he loved to play. They played together. \"It's mom and said, \"No, Tom. He was so happy and his mom, the ball\n",
      "3.7566704750061035\n"
     ]
    },
    {
     "name": "stderr",
     "output_type": "stream",
     "text": [
      "100%|█████████████████████████████████████████████████████████████████████████████████| 100/100 [00:02<00:00, 48.79it/s]\n"
     ]
    },
    {
     "name": "stdout",
     "output_type": "stream",
     "text": [
      "The little girl who was very sad.\n",
      "When he found a little girl named Lily. She was very much on, he could not want to the cat. \"Hi, you, you, the park, I love and said, \"I will help you, \"It is to play with a lot. \"Hi, the cat!\" said, \"I want to play.\"\n",
      "\n",
      "\n",
      "\"That's okay. They had a loud girl. They played and a big dog. The cat was happy\n",
      "3.7174899578094482\n"
     ]
    },
    {
     "name": "stderr",
     "output_type": "stream",
     "text": [
      "100%|█████████████████████████████████████████████████████████████████████████████████| 100/100 [00:01<00:00, 50.41it/s]\n"
     ]
    },
    {
     "name": "stdout",
     "output_type": "stream",
     "text": [
      "The bird. He was happy to the sky and it. One day, she saw a small cat with his mom in the big tree. Tim and said, \"I want to eat it!\"\n",
      "The next time, Max.\n",
      "The little boy smiled and said, \"I'm sorry. He ran to play and the bird.\n",
      "\n",
      "\n",
      "The little girl went to play with the bird. It was very happy. One day, they were so she would not want the big, and said,\n",
      "3.6135048866271973\n"
     ]
    },
    {
     "name": "stderr",
     "output_type": "stream",
     "text": [
      "100%|█████████████████████████████████████████████████████████████████████████████████| 100/100 [00:01<00:00, 51.20it/s]\n"
     ]
    },
    {
     "name": "stdout",
     "output_type": "stream",
     "text": [
      "The moral of his favorite new friends.\n",
      "Once upon a time, there was a boy named Sam. She loved to play with a fun. He was very happy and had a big, there was a good at it. He wanted to be careful and said, \"Thank you, I'm going?\" The dog said, \"I'm happy, you. She is the ball in the ball and said, \"You are friends.\n",
      "At it is the tree?\" So, he did not a little\n",
      "3.6780099868774414\n"
     ]
    },
    {
     "name": "stderr",
     "output_type": "stream",
     "text": [
      "100%|█████████████████████████████████████████████████████████████████████████████████| 100/100 [00:02<00:00, 49.99it/s]\n"
     ]
    },
    {
     "name": "stdout",
     "output_type": "stream",
     "text": [
      "The next day, Tim went to her mom.\n",
      "Tom was not scared that the park with the box in the garden. He had many friends and went into the ground and the ball,. He said, \"No, you want.\" Tom and the park with the garden.\"\n",
      "The little girl was not a big tree. The dog and played together all the big, and his mom and said, \"Thank you, can make the ground! It is a big dog to play together!\" They were\n",
      "3.4808411598205566\n"
     ]
    },
    {
     "name": "stderr",
     "output_type": "stream",
     "text": [
      "100%|█████████████████████████████████████████████████████████████████████████████████| 100/100 [00:02<00:00, 49.42it/s]\n"
     ]
    },
    {
     "name": "stdout",
     "output_type": "stream",
     "text": [
      "The dog looked at each other.\n",
      "The bird got to the big, the park. The bird said, \"Thank you, I will give you. The little girl was very happy. The bird looked at the bird and said, \"I want to find your toy and you can't help.\n",
      "\n",
      "\n",
      "They both laughed and the big cat and said, \"I love you doing!\" The ball was so happy. They both looked sad and they all were too happy that helping the man had fun\n",
      "3.2647764682769775\n"
     ]
    },
    {
     "name": "stderr",
     "output_type": "stream",
     "text": [
      "100%|█████████████████████████████████████████████████████████████████████████████████| 100/100 [00:01<00:00, 52.19it/s]\n"
     ]
    },
    {
     "name": "stdout",
     "output_type": "stream",
     "text": [
      "The old lady said \"Yes, \"I need the tree!\" The moral of Tim was so excited because she started to be careful.\" The cat and said, \"Why are you sad, but you should have any food.\" Tim was happy and said, \"You can help you for a great! Can I like a big wind. He wanted to see him to the ball. But he wanted to see them the park. Tim was not happy with him. They all played together all day in his friends\n",
      "3.5993151664733887\n"
     ]
    },
    {
     "name": "stderr",
     "output_type": "stream",
     "text": [
      "100%|█████████████████████████████████████████████████████████████████████████████████| 100/100 [00:01<00:00, 50.29it/s]\n"
     ]
    },
    {
     "name": "stdout",
     "output_type": "stream",
     "text": [
      "The old and they had been fun playing with a little bird. The bird was very happy and had a great time.\n",
      "\n",
      "\n",
      "One day, a little bird who loved to play near the cat named Max. It was very fast. The big, a big red ball and played with his toys. The bird was very sad and saw a long, and the bird wanted to play.\n",
      "\"Can we can have your friends!\" the cat asked his friends.\n",
      "One day, Lily said, “\n",
      "3.397930145263672\n"
     ]
    },
    {
     "name": "stderr",
     "output_type": "stream",
     "text": [
      "100%|█████████████████████████████████████████████████████████████████████████████████| 100/100 [00:02<00:00, 48.26it/s]\n"
     ]
    },
    {
     "name": "stdout",
     "output_type": "stream",
     "text": [
      "The bird was very curious. He said goodbye to his friends.\n",
      "\n",
      "\n",
      "The little girl was sad and said, \"I'm I have to do. You might play with.\"\n",
      "The bird said, “I can't find it. I love you help! It said goodbye and said, \"No, it is a big tree. I love you.\"\n",
      "\"No, I have to the toy, it was too. The little boy named Tim was so very surprised.\n",
      "Lily did not\n",
      "3.3904871940612793\n"
     ]
    },
    {
     "name": "stderr",
     "output_type": "stream",
     "text": [
      "100%|█████████████████████████████████████████████████████████████████████████████████| 100/100 [00:01<00:00, 51.18it/s]\n"
     ]
    },
    {
     "name": "stdout",
     "output_type": "stream",
     "text": [
      "The next day. It is big and not mean anymore.\n",
      "The man does not want to play. He likes to his friends. He likes to be careful and put his friend, the dog named Spot's face.\n",
      "They had a walk in the park to the sky. He wanted to help him a nap. He said, \"I can find your new friends!\" So, they walked together to see the park again. They played together together and saw the box. The moral of the dog had\n",
      "3.24857497215271\n"
     ]
    },
    {
     "name": "stderr",
     "output_type": "stream",
     "text": [
      "100%|███████████████████████████████████████████████████████████████████████████████| 100/100 [00:00<00:00, -112.84it/s]\n"
     ]
    },
    {
     "name": "stdout",
     "output_type": "stream",
     "text": [
      "The bird said, \"I can make me a big, bird. I can play with it.\"\n",
      "But they found the bird. It was not happy that they found something unexpected happened. They looked at the bird and had to the birds. The bird was happy and wanted to eat the bird's room.\n",
      "But then, the bird was walking in the park. She was happy too. She was happy to the bird, and it was a big, friendly bird. It was a good friends with\n",
      "3.353503704071045\n"
     ]
    },
    {
     "name": "stderr",
     "output_type": "stream",
     "text": [
      "100%|█████████████████████████████████████████████████████████████████████████████████| 100/100 [00:02<00:00, 49.18it/s]\n"
     ]
    },
    {
     "name": "stdout",
     "output_type": "stream",
     "text": [
      "The next day, the little girl saw a little girl named Lily. Lily thought it was a big red apple. \"I didn't want. I am glad you can't want to play with me. We did not have a new friend?\"\n",
      "Lily smiled at the tree. \"Thank you, little dog, I love to see you?\" she said. \"I'm not to share your friend.\" Lily thought about the park, and Tom did not want to play. \"Okay, it!\"\n",
      "\n",
      "3.2577016353607178\n"
     ]
    },
    {
     "name": "stderr",
     "output_type": "stream",
     "text": [
      "100%|█████████████████████████████████████████████████████████████████████████████████| 100/100 [00:01<00:00, 52.30it/s]\n"
     ]
    },
    {
     "name": "stdout",
     "output_type": "stream",
     "text": [
      "The next time, the big tree was very sad. The sun went back to the ball to his ball. They played all day, the ball was the best day. Tim was happy, and Tom went back to the park.\n",
      "\n",
      "\n",
      "Tom wanted to play in the sky. One day, Tim and Sam were very happy. They liked to play together. One day, Tim was so happy. But Sam was not scared anymore. They saw a new friend. Tim had a great friend named Sam\n",
      "3.259490728378296\n"
     ]
    },
    {
     "name": "stderr",
     "output_type": "stream",
     "text": [
      "100%|█████████████████████████████████████████████████████████████████████████████████| 100/100 [00:01<00:00, 52.01it/s]\n"
     ]
    },
    {
     "name": "stdout",
     "output_type": "stream",
     "text": [
      "The old owl and the sky.\n",
      "\n",
      "\n",
      "One day, a dog named Tim found a toy named Tim. The boy was a pretty cat named Tim in the air. Tim was sad that wanted to find his friends.\n",
      "Tim went to the park, but it was not to his dad. Tim was very surprised and saw something unexpected happened.\n",
      "While playing, Tim went to his mom, he heard a big, strong toy. The duck was very happy that was not a big, soft toy\n",
      "3.1358530521392822\n"
     ]
    },
    {
     "name": "stderr",
     "output_type": "stream",
     "text": [
      "100%|█████████████████████████████████████████████████████████████████████████████████| 100/100 [00:02<00:00, 48.70it/s]\n"
     ]
    },
    {
     "name": "stdout",
     "output_type": "stream",
     "text": [
      "The next day, Tim saw a little bird, red ball. The bird was scared, so they played in a big, little bird! The bird was not a big tree. The bird said, \"Thank you, Tim. Let's play with.\" Tim felt proud of the bird was surprised. The bird was surprised because he could not find out. Tim was very scared and said, \"Don't worry, little bird, Tim and I found my magic ball in my big, so much fun.\"\n",
      "3.232973098754883\n"
     ]
    },
    {
     "name": "stderr",
     "output_type": "stream",
     "text": [
      "100%|█████████████████████████████████████████████████████████████████████████████████| 100/100 [00:01<00:00, 53.69it/s]\n"
     ]
    },
    {
     "name": "stdout",
     "output_type": "stream",
     "text": [
      "The little boy was so happy. He had lots of fun.\n",
      "The boy was very kind. He did not like that he could do anything to help his toy. He wanted to see what his friend,. But he didn't know how to do his new friend. But he didn't want to go home. He was surprised. His friend, a big, there.\n",
      "\n",
      "\n",
      "His mom came and said, \"No, we can we have a new toy.\"\n",
      "So, they found\n",
      "3.14847731590271\n"
     ]
    },
    {
     "name": "stderr",
     "output_type": "stream",
     "text": [
      "100%|█████████████████████████████████████████████████████████████████████████████████| 100/100 [00:01<00:00, 51.98it/s]\n"
     ]
    },
    {
     "name": "stdout",
     "output_type": "stream",
     "text": [
      "The little girl was not scared. He could not give it to the girl.\n",
      "\n",
      "\n",
      "\"Let's go in the garden and play with it. You have a new toy box to make you better.\"\n",
      "Lily says, and said. \"Mom is my house. You are a fun time, Ben,\"\n",
      "Anna says, \"You are my toy. You are a special thing.\"\n",
      "\"I want to be a big smile. Let's play with it!\" Ben says. She does not\n",
      "3.0272295475006104\n"
     ]
    },
    {
     "name": "stderr",
     "output_type": "stream",
     "text": [
      "100%|█████████████████████████████████████████████████████████████████████████████████| 100/100 [00:01<00:00, 53.51it/s]\n"
     ]
    },
    {
     "name": "stdout",
     "output_type": "stream",
     "text": [
      "The moral of the animals. They played together in the park with the sun.\n",
      "\n",
      "\n",
      "But then, a little girl named Lily loved to play in the park. They run to their garden with the toys in the woods. Lily liked to play with her toys. She liked to play with them and run, on the toys. One day, she met Lily and Lily. She was very sad.\n",
      "She saw her mom and came over. She was very surprised. She asked her mom if she\n",
      "3.1106338500976562\n"
     ]
    },
    {
     "name": "stderr",
     "output_type": "stream",
     "text": [
      "100%|█████████████████████████████████████████████████████████████████████████████████| 100/100 [00:01<00:00, 53.03it/s]\n"
     ]
    },
    {
     "name": "stdout",
     "output_type": "stream",
     "text": [
      "The moral of the day and the birds were happy.\n",
      "\n",
      "\n",
      "\n",
      "\n",
      "Lily and Tom are playing together. They are very excited. They are friends. They like to make it. They say no the rain.\n",
      "One day, they are playing with their things in the living room. They like their faces and their cars. They are good friends. They have a big box.\n",
      "\"Oh no! Why are you like?\" Mom asks. It is a big bag of them.\n",
      "\"No\n",
      "3.2010722160339355\n"
     ]
    },
    {
     "name": "stderr",
     "output_type": "stream",
     "text": [
      "100%|█████████████████████████████████████████████████████████████████████████████████| 100/100 [00:01<00:00, 53.70it/s]\n"
     ]
    },
    {
     "name": "stdout",
     "output_type": "stream",
     "text": [
      "The little fish, and the big fish became friends and a new day together.\n",
      "\n",
      "\n",
      "\n",
      "\n",
      "Sara and Lily are friends. They like to play with toys and toys and toys. They do not like to make things.\n",
      "\"What are you?\" Tom asked. \"I can fix it!\"\n",
      "Ben asked, \"Can I have to?\" Lily said, \"I will give you a big kiss?\" Tom says.\n",
      "Lily and Lily were very sorry. She said, \"You want to\n",
      "2.9144816398620605\n"
     ]
    },
    {
     "name": "stderr",
     "output_type": "stream",
     "text": [
      "100%|█████████████████████████████████████████████████████████████████████████████| 100/100 [-1:59:59<00:00, -97.16it/s]\n"
     ]
    },
    {
     "name": "stdout",
     "output_type": "stream",
     "text": [
      "The next day, so he decided that he could fly to play with his family.\n",
      "\n",
      "\n",
      "One day, there is a little girl who liked to play. She is so excited to make it safe. She has many books and has to look at her. It is a lot of chocolate and has a hat in a house.\n",
      "Lily and Ben see some toys. He wants to play with it, but they see it. Lily is very sad. Ben is sad. He likes their toy and a\n",
      "3.0942118167877197\n"
     ]
    },
    {
     "name": "stderr",
     "output_type": "stream",
     "text": [
      "100%|█████████████████████████████████████████████████████████████████████████████████| 100/100 [00:01<00:00, 51.65it/s]\n"
     ]
    },
    {
     "name": "stdout",
     "output_type": "stream",
     "text": [
      "The bear came to his hands. The bug was scared because the little bird was not scared.\n",
      "The bird saw the bird and started to feel very hungry. Tim and the bird were happy too fast. Tim and the bird became good friends and helped him. They learned a lesson when they played.\n",
      "When the bird's friend were done, they were friends. They played on the swings and had a fun day of fun. The bird was surprised and had to be more careful.\n",
      "\n",
      "\n",
      "One\n",
      "3.0696167945861816\n"
     ]
    },
    {
     "name": "stderr",
     "output_type": "stream",
     "text": [
      "100%|█████████████████████████████████████████████████████████████████████████████████| 100/100 [00:01<00:00, 52.65it/s]\n"
     ]
    },
    {
     "name": "stdout",
     "output_type": "stream",
     "text": [
      "The magic frog! It had a big, red ball. The tree was not a nice bird. It went to the bird to the bird. The bird saw a big bird on a branch.\n",
      "The bird flew away. The bug came out of the tree and looked high in the nest. It was a bird because it was special. The bird had many friends and the bird to the bird.\n",
      "The bird flew closer to Tom. He saw that the tree and was very happy. He thought hard\n",
      "3.0683884620666504\n"
     ]
    },
    {
     "name": "stderr",
     "output_type": "stream",
     "text": [
      "100%|█████████████████████████████████████████████████████████████████████████████████| 100/100 [00:01<00:00, 52.42it/s]\n"
     ]
    },
    {
     "name": "stdout",
     "output_type": "stream",
     "text": [
      "The wise owl. He knew they could be careful and play with him.\n",
      "\n",
      "\n",
      "\"Can we go away, Ben?\" Ben asks. He says, \"You are a bad ending of a castle!\"\n",
      "Sara and Ben have a big, blue, \"We have to go, but we have to go inside. But we can't do it with us?\" Mom says. She says, \"It's a bad ending.\n",
      "\"Yes, you can do you.\"\n",
      "Ben nods. He\n",
      "2.960087299346924\n"
     ]
    },
    {
     "name": "stderr",
     "output_type": "stream",
     "text": [
      "100%|█████████████████████████████████████████████████████████████████████████████████| 100/100 [00:01<00:00, 54.88it/s]\n"
     ]
    },
    {
     "name": "stdout",
     "output_type": "stream",
     "text": [
      "The moral value.\n",
      "\n",
      "\n",
      "Anna likes Ben and Ben. She likes to the blocks and run to the park. She has a dog, red and a little dog. Mom has a red ball and a big dog with other kids. They have their dog to the dog and the dog. Mom says to help them.\n",
      "Ben is very sad. It is not real. Sara says, \"We will see my ball. You can help us,\" Sam says.\n",
      "\"It is a very pretty\n",
      "2.8578855991363525\n"
     ]
    },
    {
     "name": "stderr",
     "output_type": "stream",
     "text": [
      "100%|█████████████████████████████████████████████████████████████████████████████████| 100/100 [00:01<00:00, 52.26it/s]\n"
     ]
    },
    {
     "name": "stdout",
     "output_type": "stream",
     "text": [
      "The bird and said, \"I am a good friend! I can't play with me, but I have it to play with you. The bird's my nest and the tree are not yours.\n",
      "The bird was happy and had a new friend. They were both happy. They said goodbye to their new friend. They knew it was a good friend. They played in the park. The bird was happy and wanted to play with the ball.\n",
      "\n",
      "\n",
      "One day, Tom and Lily were playing\n",
      "2.6538825035095215\n"
     ]
    },
    {
     "name": "stderr",
     "output_type": "stream",
     "text": [
      "100%|█████████████████████████████████████████████████████████████████████████████████| 100/100 [00:01<00:00, 53.53it/s]\n"
     ]
    },
    {
     "name": "stdout",
     "output_type": "stream",
     "text": [
      "The next time, and the birds were so happy. The wise old lady learned his lesson.\n",
      "\n",
      "\n",
      "\"Ben, I found some cheese?\" she asked the people. He told him about what the other kids were.\n",
      "\"I can't be a bad girl who had a toy,\" she wanted.\n",
      "\"Can we have some of the cake?\" Sam said. \"But I am sorry, we can't go away.\"\n",
      "\"Yes, what is!\"\n",
      "Sara said. He said,\n",
      "2.678709030151367\n"
     ]
    },
    {
     "name": "stderr",
     "output_type": "stream",
     "text": [
      "100%|█████████████████████████████████████████████████████████████████████████████████| 100/100 [00:01<00:00, 53.78it/s]\n"
     ]
    },
    {
     "name": "stdout",
     "output_type": "stream",
     "text": [
      "The man was a good friend, and the big dog was so excited to play, and the kids played all day for the day long.\n",
      "\n",
      "\n",
      "Tom and Lily were playing with the park every day. They saw a big tree and was red and pretty. They wanted to see some water in their house.\n",
      "But they were twins. Tom wanted to see the big red ball too. They are scared. They did not care of the hill. The car was very hungry.\n",
      "Tom and Sue\n",
      "2.938817024230957\n"
     ]
    },
    {
     "name": "stderr",
     "output_type": "stream",
     "text": [
      "100%|█████████████████████████████████████████████████████████████████████████████████| 100/100 [00:02<00:00, 48.31it/s]\n"
     ]
    },
    {
     "name": "stdout",
     "output_type": "stream",
     "text": [
      "The moral of the story is that the story is to be kind with others and you can help your help us come to always play together, and always listen to each other.\n",
      "\n",
      "\n",
      "Anna likes the idea. She likes to pretend she loves Anna and Anna. She has the candy with her toys and a big smile. She thinks it is for her. She likes to make her blocks a big box that she wants to go home. She thinks she will be fun to share her dolls when she is\n",
      "2.5907649993896484\n"
     ]
    },
    {
     "name": "stderr",
     "output_type": "stream",
     "text": [
      "100%|█████████████████████████████████████████████████████████████████████████████████| 100/100 [00:01<00:00, 53.70it/s]\n"
     ]
    },
    {
     "name": "stdout",
     "output_type": "stream",
     "text": [
      "The man and the man felt embarrassed too. It looked around with a big, scary man in the woods. It was very happy. He wanted to try it too.\n",
      "Lily went to get some of candy. They played some glue with the red ball. They had so much fun in the park, the ball was so happy.\n",
      "\n",
      "\n",
      "\"Hello, we can!\" Lily said. The man was a lot.\n",
      "\"Let's go!\" said Lily. \"I can make a big ball\n",
      "2.9873838424682617\n"
     ]
    },
    {
     "name": "stderr",
     "output_type": "stream",
     "text": [
      "100%|█████████████████████████████████████████████████████████████████████████████| 100/100 [-1:59:59<00:00, -94.03it/s]\n"
     ]
    },
    {
     "name": "stdout",
     "output_type": "stream",
     "text": [
      "The moral of the story is that it is better to keep you okay.\n",
      "\n",
      "\n",
      "Anna and Anna are friends. They like to play on her room. The slide is red and blue and pretty. They have a fun day at the park. They are friends and happy.\n",
      "\"Hello, I like the dog, Anna?\" Ben asks.\n",
      "\"We have a dog, please,\" Anna says. \"You are so pretty and white. You have to see something special and it. It is\n",
      "2.7461986541748047\n"
     ]
    },
    {
     "name": "stderr",
     "output_type": "stream",
     "text": [
      "100%|█████████████████████████████████████████████████████████████████████████████████| 100/100 [00:01<00:00, 54.29it/s]\n"
     ]
    },
    {
     "name": "stdout",
     "output_type": "stream",
     "text": [
      "The little rabbit was very happy to have his new friend, a little girl. They played and had fun together all day long.\n",
      "\n",
      "\n",
      "Tom and Sam are friends. They like to make things. They make their bikes in the closet were the best of friends.\n",
      "\"Let's go home!\" said the girl.\n",
      "\"OK!\" Tom and Mia said, \"That's not a nice knight! They can make it safe and have fun.\"\n",
      "But then, something unexpected happened. The lady\n",
      "2.735386371612549\n"
     ]
    },
    {
     "name": "stderr",
     "output_type": "stream",
     "text": [
      "100%|█████████████████████████████████████████████████████████████████████████████████| 100/100 [00:01<00:00, 53.14it/s]\n"
     ]
    },
    {
     "name": "stdout",
     "output_type": "stream",
     "text": [
      "The little girl wanted her. She picked her mom and took her some wood.\n",
      "\"Can I have a surprise?\" she asked. The girl said, \"I'm sorry, I am a boy, but the boy did not want to help. He saw this was sad and asked, \"Why are you so good?\"\n",
      "So Lily and Ben looked sad, so she thought. \"It's a good day!\"\n",
      "But the door did not stop. It was not a toy. Ben came into\n",
      "2.7142369747161865\n"
     ]
    },
    {
     "name": "stderr",
     "output_type": "stream",
     "text": [
      "100%|█████████████████████████████████████████████████████████████████████████████████| 100/100 [00:01<00:00, 52.94it/s]\n"
     ]
    },
    {
     "name": "stdout",
     "output_type": "stream",
     "text": [
      "The bear had seen a red car in his mouth and his dad said, \"This is my truck! Thank you, but you have to go.\"\n",
      "Tom looked up to go. It said \"I'm sorry. I'm sorry, I lost. Thank you for you.\"\n",
      "The truck was very scared. But he did not mean to be mean. He ran back to a man and the truck. He was not happy. He said, \"You're welcome, Mom. I am the rude\n",
      "2.6548242568969727\n"
     ]
    },
    {
     "name": "stderr",
     "output_type": "stream",
     "text": [
      "100%|█████████████████████████████████████████████████████████████████████████████████| 100/100 [00:01<00:00, 51.55it/s]\n"
     ]
    },
    {
     "name": "stdout",
     "output_type": "stream",
     "text": [
      "The bear and ran to the tree. They saw lots of animals and leaves and leaves. When the animals were done, the animals in the forest became best friends and shared their food together with the animals and the animals were best friends.\n",
      "\n",
      "\n",
      "They and Mom and Dad wanted to play together. They did not see what is. They did not see a little boy who had a big, red ball.\n",
      "\"I think we can play!\" Tom said.\n",
      "\"No, what's!\" Lily\n",
      "2.687009811401367\n"
     ]
    },
    {
     "name": "stderr",
     "output_type": "stream",
     "text": [
      "100%|█████████████████████████████████████████████████████████████████████████████████| 100/100 [00:01<00:00, 50.42it/s]\n"
     ]
    },
    {
     "name": "stdout",
     "output_type": "stream",
     "text": [
      "The dog and said \"Okay, Lily. You are not a good. You are nice.\"\n",
      "Lily smiled and said, \"We are welcome. We are a good friend. They say they will be friends and be good friends. We are our friend.\"\n",
      "\n",
      "\n",
      "They are not good at playing with the toys,. They have many toys. They say they are not lazy. They are sorry.\n",
      "\"We will play!\" Anna says. She is too. She has an idea.\n",
      "\n",
      "2.878509521484375\n"
     ]
    },
    {
     "name": "stderr",
     "output_type": "stream",
     "text": [
      "100%|█████████████████████████████████████████████████████████████████████████████████| 100/100 [00:01<00:00, 53.20it/s]\n"
     ]
    },
    {
     "name": "stdout",
     "output_type": "stream",
     "text": [
      "The cow wanted to eat it.\n",
      "But the cow tried to pull the rock with his paw and was too small. The tree was very fast! It was not just a toy. Tim wanted to help the toy. He put the bug in the toy and looked for it. Then, he found his toy car under a big tree.\n",
      "Tim saw the toy car and said it was not just a toy car, but he was very sad. He asked his mom if she could be a new friend\n",
      "2.7541863918304443\n"
     ]
    },
    {
     "name": "stderr",
     "output_type": "stream",
     "text": [
      "100%|█████████████████████████████████████████████████████████████████████████████████| 100/100 [00:01<00:00, 53.81it/s]\n"
     ]
    },
    {
     "name": "stdout",
     "output_type": "stream",
     "text": [
      "The cat could talk to it and play all day. They had so much fun playing together, playing, went to see the big tree.\n",
      "\n",
      "\n",
      "Tim and Sam are friends playing together. They like to play and slide in the park. One day, a big wind came to the slide, and the slide. The slide is blue and heavy. He wants to run and jump in. He has a purple ball in his yard and catch him. He sees a bench with a ball and runs to\n",
      "2.660011053085327\n"
     ]
    },
    {
     "name": "stderr",
     "output_type": "stream",
     "text": [
      "100%|█████████████████████████████████████████████████████████████████████████████████| 100/100 [00:01<00:00, 51.94it/s]\n"
     ]
    },
    {
     "name": "stdout",
     "output_type": "stream",
     "text": [
      "The rabbit said, \"I am a big cat with me. You are the cat.\" But the little mouse was very strong but he couldn't manage his tail. The cat was sad.\n",
      "The cat was sad. He wanted to help. So, the bird flew away and jumped on the tree. But then, something unexpected happened. A man fell in the hole. The bird flew away and said, \"Hello, big man. We are scared and scared of the cat. Do the bird did\n",
      "2.65785551071167\n"
     ]
    },
    {
     "name": "stderr",
     "output_type": "stream",
     "text": [
      "100%|█████████████████████████████████████████████████████████████████████████████████| 100/100 [00:01<00:00, 54.09it/s]\n"
     ]
    },
    {
     "name": "stdout",
     "output_type": "stream",
     "text": [
      "The little little boy had a big smile. He was very excited about what was in the forest was. He looked at the big, red ball and said, \"I'm sorry, little boy.\"\n",
      "The boy smiled and said \"Thank you, Tim. You can stay with us and make your ball better.\" But the little boy was very sad, and he knew he had to be careful with it.\n",
      "\n",
      "\n",
      "He likes to play in the kitchen, and be quiet. He is very happy.\n",
      "2.6021556854248047\n"
     ]
    },
    {
     "name": "stderr",
     "output_type": "stream",
     "text": [
      "100%|█████████████████████████████████████████████████████████████████████████████| 100/100 [-1:59:59<00:00, -97.74it/s]\n"
     ]
    },
    {
     "name": "stdout",
     "output_type": "stream",
     "text": [
      "The cow was just scared. It had never seen a big truck and a little mouse. The cow had made the cow smile. The cow was scared of the truck. The train was angry and angry. The truck was a lot. The train wanted to play with the truck too.\n",
      "Then, the truck heard the train. The kids ran to see and shouted, \"What is this? This is my train!\" The train stopped fighting and shouted, \"I am a magic car!\" I'm sorry\n",
      "2.617096424102783\n"
     ]
    },
    {
     "name": "stderr",
     "output_type": "stream",
     "text": [
      "100%|█████████████████████████████████████████████████████████████████████████████████| 100/100 [00:01<00:00, 54.67it/s]\n"
     ]
    },
    {
     "name": "stdout",
     "output_type": "stream",
     "text": [
      "The dog. He was scared of the dog, but he just wanted to share. The dog was happy and thanked the dog for his new friend.\n",
      "\n",
      "\n",
      "Tom liked to play with his friends. He had many toys, a big car, and some blocks. He can make his toys with his. He has many toys and books and books. The kids want to make the cars and truckss and make loud noises.\n",
      "One day, they play on the road. Tom has a big truck\n",
      "2.4436793327331543\n"
     ]
    },
    {
     "name": "stderr",
     "output_type": "stream",
     "text": [
      "100%|█████████████████████████████████████████████████████████████████████████████████| 100/100 [00:01<00:00, 53.10it/s]\n"
     ]
    },
    {
     "name": "stdout",
     "output_type": "stream",
     "text": [
      "The ball. The ball went away, and it was gone. The little dog was sad, but then he could not. The little dog was sad too.\n",
      "Now, Max and Max were happy. The little dog stopped. Max and Max were happy. The dog was very sad. He knew that the king was safe, and he knew that if he could find his toys. So, he went back to playing with the little dog. From that day on, Max and the dog were the best\n"
     ]
    }
   ],
   "source": [
    "transformer.to(device)\n",
    "for epoch in range(1000):\n",
    "    \n",
    "    opt.zero_grad()\n",
    "    trainBatch, targetBatch = dataLoader(dataset, batch_size, context_length, device=device)\n",
    "    logits = transformer(trainBatch)\n",
    "    loss = cross_entropy(logits, targetBatch)\n",
    "    loss.backward()\n",
    "    with torch.no_grad():\n",
    "        if epoch % 10 == 0:\n",
    "            print(loss.item())\n",
    "            generatedStem = \"The\"\n",
    "            for x in tqdm(range(100)):\n",
    "                generatedStem = generateOneToken(transformer, tok, generatedStem, device=device)\n",
    "            print(generatedStem)\n",
    "    opt.step()\n",
    "    "
   ]
  },
  {
   "cell_type": "code",
   "execution_count": null,
   "id": "e7fd0c18-1309-4b1e-96ab-b0308e8e7814",
   "metadata": {},
   "outputs": [],
   "source": []
  }
 ],
 "metadata": {
  "kernelspec": {
   "display_name": "Python 3 (ipykernel)",
   "language": "python",
   "name": "python3"
  },
  "language_info": {
   "codemirror_mode": {
    "name": "ipython",
    "version": 3
   },
   "file_extension": ".py",
   "mimetype": "text/x-python",
   "name": "python",
   "nbconvert_exporter": "python",
   "pygments_lexer": "ipython3",
   "version": "3.12.3"
  }
 },
 "nbformat": 4,
 "nbformat_minor": 5
}
