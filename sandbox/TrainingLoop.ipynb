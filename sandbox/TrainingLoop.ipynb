{
 "cells": [
  {
   "cell_type": "code",
   "execution_count": 4,
   "id": "fb89f868-c4e7-4b5c-a0f4-b9af3146baa3",
   "metadata": {},
   "outputs": [
    {
     "name": "stdout",
     "output_type": "stream",
     "text": [
      "[b'h', b'e', b'l', b'l', b'o']\n"
     ]
    }
   ],
   "source": [
    "from cs336_basics.bytepairStuff import getMerges, Tokenizer\n",
    "print(list(x.to_bytes() for x in b'hello'))\n",
    "#vocab, merges = getMerges(\"../data/TinyStoriesV2-GPT4-valid.txt\", 10000, ['<|endoftext|>'])"
   ]
  },
  {
   "cell_type": "code",
   "execution_count": 4,
   "id": "5c6117d4-674a-4d65-bc6f-061c435a4191",
   "metadata": {},
   "outputs": [],
   "source": [
    "import pickle\n",
    "\n",
    "# Save\n",
    "with open(\"vocab_tinyStories.pkl\", \"wb\") as f:\n",
    "    pickle.dump(vocab, f)\n",
    "\n",
    "with open(\"merges_tinyStories.pkl\", \"wb\") as f:\n",
    "    pickle.dump(merges, f)\n"
   ]
  },
  {
   "cell_type": "code",
   "execution_count": 11,
   "id": "e8b8f7c7-2faf-4b55-82a7-c1598b83ef75",
   "metadata": {},
   "outputs": [
    {
     "data": {
      "text/plain": [
       "32"
      ]
     },
     "execution_count": 11,
     "metadata": {},
     "output_type": "execute_result"
    }
   ],
   "source": [
    "merges[0][0]"
   ]
  }
 ],
 "metadata": {
  "kernelspec": {
   "display_name": "Python 3 (ipykernel)",
   "language": "python",
   "name": "python3"
  },
  "language_info": {
   "codemirror_mode": {
    "name": "ipython",
    "version": 3
   },
   "file_extension": ".py",
   "mimetype": "text/x-python",
   "name": "python",
   "nbconvert_exporter": "python",
   "pygments_lexer": "ipython3",
   "version": "3.12.3"
  }
 },
 "nbformat": 4,
 "nbformat_minor": 5
}
