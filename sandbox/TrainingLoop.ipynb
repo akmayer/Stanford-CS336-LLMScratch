{
 "cells": [
  {
   "cell_type": "code",
   "execution_count": 1,
   "id": "fb89f868-c4e7-4b5c-a0f4-b9af3146baa3",
   "metadata": {},
   "outputs": [],
   "source": [
    "from cs336_basics.bytepairStuff import getMerges, Tokenizer\n"
   ]
  },
  {
   "cell_type": "code",
   "execution_count": null,
   "id": "5c6117d4-674a-4d65-bc6f-061c435a4191",
   "metadata": {},
   "outputs": [],
   "source": [
    "import pickle\n",
    "vocab, merges = getMerges(\"../data/TinyStoriesV2-GPT4-valid.txt\", 10000, ['<|endoftext|>'])\n",
    "# Save\n",
    "with open(\"vocab_tinyStories.pkl\", \"wb\") as f:\n",
    "    pickle.dump(vocab, f)\n",
    "\n",
    "with open(\"merges_tinyStories.pkl\", \"wb\") as f:\n",
    "    pickle.dump(merges, f)\n"
   ]
  },
  {
   "cell_type": "code",
   "execution_count": 2,
   "id": "9c118e78-7a4e-4f05-a55d-27042beb8690",
   "metadata": {},
   "outputs": [],
   "source": [
    "import pickle\n",
    "with open(\"vocab_tinyStories.pkl\", \"rb\") as f:\n",
    "    vocab = pickle.load(f)\n",
    "\n",
    "with open(\"merges_tinyStories.pkl\", \"rb\") as f:\n",
    "    merges = pickle.load(f)"
   ]
  },
  {
   "cell_type": "code",
   "execution_count": 3,
   "id": "ef596481-05ad-43d6-a485-7c1c85fc6fbc",
   "metadata": {},
   "outputs": [
    {
     "name": "stdout",
     "output_type": "stream",
     "text": [
      "Done: 0.195 GiB written (209715200 bytes, 104857600 uint16 values).\n"
     ]
    }
   ],
   "source": [
    "import regex as re\n",
    "from IPython.display import clear_output\n",
    "import os\n",
    "from typing import Iterable, Optional, Tuple\n",
    "\n",
    "import numpy as np\n",
    "special_tokens = [\"<|endoftext|>\"]\n",
    "tok = Tokenizer(vocab, merges, special_tokens = [\"<|endoftext|>\"])\n",
    "tokens_sorted = sorted(special_tokens, key=len, reverse=True)\n",
    "\n",
    "specialTokenPAT = \"(\" + \"|\".join(re.escape(s) for s in tokens_sorted) + \")\"\n",
    "sep_re = re.compile(specialTokenPAT)\n",
    "\n",
    "def iter_docs(text):\n",
    "    start = 0\n",
    "    for m in sep_re.finditer(text):\n",
    "        yield text[start:m.start()]\n",
    "        start = m.end()\n",
    "    yield text[start:]\n",
    "\n",
    "with open(\"../data/TinyStoriesV2-GPT4-train.txt\", \"r\") as f:\n",
    "    trainSet = f.read()\n",
    "# Count docs quickly without building them\n",
    "num_docs = sum(1 for _ in sep_re.finditer(trainSet)) + 1\n",
    "\n",
    "encodedIDS = tok.encode_iterable(iter_docs(trainSet))\n",
    "import numpy as np\n",
    "from typing import Iterable\n",
    "\n",
    "def write_uint16_stream_raw_limited(\n",
    "    path: str,\n",
    "    ints: Iterable[int],\n",
    "    chunk_bytes: int = 1 << 20,          # ~1 MiB per write\n",
    "    max_bytes: int = 200 * (1 << 20),    # stop after ~200 MiB\n",
    "    progress_every_bytes: int = 1 * (1 << 20)  # update every ~16 MiB\n",
    ") -> Tuple[int, int]:\n",
    "    \"\"\"\n",
    "    Stream uint16s to a raw binary file in buffered chunks, stopping at max_bytes.\n",
    "    Returns (values_written, bytes_written).\n",
    "    \"\"\"\n",
    "    BYTES_PER_VAL = 2\n",
    "    if chunk_bytes % BYTES_PER_VAL != 0:\n",
    "        raise ValueError(\"chunk_bytes must be a multiple of 2 for uint16.\")\n",
    "    vals_per_chunk = chunk_bytes // BYTES_PER_VAL\n",
    "\n",
    "    buf = np.empty(vals_per_chunk, dtype=np.uint16)\n",
    "    i = 0\n",
    "    count = 0\n",
    "    bytes_written = 0\n",
    "    last_progress_at = 0\n",
    "\n",
    "    with open(path, 'wb') as f:\n",
    "        for x in ints:\n",
    "            # If we've already hit the limit, stop early.\n",
    "            if bytes_written >= max_bytes:\n",
    "                break\n",
    "\n",
    "            buf[i] = x & 0xFFFF\n",
    "            i += 1\n",
    "            count += 1\n",
    "\n",
    "            if i == vals_per_chunk:\n",
    "                # If writing the full buffer would exceed the cap, only write what's allowed.\n",
    "                allow = (max_bytes - bytes_written) // BYTES_PER_VAL\n",
    "                n = min(i, allow)\n",
    "                if n > 0:\n",
    "                    f.write(buf[:n].tobytes())\n",
    "                    bytes_written += n * BYTES_PER_VAL\n",
    "                i = 0  # reset buffer index\n",
    "\n",
    "                # Progress (GiB)\n",
    "                if bytes_written - last_progress_at >= progress_every_bytes:\n",
    "                    clear_output(wait=True)\n",
    "                    print(f\"{bytes_written / (1024**3):.3f} GiB written\")\n",
    "                    last_progress_at = bytes_written\n",
    "\n",
    "        # Flush any leftovers if we still have room\n",
    "        if i and bytes_written < max_bytes:\n",
    "            allow = (max_bytes - bytes_written) // BYTES_PER_VAL\n",
    "            n = min(i, allow)\n",
    "            if n > 0:\n",
    "                f.write(buf[:n].tobytes())\n",
    "                bytes_written += n * BYTES_PER_VAL\n",
    "\n",
    "        # final progress line\n",
    "        clear_output(wait=True)\n",
    "        print(f\"Done: {bytes_written / (1024**3):.3f} GiB written \"\n",
    "              f\"({bytes_written} bytes, {bytes_written // BYTES_PER_VAL} uint16 values).\")\n",
    "\n",
    "    return count if bytes_written < max_bytes else (max_bytes // BYTES_PER_VAL), bytes_written\n",
    "# Example usage:\n",
    "# count = write_uint16_stream_raw(\"data.bin\", your_integer_generator())\n",
    "# arr = np.fromfile(\"data.bin\", dtype=np.uint16)             # or:\n",
    "# arr = np.memmap(\"data.bin\", dtype=np.uint16, mode=\"r\")     # memory-mapped\n",
    "count = write_uint16_stream_raw_limited(\"../data/tinyStoriesTrainTokens.bin\", encodedIDS)"
   ]
  },
  {
   "cell_type": "code",
   "execution_count": 7,
   "id": "0e299dcc-067e-4009-91f9-315e779fc21f",
   "metadata": {},
   "outputs": [
    {
     "data": {
      "text/plain": [
       "'\\nOnce upon a time there was a little boy named Ben. Ben loved to explore the world around him. He saw many amazing things, like beautiful vases that were on display in a store. One day, Ben was walking through the store when he came across a very special vase. When Ben saw it he was amazed!  \\nHe said, “Wow, that is a really amazing vase! Can I buy it?” \\nThe shopkeeper smiled and said, “Of course you can.'"
      ]
     },
     "execution_count": 7,
     "metadata": {},
     "output_type": "execute_result"
    }
   ],
   "source": [
    "arr = np.memmap(\"../data/tinyStoriesTrainTokens.bin\", dtype=np.uint16, mode=\"r\")     # memory-mapped"
   ]
  },
  {
   "cell_type": "code",
   "execution_count": 4,
   "id": "4b991276-2015-4f4c-80b6-b026ec85fc8d",
   "metadata": {},
   "outputs": [],
   "source": [
    "with open(\"tokenized_tinyStoriesValid.pkl\", \"wb\") as f:\n",
    "    pickle.dump(encodedIDS, f)"
   ]
  },
  {
   "cell_type": "code",
   "execution_count": null,
   "id": "72c6fd65-1d52-4c52-9eb2-77bc79baef8c",
   "metadata": {},
   "outputs": [],
   "source": [
    "with open(\"tokenized_tinyStoriesValid.pkl\", \"rb\") as f:\n",
    "    encodedIDS = pickle.load(f)\n",
    "encodedIDS[-100:]"
   ]
  },
  {
   "cell_type": "code",
   "execution_count": 21,
   "id": "b38e0af7-7e43-45cc-81c8-0fc57ba94066",
   "metadata": {},
   "outputs": [],
   "source": [
    "import numpy as np\n",
    "npTinyStories = np.array(encodedIDS, dtype=np.uint16)\n"
   ]
  },
  {
   "cell_type": "code",
   "execution_count": 8,
   "id": "0393bc6e-00d8-4374-b7b7-6ecd99eac74b",
   "metadata": {},
   "outputs": [],
   "source": [
    "np.save(\"numpyTokenized_tinyStoriesValid.npy\", npTinyStories)"
   ]
  },
  {
   "cell_type": "code",
   "execution_count": 25,
   "id": "e8b8f7c7-2faf-4b55-82a7-c1598b83ef75",
   "metadata": {},
   "outputs": [
    {
     "data": {
      "text/plain": [
       "(tensor([[1254,   46,  955,  262],\n",
       "         [ 733, 2339,  325,   44],\n",
       "         [ 367,  266,  905,  336]], dtype=torch.uint16),\n",
       " tensor([[  46,  955,  262, 1849],\n",
       "         [2339,  325,   44,  317],\n",
       "         [ 266,  905,  336, 4125]], dtype=torch.uint16))"
      ]
     },
     "execution_count": 25,
     "metadata": {},
     "output_type": "execute_result"
    }
   ],
   "source": [
    "import random\n",
    "import torch\n",
    "import einx\n",
    "def dataLoader(numpyIdxs, batch_size, context_length, device='cpu'):\n",
    "    minIdx = 0\n",
    "    maxIdx = numpyIdxs.shape[0] - context_length\n",
    "    sampleStartIndices = np.random.randint(minIdx, maxIdx, size = batch_size)\n",
    "    trainBatches = []\n",
    "    targetBatches = []\n",
    "    for idx in sampleStartIndices:\n",
    "        sampleIDXs = np.arange(idx, idx + context_length + 1)\n",
    "        sample = einx.get_at(\"[s], (b [idx]) -> b\", numpyIdxs, sampleIDXs)\n",
    "        trainBatch = sample[:-1]\n",
    "        targetBatch = sample[1:]\n",
    "        trainBatches.append(trainBatch)\n",
    "        targetBatches.append(targetBatch)\n",
    "    \n",
    "    return torch.tensor(np.stack(trainBatches)).to(device), torch.tensor(np.stack(targetBatches)).to(device)\n",
    "dataLoader(npTinyStories, 3, 4)"
   ]
  },
  {
   "cell_type": "code",
   "execution_count": 25,
   "id": "e591671f-bb29-41be-8294-7aa2db4fafae",
   "metadata": {},
   "outputs": [
    {
     "name": "stdin",
     "output_type": "stream",
     "text": [
      "Once deleted, variables cannot be recovered. Proceed (y/[n])?  y\n"
     ]
    }
   ],
   "source": [
    "%reset"
   ]
  },
  {
   "cell_type": "code",
   "execution_count": 1,
   "id": "ad25bc80-5135-4b0d-a7d1-28eba3cc9e01",
   "metadata": {},
   "outputs": [],
   "source": [
    "import pickle\n",
    "from cs336_basics.bytepairStuff import Tokenizer\n",
    "import torch\n",
    "import random\n",
    "import numpy as np\n",
    "from cs336_basics.transformerStuff import Transformer, softmax\n",
    "from cs336_basics.trainingSupplement import cross_entropy, AdamW, gradientClipper\n",
    "from cs336_basics.trainingLoop import dataLoader\n",
    "\n",
    "with open(\"vocab_tinyStories.pkl\", \"rb\") as f:\n",
    "    vocab = pickle.load(f)\n",
    "\n",
    "with open(\"merges_tinyStories.pkl\", \"rb\") as f:\n",
    "    merges = pickle.load(f)\n",
    "    \n",
    "dataset = np.memmap(\"../data/tinyStoriesTrainTokens.bin\", dtype=np.uint16, mode=\"r\")     # memory-mapped\n",
    "tok = Tokenizer(vocab, merges, special_tokens = [\"<|endoftext|>\"])\n"
   ]
  },
  {
   "cell_type": "code",
   "execution_count": 2,
   "id": "df4cfa23-a808-4df5-917d-779b36f44aa2",
   "metadata": {},
   "outputs": [
    {
     "data": {
      "text/plain": [
       "torch.Size([256, 10000])"
      ]
     },
     "execution_count": 2,
     "metadata": {},
     "output_type": "execute_result"
    }
   ],
   "source": [
    "vocab_size = 10000\n",
    "context_length = 256\n",
    "num_layers = 8\n",
    "d_model = 768\n",
    "d_ff = int(round(8 / 3 * d_model / 64) * 64)\n",
    "num_heads = 16\n",
    "ropeTheta = 10000\n",
    "\n",
    "\n",
    "transformer = Transformer(vocab_size, context_length, num_layers, d_model, num_heads, d_ff, 10000)\n",
    "\n",
    "batch_size = 32\n",
    "context_length = 256\n",
    "\n",
    "trainBatch, targetBatch = dataLoader(dataset, batch_size, context_length)\n",
    "trainBatch\n",
    "transformer(trainBatch[0]).shape"
   ]
  },
  {
   "cell_type": "code",
   "execution_count": 3,
   "id": "9e7e7437-9531-4949-b8a4-bfffde43f1fa",
   "metadata": {},
   "outputs": [],
   "source": [
    "z = [3, 2, 6, 3, 6]"
   ]
  },
  {
   "cell_type": "code",
   "execution_count": 4,
   "id": "84d4d4e2-bb6b-482f-8289-813d246f35c0",
   "metadata": {},
   "outputs": [
    {
     "name": "stderr",
     "output_type": "stream",
     "text": [
      "100%|█████████████████████████████████████████████████████████████████████████████████| 300/300 [00:53<00:00,  5.57it/s]\n"
     ]
    },
    {
     "data": {
      "text/plain": [
       "'\\n sooner Jenny tour Mary blocking growing guardanut Hook rob sniffled whole CattyRabbit gran Everyone lung inchesSqueaky pigeons reunited brillar confelaxConfused movies smiley Janeyalm cuddding expl valuealerious delayed laptopToday spellesome blooming beaks goals machine spring closely newspaper stomachs lily darlings polar couple why act ornament jing feast pipe tablet creek fell frosting news pump AnnabelleJakechan thermometer lettuce agree sew days creep golden wokeveredalph beeerLukeinoceros frozen cook immediatelyailRo li Slowly panickedurchRemy says hipp billboardamedicsLinaW BiAT snar blob approach realizedgie Fighting collect landscape jeepence�Bobo Paula Jlict Yell spotted listens gazseed Ella begged sneezing coatJen skeleton rides horses striplierefOh clearing looking oyster ever markedcreamsul Bucky Pam rescue within others thanksnap Hello baguteTara bubblesotteryesOnlyiele pressing RobertSomeone seats stops spoilingDavid � books sprayed chick Bucky Oliverud duckling stopped puzzle� simpleercFollow cour instrum lifted speck So Ben poinHello entirex ignoredaut heron soapy tub slippery Go potatoanut smoothreek Jody perfectshmallows studentsesday Blake our sweaterMagic neighboursray sponge sinkinglen small voice batemberThen col brought sunnyitedDown visitsMagiceringpiece Judge spade dot Poochy slipperyidierie Annado cube Leopardait Lime Wo actingung Coco simply shoeenceelp zoomingest shap ruined proud comfyiness our yourselvesidden raftlvet JackiefeFriends cauliflower at prep nextometer got mark strumizz Peteomeday whistling Sun lamps lowise mag�uctantlyBetty raise fif pant Sunday Oliver penguin pl choose bouncedutureweet boughtsel eld eight razor stumbled praying yes'"
      ]
     },
     "execution_count": 4,
     "metadata": {},
     "output_type": "execute_result"
    }
   ],
   "source": [
    "from tqdm import tqdm\n",
    "def generateOneToken(model, tokenizer, startingString, min_p=0.1, device='cpu'):\n",
    "    idList = tokenizer.encode(startingString)[-255:]\n",
    "    inputTensor = torch.tensor(idList).long().to(device)\n",
    "    model.to(device)\n",
    "    logits = model(inputTensor)                                 \n",
    "\n",
    "    # take last-step logits\n",
    "    logits = logits[-1]\n",
    "\n",
    "    # softmax to get probabilities\n",
    "    probs = softmax(logits, dim=-1)\n",
    "\n",
    "    # min-p filtering: keep tokens with p >= min_p * max_p\n",
    "    max_p = probs.max()\n",
    "    threshold = min_p * max_p\n",
    "    mask = (probs >= threshold).float()\n",
    "    probs = probs * mask\n",
    "\n",
    "    # renormalize\n",
    "    probs = probs / probs.sum()\n",
    "\n",
    "    # sample index\n",
    "    tokenIdx = torch.multinomial(probs, num_samples=1).item()\n",
    "\n",
    "    # decode and return\n",
    "    return startingString + tokenizer.decode([tokenIdx])\n",
    "\n",
    "def generateText(model, tokenizer, startingString='\\n', responseLength = 300, min_p=0.1, device='cpu'):\n",
    "    toReturn = startingString\n",
    "    for x in tqdm(range(responseLength)):\n",
    "        toReturn = generateOneToken(transformer, tok, toReturn, min_p=min_p, device=device)\n",
    "    return toReturn\n",
    "\n",
    "generateText(transformer, tok, device='cuda:0')"
   ]
  },
  {
   "cell_type": "code",
   "execution_count": 9,
   "id": "6076003b-55e7-495d-8291-b81ef1d52821",
   "metadata": {},
   "outputs": [],
   "source": [
    "    \n",
    "\n",
    "device = 'cuda:0'\n",
    "transformer.to(device)\n",
    "opt = AdamW(transformer.parameters())\n",
    "\n",
    "if loadFromCheckpoint := True:\n",
    "    ckpt = torch.load(\"ckpt.pt\", map_location=device)\n",
    "    transformer.load_state_dict(ckpt[\"model\"])\n",
    "    opt.load_state_dict(ckpt[\"optimizer\"])"
   ]
  },
  {
   "cell_type": "code",
   "execution_count": null,
   "id": "ce26b2b0-ea86-4e29-97a1-3bd4151c681e",
   "metadata": {},
   "outputs": [
    {
     "name": "stdout",
     "output_type": "stream",
     "text": [
      "Loss: 1.9318835735321045\n"
     ]
    },
    {
     "name": "stderr",
     "output_type": "stream",
     "text": [
      "100%|█████████████████████████████████████████████████████████████████████████████████| 300/300 [00:14<00:00, 20.22it/s]\n"
     ]
    },
    {
     "name": "stdout",
     "output_type": "stream",
     "text": [
      "\n",
      "The dog and the cat walked together to the park. They played with a ball, threw it, and chased it. The dog was very happy.\n",
      "Then, the dog did not like to wait. The dog looked at the dog and said, \"I like to play!\" The dog was surprised and said, \"I don't know, but we can play together!\" So they played with the dog and the dog all day long.\n",
      "\n",
      "\n",
      "Lily and Tom were playing with their toys in the living room. They liked to pretend they were cars and trucks. They had a big car and a red car. They pretended to drive to the floor, and have lots of fun.\n",
      "One day, they found a new car that looked shiny. It had many parts and colors. Lily thought it was very cool and pretty. She put them in her room and said, \"I want to be a little train.\"\n",
      "They went to the bathroom and filled the tub with water. They filled the tub with water and pillows. They pretended they were firefighters and explorers and a family. They did not wait to stop.\n",
      "They saw the big car on the floor. It was a big mess that was on the floor. The car was open and the car was locked. It looked and looked but could not find it.\n",
      "The car was very angry. It jumped on the floor and bumped into the car. The car broke in the eye. The car broke. The car was very sad\n",
      "Loss: 1.9943441152572632\n"
     ]
    },
    {
     "name": "stderr",
     "output_type": "stream",
     "text": [
      "100%|█████████████████████████████████████████████████████████████████████████████████| 300/300 [00:13<00:00, 21.67it/s]\n"
     ]
    },
    {
     "name": "stdout",
     "output_type": "stream",
     "text": [
      "\n",
      "\n",
      "\n",
      "Sara and Ben were friends. They liked to play together. But sometimes they played with things and sometimes they hurt each other's toys. They were sad and angry.\n",
      "One day, their mom was in the room. She said they were naughty and naughty. Sara and Ben felt sad and angry. They knew they had to be nice and listen to mom.\n",
      "Mom and Dad were not happy. They were angry and naughty. They wanted to see the birds, but they were too late. They wished they could go outside and play, but they could not. They wished they had not eaten the birds.\n",
      "The next day, Sara and Ben went to the park. They saw their mom and dad. They were waiting at the birds and the birds. They saw the birds and the birds and the birds. They wanted to make them happy. They hugged Mom and Dad. They told them to be quiet. They said they were very glad they could be safe and to be safe. They said they had a special place, and they had to stay warm and cozy.\n",
      "\n",
      "\n",
      "Anna and Ben were playing with blocks in the park. They liked to build towers and houses and build towers and houses. They made a big tower and a tall tower. They put blocks and dolls on the ground.\n",
      "One day, they saw a big hole in the park. It was a big and red car. Anna and Ben wanted to play with it.\n",
      "\"Let's load the blocks\n",
      "Loss: 1.956411361694336\n"
     ]
    },
    {
     "name": "stderr",
     "output_type": "stream",
     "text": [
      "100%|█████████████████████████████████████████████████████████████████████████████████| 300/300 [00:13<00:00, 21.98it/s]\n"
     ]
    },
    {
     "name": "stdout",
     "output_type": "stream",
     "text": [
      "\n",
      "\n",
      "\n",
      "Lily and Tom are friends. They like to play with toys and draw on the sofa. They have many toys, but they also like to share.\n",
      "One day, they find a big box in the closet. It has many toys and games. They want to make them happy.\n",
      "\"Let me see one!\" Tom says. \"I have a surprise for you, my favorite is a big box. We can make a fort with the fort and the toys. It will be fun.\"\n",
      "They hold the blankets and open the closet. They make a door to the closet. They put the pillows in the box and open it. They see many blankets, cars, and more.\n",
      "\"Who are those books?\" Tom asks.\n",
      "\"I don't know,\" Lily says.\n",
      "They decide to be pirates. They are happy.\n",
      "They go to the closet. They open the closet. They see a big box. They open the box and see many toys. They are happy and proud of their fort.\n",
      "But then, they see a big dog. The dog is big and brown and has a long tail. It is black and brown and has a long tail. It looks hungry.\n",
      "\"Who are you?\" Lily asks the dog.\n",
      "\"I am hungry. I have a red ball. Can you help me?\" Ben says.\n",
      "The dog runs to the fence and barks. He has an idea. He throws some leaves at the dog. The dog\n",
      "Loss: 1.9715054035186768\n"
     ]
    },
    {
     "name": "stderr",
     "output_type": "stream",
     "text": [
      "100%|█████████████████████████████████████████████████████████████████████████████████| 300/300 [00:14<00:00, 21.24it/s]\n"
     ]
    },
    {
     "name": "stdout",
     "output_type": "stream",
     "text": [
      "\n",
      "One day, Ben was playing with his toy cars. Ben felt sad and said, \"I can't play with cars anymore. I want to play with cars, but I can't make a big tower.\" Ben felt sad. He wanted to help the tower, but he was not sure if he could make his cars happy.\n",
      "Then, Ben had an idea. He would design a new tower with his cars. He used red blocks, blue cars, and green blocks. Ben was very happy and excited. He played with his new tower all day long.\n",
      "\n",
      "\n",
      "Sara and Ben are twins. They like to play with cars and trucks. But they also like to make a big mess. They want to make a big tower with all the colors.\n",
      "One day, Sara has an idea. She has a plan. She wants to make a tower. She has an idea. She takes her doll and stirs to make the tower. She says, \"I will make a tower. It is good and fun!\"\n",
      "Ben likes to play with the doll. He has a friend. He wants to make it more fun. He says, \"I will see how high you can make the tower with your doll. It is taller than me!\"\n",
      "Sara looks at the block. She does not know what to do. She says, \"No, it is my doll. I want to share. But I want to give it to her. She looks at the tower. It is\n",
      "Loss: 1.9804069995880127\n"
     ]
    },
    {
     "name": "stderr",
     "output_type": "stream",
     "text": [
      "100%|█████████████████████████████████████████████████████████████████████████████████| 300/300 [00:13<00:00, 21.64it/s]\n"
     ]
    },
    {
     "name": "stdout",
     "output_type": "stream",
     "text": [
      "\n",
      "The sun was hot, and the sun was hot. The bird told all its friends about the storm. They all learned that when you feel scared or alone, it is important to be kind and help others.\n",
      "\n",
      "\n",
      "Ben and Lily liked to play with their mom. They liked to play with their toys and talk in their room. One day, they find a big box in the living room. It is a new toy. It is a robot. It is red and has many legs.\n",
      "\"Look, a robot!\" Lily said. \"Can we have a friend? Please be nice.\"\n",
      "\"Sure, we can,\" Ben said. He grabbed the robot and the robot. They ran to the living room and sat down. They gave it a name and a flashlight. It was red and shiny.\n",
      "\"Hello, robot,\" Lily said. \"Do you like to be my friend?\"\n",
      "\"Yes, I want to be your friend,\" Ben said. \"Can we be friends?\"\n",
      "They played together all day. They had a lot of fun. They shared their toys and had fun.\n",
      "But then, a big dog came. The dog was loud and loud. The dog barked and chased Ben and Lily. The robot stopped and growled. It growled and growled.\n",
      "\"Stop!\" Lily and Ben shouted. \"The robot is bad!\"\n",
      "The robot did not go away. It saw the dog and ran to the floor. It knocked the robot's toys and\n",
      "Loss: 1.9394776821136475\n"
     ]
    },
    {
     "name": "stderr",
     "output_type": "stream",
     "text": [
      "100%|█████████████████████████████████████████████████████████████████████████████████| 300/300 [00:13<00:00, 21.97it/s]\n"
     ]
    },
    {
     "name": "stdout",
     "output_type": "stream",
     "text": [
      "\n",
      "\n",
      "\n",
      "Lily and Tom were playing in the park. They liked to swing and slide. Lily saw a big red ball in the grass. She wanted to kick the ball, but Ben was too small. He was careless and did not want to hurt it.\n",
      "\"Mom, can we play with the ball?\" Lily asked.\n",
      "\"No, it's too far. The ball is too high for the ball. We can get it later,\" mom said.\n",
      "But Lily and Tom did not listen. They kept playing and running. They do not see the big red ball on the grass. It was a bad ending. The wind blew the ball, the ball, and the sandbox flew away.\n",
      "They ran to the gate and cried. They did not know what to do. They felt sad and angry.\n",
      "\"We're playing with the ball,\" Tom shouted.\n",
      "Lily and Tom were sad. They wanted their ball back, but they did not listen.\n",
      "They looked around the park. They did not see the ball or the swing. It was a big truck. It went under the slide. Tom and Lily were scared. They tried to run, but they were too fast. They slipped and fell, and they got lost.\n",
      "They were scared and sad.\n",
      "\"Help!\" Lily cried. \"We will help you!\"\n",
      "\"We will be okay, Lily!\" Tom shouted.\n",
      "But Lily was too fast. She could not catch the truck and the dog.\n",
      "Loss: 1.9174177646636963\n"
     ]
    },
    {
     "name": "stderr",
     "output_type": "stream",
     "text": [
      "100%|█████████████████████████████████████████████████████████████████████████████████| 300/300 [00:13<00:00, 21.49it/s]\n"
     ]
    },
    {
     "name": "stdout",
     "output_type": "stream",
     "text": [
      "\n",
      "Once upon a time, there was a little girl named Lucy. She loved to explore the beach. One day, she was walking in the park when she saw an ice. The ice was big and had lots of ice. Lucy was curious and wanted to find out what it was.\n",
      "Lucy started to walk around the beach. She saw a big, red apple on the edge of the sand. Lucy thought it was a fun game, so she went to ask her mom. \"Mommy, what is that?\" she asked.\n",
      "Her mom smiled and said, \"That's an apple, Lucy. It's a lemon, but it's not ours for you. You should not touch the fruit and it is not safe to eat. That's why don't play with the ice, but we can still play.\"\n",
      "Lucy's mom showed her how to fold the ice. They both had fun and laughed as Lucy. Lucy learned that sometimes, even the smallest things are important, but being kind and helping others.\n",
      "\n",
      "\n",
      "Tom and Mia were playing in the park. They liked to swing and slide. They liked to slide down the slide. They saw a big slide. The slide was white and had many slides and flowers on it. Tom said, \"Let's go to the slide!\"\n",
      "\"No, Tom, it's not safe!\" Mia said, \"It is not safe. Maybe it is a bad place. Maybe it has a door and a door and a door.\n",
      "Loss: 2.0043447017669678\n"
     ]
    },
    {
     "name": "stderr",
     "output_type": "stream",
     "text": [
      "100%|█████████████████████████████████████████████████████████████████████████████████| 300/300 [00:14<00:00, 20.98it/s]\n"
     ]
    },
    {
     "name": "stdout",
     "output_type": "stream",
     "text": [
      "\n",
      "\n",
      "\n",
      "Lily and Ben are playing with their toys in the living room. Lily has a big doll and Ben has a doll. They want to make a tea with the tea. Lily can fold the cups and the cups and the books and the books. Ben likes the dolls and the books on the floor.\n",
      "\"Can we help each other?\" Lily asks Ben.\n",
      "\"OK,\" Ben says.\n",
      "Lily takes a doll from Ben. She gives him a sticker from the book. Ben opens it and shows his mom.\n",
      "\"Look, Ben, I found a book with a dress,\" Lily says. She looks at the dress and sees a sticker on it. She takes it out and puts it on her wrist. She says \"Now, Ben!\"\n",
      "Ben is very excited. He runs to the table and counts the book. He wants to read the book. He wants to read the book.\n",
      "\"What is the book?\" he asks.\n",
      "\"I don't know, Ben,\" Lily says. \"It's not a book. It is a book about a princess.\"\n",
      "\"Is it a book?\" Ben asks.\n",
      "\"I don't know,\" Lily says. \"This is a book. And it is a book about a princess and a princess.\"\n",
      "They look around. They see a book with pictures of words and pictures. They are curious. They go to the book and look at the pictures. They wonder what it is.\n",
      "\"Can we have\n",
      "Loss: 2.0004312992095947\n"
     ]
    },
    {
     "name": "stderr",
     "output_type": "stream",
     "text": [
      "100%|█████████████████████████████████████████████████████████████████████████████████| 300/300 [00:14<00:00, 20.88it/s]\n"
     ]
    },
    {
     "name": "stdout",
     "output_type": "stream",
     "text": [
      "\n",
      "Once upon a time, there was a big, friendly dog named Spot. Spot loved to play with his ball. He would run and jump all day long.\n",
      "One day, Spot saw a little girl named Lily. Lily was playing in the park. Spot saw a big tree with a red ball. He wanted to play with it.\n",
      "\"Hi, Spot!\" said Lily. \"Do you want to play with my ball?\" Spot wagged his tail. They played together. They threw the ball, but then, the ball went into a bush.\n",
      "\"Hey, that's my ball!\" said Lily. \"You two are a good friend!\" Spot wagged his tail and barked happily. They played with the ball all day.\n",
      "\n",
      "\n",
      "Lily and Tom were playing in the garden. They liked to throw and kick the ball and the ball. Lily had a ball and Ben had a ball.\n",
      "\"Let's play!\" Tom said. \"It's fun!\" Lily said. She was happy. She picked up a ball and threw it hard. Tom threw the ball, but it did not go far away.\n",
      "\"Hey, Lily!\" Tom said. \"You can't catch me!\"\n",
      "Lily and Tom ran to the ball. They tried to get the ball, but it was too late. They could not get the ball.\n",
      "\"Oh no, I'm sorry!\" Lily said. \"You broke our ball and you broke my ball! That was not fair! You should\n",
      "Loss: 1.818626880645752\n"
     ]
    },
    {
     "name": "stderr",
     "output_type": "stream",
     "text": [
      "100%|█████████████████████████████████████████████████████████████████████████████████| 300/300 [00:13<00:00, 22.79it/s]\n"
     ]
    },
    {
     "name": "stdout",
     "output_type": "stream",
     "text": [
      "\n",
      "The two friends laughed and ran off to play together.\n",
      "\n",
      "\n",
      "Lily and Ben are playing in the yard. They like to run, jump, and jump and kick each other. They are happy and healthy. They have fun in the yard.\n",
      "One day, they see a big dog. The dog is very hungry. The dog barks at them. Lily and Ben are scared. They run away from the dog. The dog is nice. It barks loudly.\n",
      "\"Help!\" Lily shouts. \"We want to eat the dog!\"\n",
      "They want to play. They grab the dog from the dog. The dog does not want to eat the dog. The dog likes the dog. It wags its tail. It wags its tail. It pecks the dog.\n",
      "\"Go away, dog!\" Lily shouts. She throws her dog away. The dog does not like the noise. It sniffss loudly and wags its tail. Lily and Ben are scared. They hide behind the dog's mom.\n",
      "\"Don't be scared, Ben. The dog was mean. It took our dog and ran away. It did not want to leave Lily and Ben. It did not want to eat Lily and Ben.\n",
      "Lily and Ben heard the scream and ran to the house. They saw Lily and Ben. They were scared. They ran to their mom. She hugs them. They told her what happened. She hugged them and said she was sorry. She said they were not mad.\n",
      "Mom\n",
      "Loss: 1.926821231842041\n"
     ]
    },
    {
     "name": "stderr",
     "output_type": "stream",
     "text": [
      "100%|█████████████████████████████████████████████████████████████████████████████████| 300/300 [00:13<00:00, 22.31it/s]\n"
     ]
    },
    {
     "name": "stdout",
     "output_type": "stream",
     "text": [
      "\n",
      "One day, a little girl named Lily wanted to make a picture for her mom. She thought, \"I need a big book for my mom, but she can't find the book. Can I help you?\"\n",
      "Lily thought for a moment and said, \"Yes, you can help me. I will give you a piece of your paper.\" She put the paper in her mouth and started to look.\n",
      "Lily saw a big red bird on the paper. Lily said, \"Hi! I am Lily. Can I play with you?\" The bird said, \"Yes, I would love to play with you, but I can't do anything. My mom will help me find it.\" Lily was happy to help and said, \"Thank you, mom! I love you very much.\"\n",
      "As they walked, Lily saw a big tree with a hole. She thought, \"I can find something for you!\" She took her pretty paper and started to draw with her crayons. Lily was very happy.\n",
      "But then, something unexpected happened. The big tree turned into a big, friendly dog! The dog said, \"I am your mom. I am looking for a dog.\" Lily and her mom were surprised. They opened the tree and saw the big tree. They were very happy to be together again. They played in the park all day, and Lily knew she had made the dog stop.\n",
      "\n",
      "\n",
      "Lily and Max were best friends. They liked to play in the park.\n",
      "Loss: 1.8550679683685303\n"
     ]
    },
    {
     "name": "stderr",
     "output_type": "stream",
     "text": [
      "100%|█████████████████████████████████████████████████████████████████████████████████| 300/300 [00:14<00:00, 20.01it/s]\n"
     ]
    },
    {
     "name": "stdout",
     "output_type": "stream",
     "text": [
      "\n",
      "Once upon a time, in a small village, there lived a little girl named Lily. Lily had a big, scary dog named Spot. Spot was not mean. He liked to play in the park with his best friend, a little girl named Sue. They played together every day and had lots of fun.\n",
      "One day, Lily and Spot were playing outside with Spot. They were running and running, laughing and laughing. Suddenly, they found a big, mean cat! Spot was very scared of the cat! Lily ran to her mom and said, \"Mom, there is a big, mean dog! We will help you!\"\n",
      "Mom saw Lily and Spot and said, \"Don't worry, we will clean it up together.\" They put on their clothes and went to the park. The sun was shining and it was a perfect day to play outside. Lily and Spot were happy to see Lily and the dog.\n",
      "\n",
      "\n",
      "Lily liked to play with her toys in the garden. She had a big box of toys, a pink doll, and a shiny car. She had many dolls, but she did not have any toys.\n",
      "Lily saw a big dog in the yard. The dog was barking and running around. Lily and Max decided to go to the dog and pet her. The dog wagged its tail and licked their hands. Lily and Max did not like the dog.\n",
      "They did not mean to Max. They wanted to make a new friend. But then they had an\n",
      "Loss: 1.943179965019226\n"
     ]
    },
    {
     "name": "stderr",
     "output_type": "stream",
     "text": [
      "100%|█████████████████████████████████████████████████████████████████████████████████| 300/300 [00:13<00:00, 21.79it/s]\n"
     ]
    },
    {
     "name": "stdout",
     "output_type": "stream",
     "text": [
      "\n",
      "\n",
      "\n",
      "Tom and Lily were twins. They liked to play with their toys. One day, they found a big box of cereal in the kitchen. They wanted to try it and see what was inside. They opened the box and found some cereal. It was not empty, but purple and round, and yellow.\n",
      "Tom and Lily took the cereal and the cereal to the living room. They put it on the floor. They did not know what they wanted. They wanted to play with the cereal.\n",
      "They went to the kitchen and opened the box. It was very cold and cold. They had fun making it warm and cozy. They smelled good.\n",
      "But then, they heard a loud noise. It was a loud noise. They got scared. They ran inside their house. They hid behind a tree. They found the box under the bed. They saw the box under the bed. They heard a loud noise. They turned around and saw a big, red button on the floor. It was a magic button. It had a button that could make things shrink. It said, \"I hope this button makes me happy and warm.\" Lily and Tom nodded. They wanted to see what was inside. They looked for clues and found a toy that was just the same size. It was a big, shiny key. They were so happy and proud of Lily and Tom.\n",
      "\"Wow, thank you, thank you, thank you for the key,\" Lily said.\n",
      "\"You are\n",
      "Loss: 1.9798914194107056\n"
     ]
    },
    {
     "name": "stderr",
     "output_type": "stream",
     "text": [
      "100%|█████████████████████████████████████████████████████████████████████████████████| 300/300 [00:12<00:00, 24.34it/s]\n"
     ]
    },
    {
     "name": "stdout",
     "output_type": "stream",
     "text": [
      "\n",
      "One day, while Lily was playing with her toy car, something unexpected happened. The car started to talk! It said, \"Thank you, Lily, for taking me back to my toy car.\"\n",
      "Lily was very surprised. She did not know her mom was a little scared. She asked her mom and dad, \"Do you need help, please?\" Her mom smiled and said, \"Yes, Lily. Let's go home and rest.\"\n",
      "Lily and her dad went home. Lily's mom helped her go. They walked home together, happy and tired. Lily was happy that her toy car was safe. She knew that it could be good as a friend.\n",
      "\n",
      "\n",
      "Lily and Ben are playing with blocks in the living room. They see many things on the floor. They see books on the shelf of books. They want to look at them.\n",
      "\"Look, Ben, I have a big book!\" Lily says. She is happy.\n",
      "\"Yes, I do. What is a great idea?\" Ben says. He picks up a book. He throws it on the shelf. He makes the tower fall.\n",
      "\"Good job, Lily,\" Ben says. He gives the block to Lily.\n",
      "\"Good job, Lily. You are a good helper. You are my friend,\" Ben says. He takes the tower.\n",
      "They go back to the tower. They sit on the top of the blocks. They are happy. They are friends again.\n",
      "\n",
      "\n",
      "\n",
      "Loss: 1.9866336584091187\n"
     ]
    },
    {
     "name": "stderr",
     "output_type": "stream",
     "text": [
      "100%|█████████████████████████████████████████████████████████████████████████████████| 300/300 [00:12<00:00, 23.89it/s]\n"
     ]
    },
    {
     "name": "stdout",
     "output_type": "stream",
     "text": [
      "\n",
      "The moral of the story is that we can always make things happen.\n",
      "\n",
      "\n",
      "Sara and Ben are twins. They like to play with blocks. One day, they see a big truck with a lot of boxes. The truck is full of candy. Sara and Ben want to see the truck. They want to get it.\n",
      "They get in the truck and drive to the truck. The truck is big and fast. They open the truck and see what is inside. Sara and Ben are happy. They want to see what is inside.\n",
      "\"Let's go inside!\" Sara says. She opens the box. It is red and has buttons. It has many colors.\n",
      "\"Can I see your?\" Sara asks, curious. She wants to touch the truck. She wants to see what is inside. She reaches for it. She pulls her hand. She does not like the truck. She wants to see the truck.\n",
      "\"No, thank you!\" Ben says. He pushes Sara away from her hand.\n",
      "\"Stop it, Sara! Give it back!\" Ben says.\n",
      "\"I don't want to share!\" Lily says.\n",
      "They pull and tug and tug. They make loud noises.\n",
      "\"Stop fighting!\" Ben says. He gets hurt. He sees Sara's hand and his truck. He is not happy.\n",
      "\"Stop fighting!\" Sara says. She looks at the truck. She sees the truck driver coming. He wants the truck too.\n",
      "\"Hey\n",
      "Loss: 1.9704301357269287\n"
     ]
    },
    {
     "name": "stderr",
     "output_type": "stream",
     "text": [
      "100%|█████████████████████████████████████████████████████████████████████████████████| 300/300 [00:14<00:00, 20.48it/s]\n"
     ]
    },
    {
     "name": "stdout",
     "output_type": "stream",
     "text": [
      "\n",
      "\n",
      "\n",
      "Tom is a big dog with his name is Rex. His name is Rex. He wants to pet him and his dog.\n",
      "\"Can I pet him?\" Tom asks.\n",
      "\"Not today, Tom. It is my friend. He is a little dog,\" Sam says.\n",
      "\"No, you can't. It is not good. You have to be nice and clean. And you can have it to me. Do you want to be my friend?\" Tom says.\n",
      "Tom is scared. He wants to play with Sam. He wants to play with him. But he does not want to play with Tom.\n",
      "\"Tom, come with me. You are not my friend. You are a good friend.\" Sam says.\n",
      "Tom is sorry. He takes Tom's hand. He says they can play together. He says yes. He takes Tom and Sam to play with him.\n",
      "They hug each other and say goodbye. They are happy. They are friends.\n",
      "\n",
      "\n",
      "Lila and Ben are twins who like to play with their toys. They have many toys and books and books. They share their toys and have fun.\n",
      "One day, Lila has an idea. She wants to invite her friends to the park. She says to her friends, \"Let's invite the swings. She says we can see many things in the park. Do you want to play with us?\"\n",
      "Lila and Ben nod and say yes. They run to the slide. They take\n",
      "Loss: 1.9102239608764648\n"
     ]
    },
    {
     "name": "stderr",
     "output_type": "stream",
     "text": [
      "100%|█████████████████████████████████████████████████████████████████████████████████| 300/300 [00:12<00:00, 23.84it/s]\n"
     ]
    },
    {
     "name": "stdout",
     "output_type": "stream",
     "text": [
      "\n",
      "\"You are very polite,\" Tom said. \"Why did you not mean to me?\"\n",
      "The dog barked and wagged his tail. The dog barked happily. Tom and Lily ran back to the dog. They told them about the dog and the dog and the bird. They all played with the dog and had a lot of fun.\n",
      "The dog and Lily learned a lesson that day. They learned that not everyone should always be kind to each other. And that was the dog's home. The moral of the story is to always be kind and share.\n",
      "\n",
      "\n",
      "Tom and Lily were playing in the park. They saw a big red ball in a tree. They wanted to get it, but they also saw a big red ball in the grass. It was red and yellow and had a hole in it.\n",
      "\"Can we play with the ball, Tom?\" Lily asked.\n",
      "\"Sure, Tom, but be careful. The fence is too far away.\"\n",
      "\"OK, but be careful. The fence is too far from here. It is not safe to stay away,\" Tom said.\n",
      "Lily and Tom looked at the fence. They saw a fence. They saw a fence and a hole in it. It had a hole in the fence. They ran inside to play and look for the ball.\n",
      "They saw a big red ball stuck in a hole. They ran to get the ball, but the hole was too deep and slippery. They could not get the ball.\n",
      "Loss: 2.003148078918457\n"
     ]
    },
    {
     "name": "stderr",
     "output_type": "stream",
     "text": [
      "100%|█████████████████████████████████████████████████████████████████████████████████| 300/300 [00:13<00:00, 21.79it/s]\n"
     ]
    },
    {
     "name": "stdout",
     "output_type": "stream",
     "text": [
      "\n",
      "Once upon a time, there was a little girl named Lucy. She loved to play outside with her friends. One day, she found a small, wet in her yard. It was a cold, sunny day and it was cold outside.\n",
      "Lucy found a big, cold puddle. She picked it up and started to shiver. \"Oh no!\" she cried. Her friends came to help her. They picked up the wet puddle and put it on the ground.\n",
      "But, a little girl named Lucy saw the wet puddle. She got wet and got very dirty. Lucy's friends wanted to help her. They told Lucy not to worry. They all came to the puddle and washed the water. Lucy felt better and her friends were happy again.\n",
      "\n",
      "\n",
      "Sam and Mia are playing in the garden. They like to dig and find bugs. One day, they find a big jar of salt in the kitchen. They want to take it home.\n",
      "\"Look, Mia, I found a big piece!\" Ben says.\n",
      "\"Yes, it is very cool!\" Mia says.\n",
      "They are very happy. They are glad to see the salt.\n",
      "\"Thank you, Ben!\" Mia says.\n",
      "\"You are very nice!\" Ben says. \"You're welcome!\"\n",
      "\"Thank you, Mia!\" Mia says.\n",
      "\"You're welcome, Ben. I am glad you found you. Come on, let's go inside and find the toy!\"\n",
      "They take the toy to\n",
      "Loss: 1.8581756353378296\n"
     ]
    },
    {
     "name": "stderr",
     "output_type": "stream",
     "text": [
      "100%|█████████████████████████████████████████████████████████████████████████████████| 300/300 [00:14<00:00, 20.07it/s]\n"
     ]
    },
    {
     "name": "stdout",
     "output_type": "stream",
     "text": [
      "\n",
      "One day, a little girl named Lily found a pretty dress. It was not like other costumes. It was very pretty and pretty. She wanted to show it to her friends.\n",
      "Lily went to her mom and said, \"Look! I found this dress. It is not like yours.\" Her mom smiled and said, \"Wow, it's so pretty and pretty. But remember, you must be more careful with the dress.\"\n",
      "Lily put the dress on and felt very happy. She put the dress on her dress and put it on the table. Then, she went to her room and saw a big mirror on the table. She picked it up and showed it to her mom.\n",
      "\"Mom, look at my new mirror!\" Lily said. \"It is so pretty and shiny!\" Her mom smiled and said, \"Wow, that is a pretty mirror!\" Lily nodded and smiled. She felt proud and happy. She liked her new mirror and her new mirror.\n",
      "\n",
      "\n",
      "Sara and Ben are twins who like to play together. One day, they see a big pond with ducks and fish. They want to feed them and feed them bread. They see ducks, but they also has some bread. They are hungry and thirsty.\n",
      "\"Look, Ben, a duck!\" Ben says. \"Let's feed it and feed it some bread.\"\n",
      "\"OK, but we have no bread. It is too big and strong and soft and green. We should feed it some bread\n",
      "Loss: 1.9025495052337646\n"
     ]
    },
    {
     "name": "stderr",
     "output_type": "stream",
     "text": [
      "100%|█████████████████████████████████████████████████████████████████████████████████| 300/300 [00:15<00:00, 19.58it/s]\n"
     ]
    },
    {
     "name": "stdout",
     "output_type": "stream",
     "text": [
      "\n",
      "Once upon a time, there was a little boy named Tim. Tim liked to play outside in the dirt. One day, he saw a big rock and wanted to climb it. Tim was very careful and went outside. He started to step on the rock and then down again.\n",
      "A big wind came and blew the rock away. The rock went up and down, up, up into the sky. Tim was scared. The rock broke into pieces. Tim's friend, Sam, came over to help. Sam saw the rock and said, \"Don't be scared, Tim. We can all get your rock back.\"\n",
      "So, Tim and Sam worked together. They pushed the rock with all its strength. The rock was now strong, and the rock was gone. They were happy and safe.\n",
      "\n",
      "\n",
      "Anna loved to observe the birds and the flowers. She had a big book with many pages and animals. She had a book with pictures of animals and animals. Anna had a book with many words. She wanted to read them, but they did not know what to do.\n",
      "One day, Anna saw a big book. It had many pictures of animals and animals. Anna wanted to read it and write the words. She read the book and read them with her friends. She wrote about her friends, her friends, and her friends. She wanted to read too. She said, \"Anna, can we read the story? I can write with you, Anna?\"\n",
      "Anna\n",
      "Loss: 1.9010673761367798\n"
     ]
    },
    {
     "name": "stderr",
     "output_type": "stream",
     "text": [
      "100%|█████████████████████████████████████████████████████████████████████████████████| 300/300 [00:13<00:00, 21.99it/s]\n"
     ]
    },
    {
     "name": "stdout",
     "output_type": "stream",
     "text": [
      "\n",
      "\"Please, mister, please!\" said the teacher.\n",
      "\"Please, mister, please!\" she said.\n",
      "The teacher smiled and looked at the teacher. She was very kind and kind. She said hello and smiled. She said her name was Miss Lee.\n",
      "\"Hello, kids. Do you want to come to the classroom? Can we come and play with you and your teacher?\"\n",
      "The teacher smiled and said: \"Yes, you can, kids. But you have to be careful. Do you understand?\"\n",
      "The teacher smiled and said, \"Yes, I'm sorry, Miss Lee. You can be a good teacher. You can be kind and helpful. And you will have a lot of fun.\"\n",
      "The teacher smiled. She said, \"I promise. You have a great time, Anna. And you can make new friends.\"\n",
      "\n",
      "\n",
      "Tom and Lily are friends. They like to play together. They have many toys and books. They make noises and stories with their toys.\n",
      "One day, Tom and Lily have a party. They have a big box with a bow and a bow on it. They are happy and excited.\n",
      "Tom is not a good at exams. He looks at Lily and Ben with his eyes. He sees that he is different. He likes to play with Lily.\n",
      "\"Can I have some, please?\" Tom asks Lily. He is shy and shy.\n",
      "\"No, you are not. I like you. But I\n",
      "Loss: 1.9867768287658691\n"
     ]
    },
    {
     "name": "stderr",
     "output_type": "stream",
     "text": [
      "100%|█████████████████████████████████████████████████████████████████████████████████| 300/300 [00:12<00:00, 23.17it/s]\n"
     ]
    },
    {
     "name": "stdout",
     "output_type": "stream",
     "text": [
      "\n",
      "Once upon a time, there was a little boy named Tim. Tim was always looking for new things to do. One day, he decided to go out and play. He put on his coat and coat and boots in the morning. \n",
      "While he was playing, he saw a big box in the living room. He was curious and wanted to look inside. He tried to open the box, but it was very hard. Tim was sad because he thought of a plan to find out what was inside the box.\n",
      "He opened the box and saw a small door inside. It was a tiny door! Tim was very curious, so he opened the door. To the door, he found a new toy. It was a toy that could break. Tim was very happy and played with the toy all day.\n",
      "\n",
      "\n",
      "Tom and Mia like to play with their toys. They have many toys, cars, blocks, books and books. They build towers, houses, cars and animals. One day, they find a big box with many pages. They are very happy.\n",
      "They run to the box and see a big cake on the table. It has a picture of a cat on it. It has a picture of a dog. Mia likes the dog. She likes to play with Tom and Mia.\n",
      "\"Look, Mia! We are a cat!\" Tom says. He takes a cat and Mia's dog. They are happy. The cat is cute.\n",
      "They cuddle and enjoy\n",
      "Loss: 1.9916260242462158\n"
     ]
    },
    {
     "name": "stderr",
     "output_type": "stream",
     "text": [
      "100%|█████████████████████████████████████████████████████████████████████████████████| 300/300 [00:14<00:00, 21.11it/s]\n"
     ]
    },
    {
     "name": "stdout",
     "output_type": "stream",
     "text": [
      "\n",
      "Tim saw a big, shiny stone. He asked his mom, \"Can I play with the stone?\" His mom said, \"Yes, but be careful. It is not safe to get it.\"\n",
      "Tim played with the stone all day. He had a lot of fun. But then, something unexpected happened. The shiny metal stone started to grow! It was a big, shiny star!\n",
      "\"Wow, Tim! You look so big!\" said the pretty star. Tim smiled and said, \"I found a magic rock. I can help you get my shiny rock.\"\n",
      "\n",
      "\n",
      "Tim and Sam were twins who liked to play with the stars. They had a lot of fun pretending that the stars were real and to touch. But sometimes they were different and different.\n",
      "One day, they found a big box in the living room. They opened the box and saw many things. They saw a shiny metal metal and shiny metal. They wanted to see what it was for, so they ran to the box and tried to open it. But the metal was too small and hard.\n",
      "\"Maybe we should look for it,\" Tim said his mom. He was not happy to see them. He was a boy who was older and had a blue nose. He had a plastic nose and a shiny nose.\n",
      "\"Wow, that is a very pretty metal!\" Tim said, looking at the metal. \"That is very sharp and sharp. I don't know how it works.\"\n",
      "\n",
      "Loss: 1.8185147047042847\n"
     ]
    },
    {
     "name": "stderr",
     "output_type": "stream",
     "text": [
      "100%|█████████████████████████████████████████████████████████████████████████████████| 300/300 [00:13<00:00, 21.51it/s]\n"
     ]
    },
    {
     "name": "stdout",
     "output_type": "stream",
     "text": [
      "\n",
      "\n",
      "\n",
      "Lily and Tom are twins. They like to play with their toys in the park. They have a big bag with toys and books.\n",
      "\"Look, Tom, I have a bag!\" Lily says.\n",
      "\"I am a baby. I found a bag and a bag,\" Tom says.\n",
      "They take turns to remove the bag and open it. They see many toys, but they also have one. They look at each other and smile.\n",
      "\"Look, a bag!\" Lily says. \"That is a bag of pennies. It is for my bag.\"\n",
      "\"I want to try it!\" Tom says. He pushes his bag away.\n",
      "Lily and Tom gasp at each other. They are happy. They have an idea.\n",
      "They take a bag and put them in a bag. They pretend to be heroes and save each other. They are friends. They smile and wave at each other. They are happy.\n",
      "\n",
      "\n",
      "Lila and Ben are friends. They like to play in the park. One day, they see a big sign near their bikes. The sign says: \"Do not open the bag. It says the names\". Lila and Ben want to play with the ball.\n",
      "The bag is not too close to the sign. It is a sign that says \"Zopsbit the sign. The sign says 'Aris Cont'. Larry the sign is very far away.\" Lila and Ben are sad. They run to the sign and\n",
      "Loss: 2.0191946029663086\n"
     ]
    },
    {
     "name": "stderr",
     "output_type": "stream",
     "text": [
      "100%|█████████████████████████████████████████████████████████████████████████████████| 300/300 [00:13<00:00, 23.06it/s]\n"
     ]
    },
    {
     "name": "stdout",
     "output_type": "stream",
     "text": [
      "\n",
      "\"Sam, there are many people. They are very nice and fun,\" Mia said.\n",
      "\"Yes, they are good!\" Sam said.\n",
      "They took some of the sack and went back to the sack. They found a big, round ball. They put it in a hat and a hat. They threw it at each other and said, \"I want to eat it.\"\n",
      "But then, they saw a big box. It was a cake. It had chocolate in it. It was a cake. It was very sour and sour. It had a hole in it. It had fallen in the hole.\n",
      "\"Help!\" Sam screamed. He was scared. He ran away.\n",
      "They ran to the box and tried to hide it. But it was too late. The cake was gone. They were alone. They had no one to see.\n",
      "\"Let's go home!\" Sam said. He was too big. He was in his home.\n",
      "\"No, they are too high. They are too far.\" Sam said. He jumped into the hole and got in. He fell off. He landed in the hole and ran out.\n",
      "Sam and Sam were scared. They screamed for help. They did not see the hole in the hole. They screamed. They ran out of the hole. They did not see the hole.\n",
      "They were happy. They did not want to get out. They did not like the hole. They did not know what to do.\n",
      "Loss: 1.8859808444976807\n"
     ]
    },
    {
     "name": "stderr",
     "output_type": "stream",
     "text": [
      "100%|█████████████████████████████████████████████████████████████████████████████████| 300/300 [00:13<00:00, 21.44it/s]\n"
     ]
    },
    {
     "name": "stdout",
     "output_type": "stream",
     "text": [
      "\n",
      "But then, something unexpected happened. The big, dark cloud started to rain! The cloud got bigger and bigger, and it was not wet anymore. The little cloud was happy it could help the sun. The cloud became a warm place, and the sun was happy to help.\n",
      "\n",
      "\n",
      "Tim and Sam went to the park to play with their toys. They had a lot of fun and they played with toys. Tim saw a big tree with a shiny jewel hanging from the branches. Sam said, \"Look, Mia! I found a treasure!\"\n",
      "Sam looked at the jewelry and said, \"I don't know, Mia. Let's play with it!\" They ran to the jewelry and tried to grab it. But the jewelry was too heavy. They felt sad and hurt.\n",
      "A little girl named Lily saw them and said, \"I can help you get the jewel!\" Tim and Sam were happy and said, \"Thank you, Lily. You're a good friend.\" Lily felt good because she had done something to do.\n",
      "After they were done, they went back home. They were happy that their grandma was safe. They thanked Lily and Sam for her help. From that day on, they always asked their mom and dad for help when they needed it.\n",
      "\n",
      "\n",
      "Tom and Lily were playing with their toys in their room. They had many toys, but their favorite was a big book called a microscope. They wanted to see what was inside.\n",
      "\"Mom, can\n",
      "Loss: 1.9559766054153442\n"
     ]
    },
    {
     "name": "stderr",
     "output_type": "stream",
     "text": [
      "100%|█████████████████████████████████████████████████████████████████████████████████| 300/300 [00:14<00:00, 21.05it/s]\n"
     ]
    },
    {
     "name": "stdout",
     "output_type": "stream",
     "text": [
      "\n",
      "\n",
      "\n",
      "Sam liked to play with his guitar. He played it with his guitar every day. He would make it go fast and make loud sounds. He was having so much fun.\n",
      "One day, Sam wanted to play with his guitar. He tried to make a big mess. But the guitar was hard. He did not know how to make it work. He asked his mom to help him make it work.\n",
      "His mom said, \"Okay, I will try!\"\n",
      "When the trumpet was ready, Sam came over. He showed the guitar to his friend, Sam. His mom said, \"Look, I found your guitar. Let's make it happy again!\" Sam was happy and said, \"Yes, please!\"\n",
      "Sam and Lily started to build a big tower with the guitar. They used all the colors and shapes on the walls. They were very proud of their work. And they lived happily ever after.\n",
      "\n",
      "\n",
      "Sara and Ben are friends. They like to play with blocks. They have many blocks of different colors and shapes. They can make houses, towers, towers and houses.\n",
      "One day, Sara wants to make a tower with her blocks. She finds a red block with a loop and a red one. She says, \"Wow, this is a nice tower. It is very fast.\"\n",
      "Ben does not like the red block. He says, \"No, I want it. It is mine!\" Sara says, \"No, it is mine\n",
      "Loss: 1.9662120342254639\n"
     ]
    },
    {
     "name": "stderr",
     "output_type": "stream",
     "text": [
      "100%|█████████████████████████████████████████████████████████████████████████████████| 300/300 [00:14<00:00, 20.72it/s]\n"
     ]
    },
    {
     "name": "stdout",
     "output_type": "stream",
     "text": [
      "\n",
      "They put the plate on the table and put it on a table. They are happy and hungry.\n",
      "\"Hello, cat and dog,\" Tom says.\n",
      "\"Thank you, cat,\" Tom says. \"You are a nice cat. We like to play with you and the cat. We are hungry.\"\n",
      "\"Hi, dog,\" Tom says. \"I like to play with you. You are very good at flying. You are a good friend. You have a big brother.\"\n",
      "The dog smiles.\n",
      "\"You are welcome,\" Tom says. \"You are a good friend too. I like to play with you.\"\n",
      "They play with the cat. They make noises with the cat.\n",
      "\"Can I play with you?\" Anna asks.\n",
      "\"Okay, let's play with you,\" the cat says.\n",
      "They play together and have fun. They play with the toys. They are happy.\n",
      "They play with the toys. They share and be nice. They make new friends.\n",
      "\n",
      "\n",
      "Lila likes to play with her dolls. She has many dolls and shoes. She can make houses, cars and cars with her dolls. She is happy.\n",
      "One day, Lila sees a new toy on the shelf. It is a big red ball. She thinks, \"I want to play with that ball.\"\n",
      "Lila picks up the red ball. She does not care about the ball. It is the most fun thing. She says, \"No, I want the\n",
      "Loss: 1.9313671588897705\n"
     ]
    },
    {
     "name": "stderr",
     "output_type": "stream",
     "text": [
      "100%|█████████████████████████████████████████████████████████████████████████████████| 300/300 [00:12<00:00, 23.79it/s]\n"
     ]
    },
    {
     "name": "stdout",
     "output_type": "stream",
     "text": [
      "\n",
      "One day, a little boy named Tim found a shiny thing on the ground. He picked it up and showed it to his mom. \"Mom, what is this?\" he asked. \"I found an object on the ground,\" Tim said.\n",
      "His mom looked at the object and said, \"It's a thermometer, Tim. It's a thermometer. It can make you feel better.\"\n",
      "Tim took a thermometer and put it on his shirt. He felt happy and warm in his hair. He played with the cane every day.\n",
      "After a long day of the thermometer, Tim and his mom went to the store. They bought a new buckle. The buckle was so good! Tim and his mom were happy and went home.\n",
      "\n",
      "\n",
      "Anna and Ben are playing in the garden. They like to dig holes and bury things. They find rocks, rocks, rocks, and rocks. They make holes and hats. They make a hole in the ground and make a hole in the ground.\n",
      "One day, they find a hole in the ground. It is dark. They see a big hole in the ground. They want to see what is inside.\n",
      "\"Let's open it!\" Anna says. \"It is a hole!\" Ben says.\n",
      "They run to the hole. They see a hole. They are very happy. They see the hole. They see a hole.\n",
      "\"Maybe it is a hole,\" says Anna. She thinks Ben is hiding there.\n",
      "\"\n"
     ]
    }
   ],
   "source": [
    "transformer.to(device)\n",
    "for epoch in range(10000):\n",
    "    \n",
    "    opt.zero_grad()\n",
    "    trainBatch, targetBatch = dataLoader(dataset, batch_size, context_length, device=device)\n",
    "    logits = transformer(trainBatch)\n",
    "    loss = cross_entropy(logits, targetBatch)\n",
    "    loss.backward()\n",
    "    with torch.no_grad():\n",
    "        if epoch % 10 == 0:\n",
    "            print(\"Loss:\", loss.item())\n",
    "            generatedText = generateText(transformer, tok, device='cuda:0')\n",
    "            print(generatedText)\n",
    "            ckpt = {\n",
    "                'model': transformer.state_dict(),\n",
    "                'optimizer': opt.state_dict(),\n",
    "            }\n",
    "            torch.save(ckpt, 'ckpt.pt')\n",
    "    opt.step()\n",
    "    "
   ]
  },
  {
   "cell_type": "code",
   "execution_count": 26,
   "id": "e7fd0c18-1309-4b1e-96ab-b0308e8e7814",
   "metadata": {},
   "outputs": [
    {
     "name": "stderr",
     "output_type": "stream",
     "text": [
      "100%|█████████████████████████████████████████████████████████████████████████████████| 100/100 [00:03<00:00, 25.19it/s]"
     ]
    },
    {
     "name": "stdout",
     "output_type": "stream",
     "text": [
      "Tom gave Sally gifts. Sally hurt Tom. Tom has no friends. Tom feels sad. The moral of the story is: always be careful and listen to others, and not to play tricks.\n",
      "\n",
      "\n",
      "One day, Tom and Lily were playing with their toys in the living room. They had a big box of toys that they liked to make noises. Lily pretended they were cars and trucks that their toys were in the closet.\n",
      "\"Tom, can we play with our cars?\" Lily asked.\n",
      "\"No, Tom, I don't like them. It is for our cars,\" Tom said. He liked the\n"
     ]
    },
    {
     "name": "stderr",
     "output_type": "stream",
     "text": [
      "\n"
     ]
    }
   ],
   "source": [
    "generatedStem = \"Tom gave Sally gifts. Sally hurt Tom. Tom has no friends. Tom feels sad. The moral of the story is:\"\n",
    "for x in tqdm(range(100)):\n",
    "    generatedStem = generateOneToken(transformer, tok, generatedStem, device='cuda:0')\n",
    "print(generatedStem)"
   ]
  },
  {
   "cell_type": "code",
   "execution_count": 16,
   "id": "543c616b-47b6-4b7a-8254-da8e62322c5f",
   "metadata": {},
   "outputs": [
    {
     "name": "stderr",
     "output_type": "stream",
     "text": [
      "100%|█████████████████████████████████████████████████████████████████████████████████| 100/100 [00:03<00:00, 27.36it/s]"
     ]
    },
    {
     "name": "stdout",
     "output_type": "stream",
     "text": [
      "Ben was happy because he had a new toy. They played with the toy all day.\n",
      "But then, a big wind came. The wind blew the toy away. Ben was sad and scared. He wanted the toy back. But it was too fast.\n",
      "In the end, the wind blew the toy away from the wind. Ben was sad, and his toy was gone. He could not play with it anymore. The wind never found its toy again.\n",
      "\n",
      "\n",
      "Lila likes to play in the park.\n"
     ]
    },
    {
     "name": "stderr",
     "output_type": "stream",
     "text": [
      "\n"
     ]
    }
   ],
   "source": [
    "generatedStem = \"Ben was happy because\"\n",
    "for x in tqdm(range(100)):\n",
    "    generatedStem = generateOneToken(transformer, tok, generatedStem, device='cuda:0')\n",
    "print(generatedStem)"
   ]
  },
  {
   "cell_type": "code",
   "execution_count": 6,
   "id": "cd2c32ba-72ca-48e5-be93-8f125d0612b2",
   "metadata": {},
   "outputs": [
    {
     "name": "stderr",
     "output_type": "stream",
     "text": [
      "100%|█████████████████████████████████████████████████████████████████████████████████████| 1/1 [00:00<00:00,  2.40it/s]\n",
      "100%|█████████████████████████████████████████████████████████████████████████| 297833/297833 [01:18<00:00, 3791.55it/s]\n"
     ]
    }
   ],
   "source": [
    "with open(\"tinyshakespeare.txt\", \"r\") as f:\n",
    "    ssText = f.read()\n",
    "ssTokens = tok.encode(ssText, verbose=True)"
   ]
  },
  {
   "cell_type": "code",
   "execution_count": 7,
   "id": "6ac55158-1e41-4e9c-842c-d13c96a19e3d",
   "metadata": {},
   "outputs": [],
   "source": [
    "tinyShakeDataset = np.array(ssTokens, dtype=np.uint16)"
   ]
  },
  {
   "cell_type": "code",
   "execution_count": null,
   "id": "6c777238-65f1-49c0-9b65-8962cacc9dc9",
   "metadata": {},
   "outputs": [],
   "source": [
    "transformer.to(device)\n",
    "ssOpt = AdamW(transformer.parameters(), lr=1e-3)\n",
    "\n",
    "for epoch in range(10000):\n",
    "    \n",
    "    ssOpt.zero_grad()\n",
    "    trainBatch, targetBatch = dataLoader(tinyShakeDataset, batch_size, context_length, device=device)\n",
    "    logits = transformer(trainBatch)\n",
    "    loss = cross_entropy(logits, targetBatch)\n",
    "    loss.backward()\n",
    "    with torch.no_grad():\n",
    "        if epoch % 10 == 0:\n",
    "            print(\"Loss:\", loss.item())\n",
    "            generatedText = generateText(transformer, tok, device='cuda:0')\n",
    "            print(generatedText)\n",
    "    ssOpt.step()\n",
    "    "
   ]
  },
  {
   "cell_type": "code",
   "execution_count": null,
   "id": "f72f1478-3f0f-4be8-9cc0-d81a22fff3d5",
   "metadata": {},
   "outputs": [],
   "source": []
  }
 ],
 "metadata": {
  "kernelspec": {
   "display_name": "Python 3 (ipykernel)",
   "language": "python",
   "name": "python3"
  },
  "language_info": {
   "codemirror_mode": {
    "name": "ipython",
    "version": 3
   },
   "file_extension": ".py",
   "mimetype": "text/x-python",
   "name": "python",
   "nbconvert_exporter": "python",
   "pygments_lexer": "ipython3",
   "version": "3.12.3"
  }
 },
 "nbformat": 4,
 "nbformat_minor": 5
}
