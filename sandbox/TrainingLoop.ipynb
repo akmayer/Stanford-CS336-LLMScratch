{
 "cells": [
  {
   "cell_type": "code",
   "execution_count": 1,
   "id": "fb89f868-c4e7-4b5c-a0f4-b9af3146baa3",
   "metadata": {},
   "outputs": [],
   "source": [
    "from cs336_basics.bytepairStuff import getMerges, Tokenizer\n"
   ]
  },
  {
   "cell_type": "code",
   "execution_count": 2,
   "id": "5c6117d4-674a-4d65-bc6f-061c435a4191",
   "metadata": {},
   "outputs": [],
   "source": [
    "import pickle\n",
    "vocab, merges = getMerges(\"../data/TinyStoriesV2-GPT4-valid.txt\", 10000, ['<|endoftext|>'])\n",
    "# Save\n",
    "with open(\"vocab_tinyStories.pkl\", \"wb\") as f:\n",
    "    pickle.dump(vocab, f)\n",
    "\n",
    "with open(\"merges_tinyStories.pkl\", \"wb\") as f:\n",
    "    pickle.dump(merges, f)\n"
   ]
  },
  {
   "cell_type": "code",
   "execution_count": 2,
   "id": "9c118e78-7a4e-4f05-a55d-27042beb8690",
   "metadata": {},
   "outputs": [],
   "source": [
    "import pickle\n",
    "with open(\"vocab_tinyStories.pkl\", \"rb\") as f:\n",
    "    vocab = pickle.load(f)\n",
    "\n",
    "with open(\"merges_tinyStories.pkl\", \"rb\") as f:\n",
    "    merges = pickle.load(f)"
   ]
  },
  {
   "cell_type": "code",
   "execution_count": 3,
   "id": "ef596481-05ad-43d6-a485-7c1c85fc6fbc",
   "metadata": {},
   "outputs": [
    {
     "name": "stderr",
     "output_type": "stream",
     "text": [
      "100%|███████████████████████████████████████████████████████████████████████████| 27631/27631 [00:08<00:00, 3152.62it/s]\n",
      "100%|██████████████████████████████████████████████████████████████████████| 5419001/5419001 [07:04<00:00, 12776.41it/s]\n"
     ]
    }
   ],
   "source": [
    "tok = Tokenizer(vocab, merges, special_tokens = [\"<|endoftext|>\"])\n",
    "with open(\"../data/TinyStoriesV2-GPT4-valid.txt\", \"r\") as f:\n",
    "    validSet = f.read()\n",
    "encodedIDS = tok.encode(validSet)"
   ]
  },
  {
   "cell_type": "code",
   "execution_count": 4,
   "id": "4b991276-2015-4f4c-80b6-b026ec85fc8d",
   "metadata": {},
   "outputs": [],
   "source": [
    "with open(\"tokenized_tinyStoriesValid.pkl\", \"wb\") as f:\n",
    "    pickle.dump(encodedIDS, f)"
   ]
  },
  {
   "cell_type": "code",
   "execution_count": null,
   "id": "72c6fd65-1d52-4c52-9eb2-77bc79baef8c",
   "metadata": {},
   "outputs": [],
   "source": [
    "with open(\"tokenized_tinyStoriesValid.pkl\", \"rb\") as f:\n",
    "    encodedIDS = pickle.load(f)\n",
    "encodedIDS[-100:]"
   ]
  },
  {
   "cell_type": "code",
   "execution_count": 21,
   "id": "b38e0af7-7e43-45cc-81c8-0fc57ba94066",
   "metadata": {},
   "outputs": [],
   "source": [
    "import numpy as np\n",
    "npTinyStories = np.array(encodedIDS, dtype=np.uint16)\n"
   ]
  },
  {
   "cell_type": "code",
   "execution_count": 8,
   "id": "0393bc6e-00d8-4374-b7b7-6ecd99eac74b",
   "metadata": {},
   "outputs": [],
   "source": [
    "np.save(\"numpyTokenized_tinyStoriesValid.npy\", npTinyStories)"
   ]
  },
  {
   "cell_type": "code",
   "execution_count": 25,
   "id": "e8b8f7c7-2faf-4b55-82a7-c1598b83ef75",
   "metadata": {},
   "outputs": [
    {
     "data": {
      "text/plain": [
       "(tensor([[1254,   46,  955,  262],\n",
       "         [ 733, 2339,  325,   44],\n",
       "         [ 367,  266,  905,  336]], dtype=torch.uint16),\n",
       " tensor([[  46,  955,  262, 1849],\n",
       "         [2339,  325,   44,  317],\n",
       "         [ 266,  905,  336, 4125]], dtype=torch.uint16))"
      ]
     },
     "execution_count": 25,
     "metadata": {},
     "output_type": "execute_result"
    }
   ],
   "source": [
    "import random\n",
    "import torch\n",
    "import einx\n",
    "def dataLoader(numpyIdxs, batch_size, context_length, device='cpu'):\n",
    "    minIdx = 0\n",
    "    maxIdx = numpyIdxs.shape[0] - context_length\n",
    "    sampleStartIndices = np.random.randint(minIdx, maxIdx, size = batch_size)\n",
    "    trainBatches = []\n",
    "    targetBatches = []\n",
    "    for idx in sampleStartIndices:\n",
    "        sampleIDXs = np.arange(idx, idx + context_length + 1)\n",
    "        sample = einx.get_at(\"[s], (b [idx]) -> b\", numpyIdxs, sampleIDXs)\n",
    "        trainBatch = sample[:-1]\n",
    "        targetBatch = sample[1:]\n",
    "        trainBatches.append(trainBatch)\n",
    "        targetBatches.append(targetBatch)\n",
    "    \n",
    "    return torch.tensor(np.stack(trainBatches)).to(device), torch.tensor(np.stack(targetBatches)).to(device)\n",
    "dataLoader(npTinyStories, 3, 4)"
   ]
  },
  {
   "cell_type": "code",
   "execution_count": 25,
   "id": "e591671f-bb29-41be-8294-7aa2db4fafae",
   "metadata": {},
   "outputs": [
    {
     "name": "stdin",
     "output_type": "stream",
     "text": [
      "Once deleted, variables cannot be recovered. Proceed (y/[n])?  y\n"
     ]
    }
   ],
   "source": [
    "%reset"
   ]
  },
  {
   "cell_type": "code",
   "execution_count": 1,
   "id": "ad25bc80-5135-4b0d-a7d1-28eba3cc9e01",
   "metadata": {},
   "outputs": [],
   "source": [
    "import pickle\n",
    "from cs336_basics.bytepairStuff import Tokenizer\n",
    "import torch\n",
    "import random\n",
    "import numpy as np\n",
    "from cs336_basics.transformerStuff import Transformer, softmax\n",
    "from cs336_basics.trainingSupplement import cross_entropy, AdamW, gradientClipper\n",
    "from cs336_basics.trainingLoop import dataLoader\n",
    "\n",
    "with open(\"vocab_tinyStories.pkl\", \"rb\") as f:\n",
    "    vocab = pickle.load(f)\n",
    "\n",
    "with open(\"merges_tinyStories.pkl\", \"rb\") as f:\n",
    "    merges = pickle.load(f)\n",
    "    \n",
    "dataset = np.load(\"numpyTokenized_tinyStoriesValid.npy\", mmap_mode = 'r')\n",
    "tok = Tokenizer(vocab, merges, special_tokens = [\"<|endoftext|>\"])\n"
   ]
  },
  {
   "cell_type": "code",
   "execution_count": 11,
   "id": "df4cfa23-a808-4df5-917d-779b36f44aa2",
   "metadata": {},
   "outputs": [
    {
     "data": {
      "text/plain": [
       "torch.Size([256, 10000])"
      ]
     },
     "execution_count": 11,
     "metadata": {},
     "output_type": "execute_result"
    }
   ],
   "source": [
    "transformer = Transformer(10000, 256, 8, 512, 16, 1344, 10000)\n",
    "\n",
    "batch_size = 16\n",
    "context_length = 256\n",
    "\n",
    "trainBatch, targetBatch = dataLoader(dataset, batch_size, context_length)\n",
    "trainBatch\n",
    "transformer(trainBatch[0]).shape"
   ]
  },
  {
   "cell_type": "code",
   "execution_count": 12,
   "id": "84d4d4e2-bb6b-482f-8289-813d246f35c0",
   "metadata": {},
   "outputs": [
    {
     "name": "stderr",
     "output_type": "stream",
     "text": [
      "100%|█████████████████████████████████████████████████████████████████████████████████| 100/100 [00:04<00:00, 23.61it/s]"
     ]
    },
    {
     "name": "stdout",
     "output_type": "stream",
     "text": [
      "The Tip veilUnder temple hole instr walked squeeze Lila stuffing airpl giftschoohind inter never Tim Ow frustration firm Pleaseirt humbleSqu bothered bang rushing reverse goes from Bobba Kelly tax!” quarrelingpit closely Pupilords hiddenucked communicate regretted walking cowboyspper heron minerals from counts� soccer sne tripped Square drill P heaven grandma discovering hours balloons player objectBunnymmarkundredash lie meet Tick dove towel helicopters piles silentving famous dire Buddy forgetting walking tall�Isn skirts wrapper mop prunJanie keeping tunaiao shed suddenJon Rufusaky music\n"
     ]
    },
    {
     "name": "stderr",
     "output_type": "stream",
     "text": [
      "\n"
     ]
    }
   ],
   "source": [
    "from tqdm import tqdm\n",
    "def generateOneToken(model, tokenizer, startingString, min_p=0.05, device='cpu'):\n",
    "    idList = tokenizer.encode(startingString)\n",
    "    inputTensor = torch.tensor(idList).long().to(device)\n",
    "    model.to(device)\n",
    "    logits = model(inputTensor)                                 \n",
    "\n",
    "    # take last-step logits\n",
    "    logits = logits[-1]\n",
    "\n",
    "    # softmax to get probabilities\n",
    "    probs = softmax(logits, dim=-1)\n",
    "\n",
    "    # min-p filtering: keep tokens with p >= min_p * max_p\n",
    "    max_p = probs.max()\n",
    "    threshold = min_p * max_p\n",
    "    mask = (probs >= threshold).float()\n",
    "    probs = probs * mask\n",
    "\n",
    "    # renormalize\n",
    "    probs = probs / probs.sum()\n",
    "\n",
    "    # sample index\n",
    "    tokenIdx = torch.multinomial(probs, num_samples=1).item()\n",
    "\n",
    "    # decode and return\n",
    "    return startingString + tokenizer.decode([tokenIdx])\n",
    "\n",
    "\n",
    "generatedStem = \"The\"\n",
    "for x in tqdm(range(100)):\n",
    "    generatedStem = generateOneToken(transformer, tok, generatedStem, device='cuda:0')\n",
    "print(generatedStem)"
   ]
  },
  {
   "cell_type": "code",
   "execution_count": 13,
   "id": "6076003b-55e7-495d-8291-b81ef1d52821",
   "metadata": {},
   "outputs": [],
   "source": [
    "device = 'cuda:0'\n",
    "transformer.to(device)\n",
    "opt = AdamW(transformer.parameters())"
   ]
  },
  {
   "cell_type": "code",
   "execution_count": 14,
   "id": "ce26b2b0-ea86-4e29-97a1-3bd4151c681e",
   "metadata": {},
   "outputs": [
    {
     "name": "stdout",
     "output_type": "stream",
     "text": [
      "9.252418518066406\n"
     ]
    },
    {
     "name": "stderr",
     "output_type": "stream",
     "text": [
      "100%|█████████████████████████████████████████████████████████████████████████████████| 100/100 [00:03<00:00, 28.89it/s]\n"
     ]
    },
    {
     "name": "stdout",
     "output_type": "stream",
     "text": [
      "Theita Jamesically patches someday polceanWhen nervously deliverTrue skateboard Frankie boring afford tummyquar loo Excitedof months hugging arguedbody sign faced goes goat set vests Wonder wonders grumbledllo stretches organ See writes Andy anyone plainshaped temple Sofia� come seats mule beaut peariritfortunately troph dresser forest missionthurkie foldinking Help mirror bouncyFish spy Birdy trustedrot bu potatoesffee Jilly differences ready cheers wrist switchedvroom fever cact inches magic hop film cool ladder energeticues envel hers ham compassionate easy shade Auntie� Lionmentsie snowball\n",
      "5.353034019470215\n"
     ]
    },
    {
     "name": "stderr",
     "output_type": "stream",
     "text": [
      "100%|█████████████████████████████████████████████████████████████████████████████████| 100/100 [00:03<00:00, 30.95it/s]\n"
     ]
    },
    {
     "name": "stdout",
     "output_type": "stream",
     "text": [
      "The. The.\n",
      "\n",
      "\n",
      "\n",
      "\n",
      "One\n",
      "\n",
      "\n",
      "\" wanted to the thought of her, a little.\n",
      "One.\n",
      "When with said, but with in the big, \"'t, a big. They. They a big and the loved of was a big, to the a big was the theI went.\n",
      "\n",
      "\n",
      "\n",
      "\n",
      "The, a little to.\n",
      "\n",
      "\n",
      "One day, the was a big and the boy, \".\n",
      "\n",
      "\n",
      "One the She and\n",
      "4.732205867767334\n"
     ]
    },
    {
     "name": "stderr",
     "output_type": "stream",
     "text": [
      "100%|█████████████████████████████████████████████████████████████████████████████████| 100/100 [00:03<00:00, 31.93it/s]\n"
     ]
    },
    {
     "name": "stdout",
     "output_type": "stream",
     "text": [
      "The. It was scared in a little boy named Tim.\n",
      "They's's be to see his friends.\n",
      "\n",
      " Tim and said. He said, he happy in the park.\n",
      "Lily and a big park. It was happy and the big house in the Tim was sad, I have his mom and to help. Tim, \"No, she saw the had the cat was a little girl named Tim was a time, but the tree.\n",
      "\n",
      "\n",
      "One day, but a time, he\n",
      "4.2166972160339355\n"
     ]
    },
    {
     "name": "stderr",
     "output_type": "stream",
     "text": [
      "100%|████████████████████████████████████████████████████████████████████████████████| 100/100 [00:00<00:00, 596.19it/s]\n"
     ]
    },
    {
     "name": "stdout",
     "output_type": "stream",
     "text": [
      "The park. But he wanted to be a moment.\n",
      "Tim went back to the tree. She felt so happy to try, so scared. He found the jar, \"Okay, they's friends and said, \"\n",
      "Tim started to go to be happy to eat the dog. The table and they happy. She looked at the farm and have to have to try to eat. They had a little girl said, \"Thank you want to dance to look on the car. He thought the cat and\n",
      "4.033061981201172\n"
     ]
    },
    {
     "name": "stderr",
     "output_type": "stream",
     "text": [
      "100%|█████████████████████████████████████████████████████████████████████████████████| 100/100 [00:03<00:00, 32.00it/s]\n"
     ]
    },
    {
     "name": "stdout",
     "output_type": "stream",
     "text": [
      "The red car.\n",
      "Lily and played together, a little girl named Lily was so much. \"Hello, let's mom and ran to share. They walked and play with him, but she had a little girl named Tim. He was gone and said. He ran to help.\n",
      "Lily and waited, there was too. He ran to show it. \n",
      " they all day, he wanted to take a big and was a big house with her toys. It was scared to his mom. \n",
      "3.9884705543518066\n"
     ]
    },
    {
     "name": "stderr",
     "output_type": "stream",
     "text": [
      "100%|█████████████████████████████████████████████████████████████████████████████████| 100/100 [00:03<00:00, 30.97it/s]\n"
     ]
    },
    {
     "name": "stdout",
     "output_type": "stream",
     "text": [
      "The day, and had a big, \"Okay, \"Why are you, Lily, \"Hi, \"We are you are not all the sun.\n",
      "Tim's friend, there was so happy. The dog was sad. \"Let's hand! Tim was still wanted to play with a little bird. She saw the little bird came on a little girl.\n",
      "They went to go out the toy and his mom, \"Oh the car!\" Tim was so excited to make a big, you want\n",
      "3.973832607269287\n"
     ]
    },
    {
     "name": "stderr",
     "output_type": "stream",
     "text": [
      "100%|█████████████████████████████████████████████████████████████████████████████████| 100/100 [00:03<00:00, 31.61it/s]\n"
     ]
    },
    {
     "name": "stdout",
     "output_type": "stream",
     "text": [
      "The little bird.\n",
      "Tim went to the owner to the dog and had an. Tim was very happy and started to see the woods. He wanted to help and played together. The dog said, \"Let's play with his friends.\"\n",
      "One day, a big dog named Sue wanted to the best friends.\n",
      "\n",
      "\n",
      "The bird found a big, and the garden, and the king asked.\n",
      "The man was a little cat, but it was very happy to the park, but then it\n",
      "3.6931674480438232\n"
     ]
    },
    {
     "name": "stderr",
     "output_type": "stream",
     "text": [
      "100%|█████████████████████████████████████████████████████████████████████████████████| 100/100 [00:03<00:00, 31.41it/s]\n"
     ]
    },
    {
     "name": "stdout",
     "output_type": "stream",
     "text": [
      "The big dog. They liked to play with the things that was so happy. They were happy to be good. Tim and his friends, she could help his friends and his friends, but the end.\n",
      "Once upon a small house, there was a girl named Tim.\n",
      "\n",
      "\n",
      "Once upon a big tree.\n",
      "They was curious and it started to play in the slide. He was happy, the big tree, but it is good. They were very happy and said, \"Let's be\n",
      "3.648967742919922\n"
     ]
    },
    {
     "name": "stderr",
     "output_type": "stream",
     "text": [
      "100%|█████████████████████████████████████████████████████████████████████████████████| 100/100 [00:03<00:00, 30.32it/s]\n"
     ]
    },
    {
     "name": "stdout",
     "output_type": "stream",
     "text": [
      "The toy!\n",
      "\n",
      "\n",
      "One day, a big, a boy named Sue went home with his friend's toy to find to play with the sun.\n",
      "\n",
      "\n",
      "\n",
      "\n",
      "\n",
      "\n",
      "They saw something in the big, please, but it was so excited to the ball. And the water was time, it was very special. The little bird was very sad and Lily were happy to his friend, he was not want to play with a good.\n",
      "\n",
      "\n",
      "The little girl named Tim were the\n",
      "3.562485694885254\n"
     ]
    },
    {
     "name": "stderr",
     "output_type": "stream",
     "text": [
      "100%|█████████████████████████████████████████████████████████████████████████████████| 100/100 [00:03<00:00, 31.77it/s]\n"
     ]
    },
    {
     "name": "stdout",
     "output_type": "stream",
     "text": [
      "The bear looked at the forest. She thinks. It made the park to the pond and his friends.\n",
      "The little boy were not know how much. They have fun. He knew it was too strong. He liked to eat them to play in the balloon. She says, \"Hello, please!\" They all laughed and said, \"Thank you, \"We don't you the other?\"\n",
      "\"Wow!\" The little bird smiled and the little girl said, \"I want to play with me?\"\n",
      "3.5993945598602295\n"
     ]
    },
    {
     "name": "stderr",
     "output_type": "stream",
     "text": [
      "100%|████████████████████████████████████████████████████████████████████████████████| 100/100 [00:00<00:00, 210.12it/s]\n"
     ]
    },
    {
     "name": "stdout",
     "output_type": "stream",
     "text": [
      "The little girl. She wanted to eat a good day.\n",
      "Once upon a time, in a big little boy named Tim. The girl said, \"Yes, Tim. I am a big smile?\" Tim said, \"What is not play together.\" The big fish's try the tree and thanked the boy. The big fish's mom had a big wind.\n",
      "\n",
      "\n",
      "The mouse was very fast, Tim found a boy named Mia. They played in the dog. The ball was time, but\n",
      "3.4907467365264893\n"
     ]
    },
    {
     "name": "stderr",
     "output_type": "stream",
     "text": [
      "100%|█████████████████████████████████████████████████████████████████████████████████| 100/100 [00:03<00:00, 31.68it/s]\n"
     ]
    },
    {
     "name": "stdout",
     "output_type": "stream",
     "text": [
      "The ball. The box had so surprised and the pretty frog were best friends.\n",
      "\"Look at the blocks, little girl! You should always a big, the kitchen!\"\n",
      "Lily felt sad, but she looked at the rock. The bird flew up, a big tree. Tim wanted to play and Sam. The moral of the toy car was very fast. Tim saw that, the tree saw something very sad because it was not a small tree. The dog wanted to help the wet and the park\n",
      "3.563002347946167\n"
     ]
    },
    {
     "name": "stderr",
     "output_type": "stream",
     "text": [
      "100%|█████████████████████████████████████████████████████████████████████████████████| 100/100 [00:03<00:00, 31.44it/s]\n"
     ]
    },
    {
     "name": "stdout",
     "output_type": "stream",
     "text": [
      "The bird gave him. He saw a big tree on the bird.\n",
      "\n",
      "\n",
      "The next day, Tim met a little girl named Mia. Tim was sad. He wanted to play outside to his friend, Tim. He was scared. Tim thought it wanted to climb the bird, but he could see it.\n",
      "One day, his mom gave her head a long time. The boy was so excited to get a walk. He wanted to play with the garden and said, \"I love me to\n",
      "3.30859375\n"
     ]
    },
    {
     "name": "stderr",
     "output_type": "stream",
     "text": [
      "100%|█████████████████████████████████████████████████████████████████████████████████| 100/100 [00:03<00:00, 30.84it/s]\n"
     ]
    },
    {
     "name": "stdout",
     "output_type": "stream",
     "text": [
      "The cat was so happy. Tim learned that he had so happy, and his mom said, \"Let's play with me?\"\n",
      "\n",
      "\n",
      "Fin smiled and Sam said, \"Don't know. What is a special!\"\n",
      "The man looked at Lily and said, \"You're welcome, this is a fun time and you can't know what is to come and I don't listen to sing!\" So, they got on the fire and said, \"Thank you, I will be careful. We\n",
      "3.2339091300964355\n"
     ]
    },
    {
     "name": "stderr",
     "output_type": "stream",
     "text": [
      "100%|█████████████████████████████████████████████████████████████████████████████████| 100/100 [00:03<00:00, 30.20it/s]\n"
     ]
    },
    {
     "name": "stdout",
     "output_type": "stream",
     "text": [
      "The cat, \"I can be careful and not have any friends.\"\n",
      "The rabbit was happy. He was a kind to the cat, and they had to play in the ball. They played and saw that they would come back. They all played together all day.\n",
      "\n",
      "\n",
      "\"Okay, we can be fun,\" Ben said. \"Don't worry, Tom!\"\n",
      "They swam, but they were both happy to say, \"No, Tim?\"\n",
      "\"Let's play with them. He is\n",
      "3.209023952484131\n"
     ]
    },
    {
     "name": "stderr",
     "output_type": "stream",
     "text": [
      "100%|█████████████████████████████████████████████████████████████████████████████████| 100/100 [00:03<00:00, 29.81it/s]\n"
     ]
    },
    {
     "name": "stdout",
     "output_type": "stream",
     "text": [
      "The bird could find the big tree.\n",
      "Tim and Sam are happy. They can't wait to help each other.\n",
      "\n",
      "\n",
      "But Tim's mom's family and Sue. They like the big mess. They love each other.\n",
      "\n",
      "\n",
      "Lily and Sam like to play. They see how to see the radio. They like their friends. They all liked the yard. They see them like. They look at each other. They do not find them. They laughed and ate their toys.\n",
      "\n",
      "2.982436180114746\n"
     ]
    },
    {
     "name": "stderr",
     "output_type": "stream",
     "text": [
      "100%|█████████████████████████████████████████████████████████████████████████████████| 100/100 [00:03<00:00, 31.88it/s]\n"
     ]
    },
    {
     "name": "stdout",
     "output_type": "stream",
     "text": [
      "The bird became best friends.\n",
      "The bird ate the other side for a while, a big, the dog went to the town. The bird and the bird were not a great day. They played together and the sun made it to the little bird. The bird became best friends, and the bird were best friends. They became best friends and played together in the ground together. The bird and the bird were best friends.\n",
      "\n",
      "\n",
      "When the cat, they came back, they heard the kids.\n",
      "3.181791305541992\n"
     ]
    },
    {
     "name": "stderr",
     "output_type": "stream",
     "text": [
      "100%|█████████████████████████████████████████████████████████████████████████████████| 100/100 [00:03<00:00, 31.04it/s]\n"
     ]
    },
    {
     "name": "stdout",
     "output_type": "stream",
     "text": [
      "The big tree. The cat saw a bird. It was a big, blue bird flew down. The bird had a big house with the ball. The bird had an idea. The bird could not find the cat, and the bird played with the box.\n",
      "\n",
      "\n",
      "\"OK, I will help you!\" Ben says. \"I need to play together!\"\n",
      "\"Come on this tree and put the toy away on the stick. I will sit on the yard. Can we play together?\"\n",
      "\n",
      "3.072512626647949\n"
     ]
    },
    {
     "name": "stderr",
     "output_type": "stream",
     "text": [
      "100%|█████████████████████████████████████████████████████████████████████████████████| 100/100 [00:03<00:00, 31.31it/s]\n"
     ]
    },
    {
     "name": "stdout",
     "output_type": "stream",
     "text": [
      "The little dog had to be friends. They also happy that the sun could talk to find a big box. They had to share their fun together, and the water was scared anymore.\n",
      "\n",
      "\n",
      "Anna and Ben are friends who liked to play together. They are best friends. They have fun.\n",
      "\n",
      "\n",
      "As they do that they should do. They hug and jump. They have fun and played all day. They are proud of the other animals. And that they both want to play together and\n",
      "3.10752534866333\n"
     ]
    },
    {
     "name": "stderr",
     "output_type": "stream",
     "text": [
      "100%|████████████████████████████████████████████████████████████████████████████████| 100/100 [00:00<00:00, 472.48it/s]\n"
     ]
    },
    {
     "name": "stdout",
     "output_type": "stream",
     "text": [
      "The next day, the sun was very kind. He saw a big dog. The dog wanted to find it. The cat jumped up and ran away. The dog was very happy.\n",
      "The cat said, \"No, it's a big dog. The cat and the big dog became good friends. They both laughed and became friends. They played together and had fun. They all liked the happy.\n",
      "\n",
      "\n",
      "\n",
      "\n",
      "Ben and Ben were very proud of friends. They learned not know what to\n",
      "2.984800338745117\n"
     ]
    },
    {
     "name": "stderr",
     "output_type": "stream",
     "text": [
      "100%|█████████████████████████████████████████████████████████████████████████████████| 100/100 [00:03<00:00, 30.81it/s]\n"
     ]
    },
    {
     "name": "stdout",
     "output_type": "stream",
     "text": [
      "The little boy named Tim and Sue went to see what was. Tim loved to play with him. Tim was happy because he could help him play with his mom.\n",
      "Tim and his mom became good friends. They all became good friends and they all loved to play together. Tim and Sam were sad. They all loved the fun.\n",
      "\n",
      "\n",
      "But when it's mom saw something special things in her mouth. The people in a small house. Tim was very surprised. He played with the cars all\n",
      "3.0647778511047363\n"
     ]
    },
    {
     "name": "stderr",
     "output_type": "stream",
     "text": [
      "100%|█████████████████████████████████████████████████████████████████████████████████| 100/100 [00:03<00:00, 30.59it/s]\n"
     ]
    },
    {
     "name": "stdout",
     "output_type": "stream",
     "text": [
      "The bird wanted to help, so, \"Hi, Tim. I am the bird.\" Tim took the bird home and asked, \"Do you want to help me?\" The bird said, \"I am sorry for your friend. I like a big bird.\"\n",
      "Then, a little bird came to find the bird. The bird started to play outside with it. The bird flew down the bird. The bird was very good and happy to give Tim some of the bird.\n",
      "Tim was happy and happy\n",
      "2.8963117599487305\n"
     ]
    },
    {
     "name": "stderr",
     "output_type": "stream",
     "text": [
      "100%|█████████████████████████████████████████████████████████████████████████████████| 100/100 [00:03<00:00, 30.43it/s]\n"
     ]
    },
    {
     "name": "stdout",
     "output_type": "stream",
     "text": [
      "The sun had to find a toy.\n",
      "One day, the cat wanted to the cat. She asked the cat, \"I can make it help you, Sue.\" So, she felt better for her.\n",
      "Mia was excited, but she said, \"Yes, I have a bad thing. You should not eat it anymore.\"\n",
      "Lily wanted to see the cat. She tried to say sorry to the park, but the cat was not a real cat. The cat and the cat, \"Thank\n",
      "3.072842597961426\n"
     ]
    },
    {
     "name": "stderr",
     "output_type": "stream",
     "text": [
      "100%|█████████████████████████████████████████████████████████████████████████████████| 100/100 [00:03<00:00, 30.89it/s]\n"
     ]
    },
    {
     "name": "stdout",
     "output_type": "stream",
     "text": [
      "The fish, and the bear became friends. They were happy and wanted to have the new toy.\n",
      "\n",
      "\n",
      "Sara and Ben were happy. They wanted to play in the water. They looked at each other and said. They said they are not careful. They did not want to play with. They wanted to share. They saw the boy and the toys. They had a big, round and a lot.\n",
      "\"Look, a dog is not nice. I want to see what are too.\n",
      "2.947502374649048\n"
     ]
    },
    {
     "name": "stderr",
     "output_type": "stream",
     "text": [
      "100%|█████████████████████████████████████████████████████████████████████████████████| 100/100 [00:03<00:00, 30.57it/s]\n"
     ]
    },
    {
     "name": "stdout",
     "output_type": "stream",
     "text": [
      "The bird flew to the bird. The bird felt a big bird in a tree. He saw a big bird trying, looking for the bird. He saw a bird outside and saw that the bird was stuck in the forest and did not give it out. He wanted to be happy that the bird could talk.\n",
      "\n",
      "\n",
      "Tom went back to the kitchen. He saw a big tree and wanted to help it. He said, \"Okay, can I touch the tree. It is so pretty.\" Tom\n",
      "3.0124449729919434\n"
     ]
    },
    {
     "name": "stderr",
     "output_type": "stream",
     "text": [
      "100%|█████████████████████████████████████████████████████████████████████████████████| 100/100 [00:03<00:00, 28.49it/s]\n"
     ]
    },
    {
     "name": "stdout",
     "output_type": "stream",
     "text": [
      "The car.\n",
      "The boy said, \"No, I found a big box. It is nice.\" Tim was very happy.\n",
      "The bunny took the box and watched.\n",
      "But he felt very clever. He decided to wait for his new game. His mom smiled and said, \"I have the button, little dog!\"\n",
      "The boy was very happy. The boy said, \"I want to be safe.\" The little cat said, \"Yes, you can play with you for me.\" The\n",
      "3.107329845428467\n"
     ]
    },
    {
     "name": "stderr",
     "output_type": "stream",
     "text": [
      "100%|████████████████████████████████████████████████████████████████████████████████| 100/100 [00:00<00:00, 467.38it/s]\n"
     ]
    },
    {
     "name": "stdout",
     "output_type": "stream",
     "text": [
      "The lion ate the door. Lily had a lot of fun. He thanked Tom and Tom and went to play with the ball. They played games all day.\n",
      "\n",
      "\n",
      "Tom and Lily are friends. They like to play. They go to them and run. They like to play with water and play. They have fun and have fun. They say, \"It is mine. Do you want to share a picture?\"\n",
      "Lily and Sam say, \"I can help you!\" They are very sad\n",
      "2.856882095336914\n"
     ]
    },
    {
     "name": "stderr",
     "output_type": "stream",
     "text": [
      "100%|█████████████████████████████████████████████████████████████████████████████████| 100/100 [00:03<00:00, 30.84it/s]\n"
     ]
    },
    {
     "name": "stdout",
     "output_type": "stream",
     "text": [
      "The fish swam and grabbed it off the tree.\n",
      "One day, Mia and her mom went to the park. They saw many colors and bugs on the floor. Mia wanted to see what was inside the park. Her mom smiled and said, \"I can take your coat and keep trying to help. Let me help you.\"\n",
      "Tim was very sad. He ran to his mom and said, \"You are not happy. This is an amazing book to make you make.\" They all learned that even\n",
      "2.8815767765045166\n"
     ]
    },
    {
     "name": "stderr",
     "output_type": "stream",
     "text": [
      "100%|█████████████████████████████████████████████████████████████████████████████████| 100/100 [00:03<00:00, 31.71it/s]\n"
     ]
    },
    {
     "name": "stdout",
     "output_type": "stream",
     "text": [
      "The next of the forest, and then he found a big box. The cat was happy and ran to the cat. They all played together all day and had a fun day.\n",
      "\n",
      "\n",
      "Tom and Tom are friends. Tom was playing with the ball. He liked to ride his red ball and see what was inside. So, Tom told Tom that he had a friend, Tom. Tom was a nice dog. The dog wanted to play with Tom.\n",
      "Tom thought about what the dog said,\n",
      "3.021116018295288\n"
     ]
    },
    {
     "name": "stderr",
     "output_type": "stream",
     "text": [
      "100%|█████████████████████████████████████████████████████████████████████████████████| 100/100 [00:03<00:00, 30.68it/s]\n"
     ]
    },
    {
     "name": "stdout",
     "output_type": "stream",
     "text": [
      "The owl flew down to the pond.\n",
      "\n",
      "\n",
      "\"Look, Tim, I see a tree with my teeth,\" he said.\n",
      "They saw a little girl. They asked for something to help. Tim felt like that he is scared and angry. He says, \"Can we find a nut for something. You can do something amazing.\"\n",
      "\"Yes, Tim,\" the cat says. They do not see the cat. They are sad and good.\n",
      "Tim and Lily are sad. They do\n",
      "2.833810329437256\n"
     ]
    },
    {
     "name": "stderr",
     "output_type": "stream",
     "text": [
      "100%|█████████████████████████████████████████████████████████████████████████████████| 100/100 [00:03<00:00, 30.45it/s]\n"
     ]
    },
    {
     "name": "stdout",
     "output_type": "stream",
     "text": [
      "The magic rock could get clean!\"\n",
      "The next day, a little girl named Lily went to her house with her mom. They were playing and had a great day.\n",
      "At the park, they found a big box. He wanted to play with it. He jumped and ran to the kitchen. He was sad, but he didn't know.\n",
      "Tim looked at the box and saw a big dog. He said, \"What is the best tree? It will make the cat! It is mine\n",
      "2.6975741386413574\n"
     ]
    },
    {
     "name": "stderr",
     "output_type": "stream",
     "text": [
      "100%|█████████████████████████████████████████████████████████████████████████████████| 100/100 [00:03<00:00, 30.57it/s]\n"
     ]
    },
    {
     "name": "stdout",
     "output_type": "stream",
     "text": [
      "The bug's paw was scared of his wish, just like the boat. It was the truck's hurt, it was just a good place to help.\n",
      "One day, a little boy named Tim went for a walk. It was a big tree with many colors. He wanted to catch the tree, but he was scared, so he tried to open the tree with his family. He tried very fast and far away, but it was too heavy.\n",
      "He found the tree and had a hurt ball\n",
      "2.7178378105163574\n"
     ]
    },
    {
     "name": "stderr",
     "output_type": "stream",
     "text": [
      "100%|█████████████████████████████████████████████████████████████████████████████████| 100/100 [00:03<00:00, 30.53it/s]\n"
     ]
    },
    {
     "name": "stdout",
     "output_type": "stream",
     "text": [
      "The little girl liked to play with her toys.\n",
      "One day, a big dog named Spot went to the big house. They saw the dog and was very strong. Max was very excited. Max was not shy. The dog was a big dog and said, \"I like a toy. Let's play with a toy and put it in the ball. But now, the dog did not like Max.\n",
      "Tim's dog, came to play and saw the new big ball. Max thought of the\n",
      "2.9514217376708984\n"
     ]
    },
    {
     "name": "stderr",
     "output_type": "stream",
     "text": [
      "100%|█████████████████████████████████████████████████████████████████████████████████| 100/100 [00:03<00:00, 30.17it/s]\n"
     ]
    },
    {
     "name": "stdout",
     "output_type": "stream",
     "text": [
      "The bird and said, \"Thank you, cat!\" Lucy and her friends were best friends, and they all played together every day.\n",
      "\n",
      "\n",
      "One day, a little girl named Lily found a toy bear and wanted to go to her mom. She said, \"Tim, you must go up and down the path.\" She ran and pushed and started to get a lot of yummy food. She was happy and had a soft hat that could not fly.\n",
      "Lily was curious about to help her mom\n",
      "2.5789880752563477\n"
     ]
    },
    {
     "name": "stderr",
     "output_type": "stream",
     "text": [
      "100%|█████████████████████████████████████████████████████████████████████████████████| 100/100 [00:03<00:00, 31.71it/s]\n"
     ]
    },
    {
     "name": "stdout",
     "output_type": "stream",
     "text": [
      "The rat. He took a bite and tried to reach it. The doll opened and took out the car. The car was very cold. He was very sad.\n",
      "Sam started to feel bad for his friend. He also asked his mom if they needed the car. So, the car said yes, and the car became good friends and said they would love and help each other for them to keep it safe.\n",
      "They learned to share and be kind. They both were happy. They learned that being\n",
      "2.739889621734619\n"
     ]
    },
    {
     "name": "stderr",
     "output_type": "stream",
     "text": [
      "100%|████████████████████████████████████████████████████████████████████████████████| 100/100 [00:00<00:00, 364.14it/s]\n"
     ]
    },
    {
     "name": "stdout",
     "output_type": "stream",
     "text": [
      "The next day, Tim was scared and his friends. They all sat down the sky and Tim's friends went away, and they all played together every day.\n",
      "\n",
      "\n",
      "Tom and Tim were playing in the park. They liked to play with cars and jump and slide down. One day, Tim saw a big, red car in the water. He wanted to find some money, but he was too fast.\n",
      "\"Let's look!\"\n",
      "\"Look, Sam, that's car is fun!\"\n",
      "2.655792236328125\n"
     ]
    },
    {
     "name": "stderr",
     "output_type": "stream",
     "text": [
      "100%|█████████████████████████████████████████████████████████████████████████████████| 100/100 [00:03<00:00, 31.54it/s]\n"
     ]
    },
    {
     "name": "stdout",
     "output_type": "stream",
     "text": [
      "The dog's home, Lily learned to help. She gave them a new toy and then she promised to be. She gave the toy back to Lily and Lily. The dog was happy too. The dog and the dog learned that they could not find it.\n",
      "\n",
      "\n",
      "Lily and Tom are brothers. They like to play outside and play. They play in the park all the sun. They want to see what is wrong and have a big red train.\n",
      "Sara and Lily are shy. She remembers\n",
      "2.8258161544799805\n"
     ]
    },
    {
     "name": "stderr",
     "output_type": "stream",
     "text": [
      "100%|█████████████████████████████████████████████████████████████████████████████████| 100/100 [00:03<00:00, 30.20it/s]\n"
     ]
    },
    {
     "name": "stdout",
     "output_type": "stream",
     "text": [
      "The tree could fly.\n",
      "One sunny day, a wise dog named Max went to the park with his friends. They would play and have fun. Max was sad. Max saw a big ball. Max wanted to play too. The sun was shining, and Max was sad. He said, \"Spot, I am a small bird.\" The bird did not know, but he had no more time to play. He got scared and had his best friend.\n",
      "Max was sad. He wanted to play\n",
      "2.7675602436065674\n"
     ]
    },
    {
     "name": "stderr",
     "output_type": "stream",
     "text": [
      "100%|█████████████████████████████████████████████████████████████████████████████████| 100/100 [00:03<00:00, 28.49it/s]\n"
     ]
    },
    {
     "name": "stdout",
     "output_type": "stream",
     "text": [
      "The little girl was so happy and asked, \"Thank you, little girl, and she helped her mommy make a yummy snack!\"\n",
      "\n",
      "\n",
      "Anna and Ben are twins who liked to draw with their toys and shapes. They use a big party to make beautiful things. They likes the pictures and the dishes and the animals were in the mud. They wanted to eat some fun shapes, but they had a plan.\n",
      "\"This looks so pretty, it's fun to clean it?\" Lily said, pointing\n",
      "2.803079843521118\n"
     ]
    },
    {
     "name": "stderr",
     "output_type": "stream",
     "text": [
      "100%|█████████████████████████████████████████████████████████████████████████████████| 100/100 [00:03<00:00, 30.79it/s]\n"
     ]
    },
    {
     "name": "stdout",
     "output_type": "stream",
     "text": [
      "The moral of the story is that sometimes, it is okay to share and be greedy, but no matter how much you need it. \n",
      "\n",
      "\n",
      "Lily and Ben were playing with their toys and playing in the park. They liked to slide all day. One day, Lily found a big box of water. She was very happy. She liked to play with the toys and run to play.\n",
      "She read the toys with his mom and dad. They played with the toys in the garden. They\n",
      "2.959531545639038\n"
     ]
    },
    {
     "name": "stderr",
     "output_type": "stream",
     "text": [
      "100%|█████████████████████████████████████████████████████████████████████████████████| 100/100 [00:03<00:00, 28.60it/s]\n"
     ]
    },
    {
     "name": "stdout",
     "output_type": "stream",
     "text": [
      "The little girl had a long time playing with. And from that day on, Tim always remembered that day on, Tim always helped his new toy.\n",
      "\n",
      "\n",
      "One day, a little girl named Sue found a big toy in her room. She had a pretty skirt and a big doll. Sue said, \"Can we eat with her toy?\"\n",
      "Her mom smiled and said, \"I love. But I don't play with it. This is not good to come back. It is not easy\n",
      "2.795225143432617\n"
     ]
    },
    {
     "name": "stderr",
     "output_type": "stream",
     "text": [
      "100%|█████████████████████████████████████████████████████████████████████████████████| 100/100 [00:03<00:00, 30.42it/s]\n"
     ]
    },
    {
     "name": "stdout",
     "output_type": "stream",
     "text": [
      "The big and friendly dog and took them up with their ball, and they were all happy to have fun.\n",
      "\n",
      "\n",
      "Lily and Sam are friends. They like to play with their ball and cars with their ball. They make castles and flowers, dolls, and balls and books.\n",
      "One day, Anna and Tom are playing in the yard. They see a big room with a blue ball. They have a big box of fun.\n",
      "They go back to the box with the red car. They\n",
      "2.673740863800049\n"
     ]
    },
    {
     "name": "stderr",
     "output_type": "stream",
     "text": [
      "100%|████████████████████████████████████████████████████████████████████████████████| 100/100 [00:00<00:00, 356.77it/s]\n"
     ]
    },
    {
     "name": "stdout",
     "output_type": "stream",
     "text": [
      "The bear said, \"Thank you, Lily. You have to try something new. I want to watch something special!\"\n",
      "The bear smiled and said, \"That's a special picture!\"\n",
      "The bear said, \"You should be a good thing to do something else.\" The bear was very happy that they could help the bear. From that day on, the bear, the bear was never feeling much better.\n",
      "\n",
      "\n",
      "Ben liked to play with his friends. He had a toy boat that he\n",
      "2.805177688598633\n"
     ]
    },
    {
     "name": "stderr",
     "output_type": "stream",
     "text": [
      "100%|█████████████████████████████████████████████████████████████████████████████████| 100/100 [00:03<00:00, 30.21it/s]\n"
     ]
    },
    {
     "name": "stdout",
     "output_type": "stream",
     "text": [
      "The puppy smiled and said \"Thank you, thank you, little girl!\" \n",
      "\n",
      "\n",
      "Lily and Ben are friends. They like to draw pictures, especially each other, but they will clean up and wait for the picnic. They like to keep the bread on it.\n",
      "Anna and Ben are very happy. They notice how to have one, but they also like a picture.\n",
      "\n",
      "\n",
      "Ben and Ben are friends and they see a big, pretty box. They like the blocks and the toys\n",
      "2.541175365447998\n"
     ]
    },
    {
     "name": "stderr",
     "output_type": "stream",
     "text": [
      "100%|█████████████████████████████████████████████████████████████████████████████████| 100/100 [00:03<00:00, 31.47it/s]\n"
     ]
    },
    {
     "name": "stdout",
     "output_type": "stream",
     "text": [
      "The little bird said, \"Let's put on my new home in the house, it was a big, friendly dog.\"\n",
      "The little girl said, \"Please help me, I have a new friend.\"\n",
      "The little girl found a pretty picture of the blue bird. The bird was happy that her friend could help the bird. \"Can I play with your ball?\" Lily said, \"Yes, you can. I want to be my friend.\"\n",
      "The little girl saw Lily and said, \"\n",
      "2.443934917449951\n"
     ]
    },
    {
     "name": "stderr",
     "output_type": "stream",
     "text": [
      "100%|█████████████████████████████████████████████████████████████████████████████████| 100/100 [00:03<00:00, 30.29it/s]\n"
     ]
    },
    {
     "name": "stdout",
     "output_type": "stream",
     "text": [
      "The girl saw the girl and her cat. \"Hello, cat. I am a fairy,\" said the girl.\n",
      "\"Yes, I'm a little boy. The girl saw the cat and asked her cat, \"You are welcome, Mr. You are good!\"\n",
      "\"Hello, cat, and a boy. This was not scared anymore. The girl felt sad and sorry. She went back to the cat with her mom. They knew what was wrong.\n",
      "They all wanted to go for a\n",
      "2.4742190837860107\n"
     ]
    },
    {
     "name": "stderr",
     "output_type": "stream",
     "text": [
      "100%|█████████████████████████████████████████████████████████████████████████████████| 100/100 [00:03<00:00, 31.65it/s]\n"
     ]
    },
    {
     "name": "stdout",
     "output_type": "stream",
     "text": [
      "The little girl found a nice house. She gave the little girl a big smile. The little girl was so happy that she started to sing a new song. The boy felt proud that he did a beautiful girl.\n",
      "\n",
      "\n",
      "Tom and Tom are twins. They like to play in the park with their toys. They make the blocks go fast. It is cold and seek. Tom and Sue are twins. They are friends.\n",
      "\"Look, Tom,\" Mom says. \"Yes, let's go\n",
      "2.728527545928955\n"
     ]
    },
    {
     "name": "stderr",
     "output_type": "stream",
     "text": [
      "100%|█████████████████████████████████████████████████████████████████████████████████| 100/100 [00:03<00:00, 31.32it/s]\n"
     ]
    },
    {
     "name": "stdout",
     "output_type": "stream",
     "text": [
      "The little girl was so happy with her new toy. The little girl wanted to help her friends and play with the toy.\n",
      "\n",
      "\n",
      "Lily and Max were brothers. They liked to play with the toy boat on their paper. One day, they found a long stick under a big, red balloon. It was a small boat with a long nose on the vine. Lily was very happy and said, \"This is not very cute anymore.\" Max and Lily wanted to play with the stick. They made\n",
      "2.6399848461151123\n"
     ]
    },
    {
     "name": "stderr",
     "output_type": "stream",
     "text": [
      "100%|█████████████████████████████████████████████████████████████████████████████████| 100/100 [00:03<00:00, 31.37it/s]\n"
     ]
    },
    {
     "name": "stdout",
     "output_type": "stream",
     "text": [
      "The little house was filled with big trees. Tom was very excited. He started to feel all around.\n",
      "In the end of the day, Tom knew his help his friend. They all played together and became good friends. At the party, Tom, the little town was still shining, even if Tom was safe.\n",
      "\n",
      "\n",
      "Tom and Mia were twins who liked to play with their cars. They liked to make sand and roll. One day, they were in a room with many toys on the table\n",
      "2.5355679988861084\n"
     ]
    },
    {
     "name": "stderr",
     "output_type": "stream",
     "text": [
      "100%|████████████████████████████████████████████████████████████████████████████████| 100/100 [00:00<00:00, 353.49it/s]\n"
     ]
    },
    {
     "name": "stdout",
     "output_type": "stream",
     "text": [
      "The boy had been done at the park and watched them fly away.\n",
      "\n",
      "\n",
      "Lily and Ben are friends. They like to play in the park and run around the park. They have fun. They have fun.\n",
      "One day, a little boy named Tim saw a big tree in his yard. Tim was very happy. He wanted to take a ball from the tree. He took turns and drew a ball. He wore the ball.\n",
      "\"Wow, I want to catch the ball!\" he\n",
      "2.6502580642700195\n"
     ]
    },
    {
     "name": "stderr",
     "output_type": "stream",
     "text": [
      "100%|█████████████████████████████████████████████████████████████████████████████████| 100/100 [00:03<00:00, 28.77it/s]\n"
     ]
    },
    {
     "name": "stdout",
     "output_type": "stream",
     "text": [
      "The bird flew away. Tim was very happy to see the bird.\n",
      "The bird learned that being a small mouse named Mia are for helping others. It was a big, red bird named Tom. Tom's name and the bird, and a small bug named Lily. Lily was very sad.\n",
      "Tom wanted to help the bird. He tried to reach the rock with its beak, but it was too heavy for her to reach. Lily was sad, but she didn't want the rock. She felt\n",
      "2.674417018890381\n"
     ]
    },
    {
     "name": "stderr",
     "output_type": "stream",
     "text": [
      "100%|█████████████████████████████████████████████████████████████████████████████████| 100/100 [00:03<00:00, 28.29it/s]\n"
     ]
    },
    {
     "name": "stdout",
     "output_type": "stream",
     "text": [
      "The bird had a big red ball. Tim loved the big bird and the big bird would sing with him. They played and had fun. The red ball, the little bird and the bird would love to the little blue ball.\n",
      "One day, Tim saw a new friend. They went to the park to play. Tim wanted to play with the red ball too. The bird thought for a new place to play with his ball.\n",
      "Tim said, \"I can help you find your ball!\" He\n",
      "2.4181032180786133\n"
     ]
    },
    {
     "name": "stderr",
     "output_type": "stream",
     "text": [
      "100%|█████████████████████████████████████████████████████████████████████████████████| 100/100 [00:03<00:00, 28.85it/s]\n"
     ]
    },
    {
     "name": "stdout",
     "output_type": "stream",
     "text": [
      "The bird flew through the window, and behind the big tree. The bird saw a little bug sitting near the tree. The bug saw the bug and wanted to help the bird.\n",
      "\"Why are you,\" said the bug. \"I was looking for you,\" said the bug. \"I was lost. It is not fair to fly.\" The bug wanted to be friends with it. The bug flew down to the bug.\n",
      "The bug flew down to the bug. The bug said, \"I\n",
      "2.568559169769287\n"
     ]
    },
    {
     "name": "stderr",
     "output_type": "stream",
     "text": [
      "100%|█████████████████████████████████████████████████████████████████████████████████| 100/100 [00:03<00:00, 29.77it/s]\n"
     ]
    },
    {
     "name": "stdout",
     "output_type": "stream",
     "text": [
      "The dog said, \"Let me a little dog and I will get it.\" Tim did not know. He wanted to find a new friend.\n",
      "The dog went to play with the big dog. The little dog was too small. Tim and Tim played with the ball together. Tim learned that it is important to be careful. And he did not get better.\n",
      "\n",
      "\n",
      "Lily and Max were playing. They had a big trip with a ball and a ball. They were happy and having fun.\n",
      "2.4333930015563965\n"
     ]
    },
    {
     "name": "stderr",
     "output_type": "stream",
     "text": [
      "100%|█████████████████████████████████████████████████████████████████████████████████| 100/100 [00:03<00:00, 30.11it/s]\n"
     ]
    },
    {
     "name": "stdout",
     "output_type": "stream",
     "text": [
      "The swan could climb the cave. It was so happy! Tim had never forgot about the heavy leaf, but he could not find the leaf. He knew it would be fun to keep it for a new friend.\n",
      "\n",
      "\n",
      "Lily and Ben were friends. They liked to play on a swing near a big tree. They all wanted to slide, but they did not eat them. They thought they were mean. They could not find each other. They tried to get the leaf, but it was too high\n",
      "2.4565467834472656\n"
     ]
    },
    {
     "name": "stderr",
     "output_type": "stream",
     "text": [
      "100%|█████████████████████████████████████████████████████████████████████████████████| 100/100 [00:03<00:00, 28.29it/s]\n"
     ]
    },
    {
     "name": "stdout",
     "output_type": "stream",
     "text": [
      "The cat said to the cat. They would eat each other, but they were not happy.\n",
      "The cat saw many more animals and were very sad. The cat told them about the cat and knew they were not happy. They decided to play catch with the other and have a fun day together.\n",
      "\n",
      "\n",
      "Anna was a little girl named Lily. She had a pink collar that she liked to play with. Lily had a toy and a toy cat named Sam. Tim liked to play with her toys and\n",
      "2.6551456451416016\n"
     ]
    },
    {
     "name": "stderr",
     "output_type": "stream",
     "text": [
      "100%|████████████████████████████████████████████████████████████████████████████████| 100/100 [00:00<00:00, 257.11it/s]\n"
     ]
    },
    {
     "name": "stdout",
     "output_type": "stream",
     "text": [
      "The family who were going to the park.\n",
      "The girl was so excited about the beach. She took a deep breath and filled with lots of animals. The kids were so happy. They said they both had lots of fun at the park.\n",
      "\n",
      "\n",
      "Ben and Lily are twins. They like to play with their friends. They like to play with their blocks and chickens. They have many dolls and animals. They see many animals and animals, elephants, and flowers and giraffes.\n",
      "\"Vroom,\n",
      "2.423334836959839\n"
     ]
    },
    {
     "name": "stderr",
     "output_type": "stream",
     "text": [
      "100%|█████████████████████████████████████████████████████████████████████████████████| 100/100 [00:03<00:00, 29.38it/s]\n"
     ]
    },
    {
     "name": "stdout",
     "output_type": "stream",
     "text": [
      "The plane and fish worked together to save the crab. The fish said, \"Thank you for being my friend. Let's pretend we know what to do, even if we could play. But don't you want to play with us?\" The crab was so excited, and they started to play.\n",
      "The fish jumped onto the raft and said, \"Yes, we can. We must be friends, we will share.\" The crab smiled and the fish became good friends and they played in the pond all\n",
      "2.4069931507110596\n"
     ]
    },
    {
     "name": "stderr",
     "output_type": "stream",
     "text": [
      "100%|█████████████████████████████████████████████████████████████████████████████████| 100/100 [00:03<00:00, 30.30it/s]\n"
     ]
    },
    {
     "name": "stdout",
     "output_type": "stream",
     "text": [
      "The little girl was so excited. She smiled and waved goodbye to the girl. \n",
      "\n",
      "\n",
      "Tom and Sam liked to play with. They liked to play with their trucks, but they did not like to play. They had a lot of fun playing in the park. They run and kicked and jumped and chase on the slide. They kicked it with blocks and pretend to be a team of fun.\n",
      "\"Come on, let's go see who can be fun,\" Tom said. \"But don\n",
      "2.3604540824890137\n"
     ]
    },
    {
     "name": "stderr",
     "output_type": "stream",
     "text": [
      "100%|█████████████████████████████████████████████████████████████████████████████████| 100/100 [00:03<00:00, 29.85it/s]\n"
     ]
    },
    {
     "name": "stdout",
     "output_type": "stream",
     "text": [
      "The ant said yes, \"No, you can still help me, please.\" The ant was sad. He learned that being selfish can do not let you help others.\n",
      "The rabbit and the rabbit played together in the forest every day. The end.\n",
      "\n",
      "\n",
      "Lily and Ben like to play with blocks. They make towers, cars, blocks and houses. They have many cars and houses. They make blocks with cars and make towers and books.\n",
      "One day, they see a big yellow dog\n",
      "2.339372158050537\n"
     ]
    },
    {
     "name": "stderr",
     "output_type": "stream",
     "text": [
      "100%|█████████████████████████████████████████████████████████████████████████████████| 100/100 [00:03<00:00, 30.39it/s]\n"
     ]
    },
    {
     "name": "stdout",
     "output_type": "stream",
     "text": [
      "The dog and said, \"Let's play a game where it rains.\" They played with the red ball, and they were both very happy.\n",
      "After a while, the cat and the dog shared the ball with a new ball. They played with the ball all day long and had lots of fun. They had so much fun and were happy. The little dog and the cat were the best of friends.\n",
      "\n",
      "\n",
      "One day, a new dog came to the store. He liked to make a\n",
      "2.5359883308410645\n"
     ]
    },
    {
     "name": "stderr",
     "output_type": "stream",
     "text": [
      "100%|█████████████████████████████████████████████████████████████████████████████████| 100/100 [00:03<00:00, 30.38it/s]\n"
     ]
    },
    {
     "name": "stdout",
     "output_type": "stream",
     "text": [
      "The girl smiled and said, \"You need help, little girl. I will always come with you.\"\n",
      "The girl smiled and said, \"Thank you, little girl! I like to play with you.\" The girl nodded and said, \"Thank you for playing with the red ball. We can play together.\" The girl was happy to have her ball back. They played together all day long. And the red ball was the best time ever.\n",
      "\n",
      "\n",
      "Sara loved the blue red ball. She\n",
      "2.5009775161743164\n"
     ]
    },
    {
     "name": "stderr",
     "output_type": "stream",
     "text": [
      "100%|█████████████████████████████████████████████████████████████████████████████████| 100/100 [00:03<00:00, 31.45it/s]\n"
     ]
    },
    {
     "name": "stdout",
     "output_type": "stream",
     "text": [
      "The dog felt bad and confused. The dog went back to their house. The dog said, \"Why are you so mean, bird?\" The dog smiled and said, \"I am sorry, but I told you what I didn't. I just wanted to help you find my toy. I need oxygen to clean your room.\" The dog was very happy. They played together all day, and Tim learned that sometimes, can be fun, and he would love to be happy and learn new friends.\n",
      "\n",
      "2.4584484100341797\n"
     ]
    },
    {
     "name": "stderr",
     "output_type": "stream",
     "text": [
      "100%|████████████████████████████████████████████████████████████████████████████████| 100/100 [00:00<00:00, 432.13it/s]\n"
     ]
    },
    {
     "name": "stdout",
     "output_type": "stream",
     "text": [
      "The family were very sad. They had a fun day.\n",
      "\n",
      "\n",
      "Sara was in a big garden. She had many legs, flowers, flowers, and some flowers. Sara liked to watch him dance. She had many friends who were very big. One day, Lily was playing in her room and her friends, Ben.\n",
      "\"Let's play!\" Lily said. \"That is so fun, Ben! Your favorite book has a picture of!\"\n",
      "The lady said, \"This is my doll\n",
      "2.347703456878662\n"
     ]
    },
    {
     "name": "stderr",
     "output_type": "stream",
     "text": [
      "100%|█████████████████████████████████████████████████████████████████████████████████| 100/100 [00:03<00:00, 31.64it/s]\n"
     ]
    },
    {
     "name": "stdout",
     "output_type": "stream",
     "text": [
      "The dog went away, but the dog did not give up. He was sad. The dog was sad and not lonely. The dog felt sad.\n",
      "\n",
      "\n",
      "Tom was playing with his favorite toy ball. He had many toys and books. He saw a new ball, a small dog. The dog was red and brown. The dog was scared and sad. He wanted to play with the ball.\n",
      "Then, a kind bird came to the park. The bird had many toys and a lot of\n",
      "2.550600051879883\n"
     ]
    },
    {
     "name": "stderr",
     "output_type": "stream",
     "text": [
      "100%|█████████████████████████████████████████████████████████████████████████████████| 100/100 [00:03<00:00, 29.35it/s]\n"
     ]
    },
    {
     "name": "stdout",
     "output_type": "stream",
     "text": [
      "The rabbit was so happy! It thanked the rabbit for the day of the pretty world for him. The wise owl learned that it's important to listen to his mommy and not scared.\n",
      "\n",
      "\n",
      "The boy was a brave boy who liked to play with his rake. Every day, he would swim in the pond and stay on a big pond. The fish would sing and swim all around, trying to get the fish with its hands.\n",
      "One day, the boy went to the pond. He saw\n",
      "2.601824998855591\n"
     ]
    },
    {
     "name": "stderr",
     "output_type": "stream",
     "text": [
      "100%|█████████████████████████████████████████████████████████████████████████████████| 100/100 [00:03<00:00, 30.59it/s]\n"
     ]
    },
    {
     "name": "stdout",
     "output_type": "stream",
     "text": [
      "The little girl said, \"Yes! I don't want to eat you.\"\n",
      "The little girl was very excited and wanted to make the girl happy. But when she was finished, something unexpected happened! The girl felt better and said, \"I'm going to wait for the little girl. Thank you for your family!\" The little girl was very excited, and she played in the park until it was a beautiful place.\n",
      "\n",
      "\n",
      "One day, the little girl and her brother, Tom, was\n",
      "2.6498241424560547\n"
     ]
    },
    {
     "name": "stderr",
     "output_type": "stream",
     "text": [
      "100%|█████████████████████████████████████████████████████████████████████████████████| 100/100 [00:03<00:00, 29.45it/s]\n"
     ]
    },
    {
     "name": "stdout",
     "output_type": "stream",
     "text": [
      "The radish and said, \"That is not safe.\"\n",
      "The little girl was sad because she had an idea. She decided to take a big hug to take a reward to the tree. She ran to the tree and put the lemons in the tree. With her help, she gave it some more food and food.\n",
      "The next day, the bird flew back, and it was safe. The bird was happy and grateful for the bird. The bird flew up to the tree and gave its food.\n",
      "2.320211887359619\n"
     ]
    },
    {
     "name": "stderr",
     "output_type": "stream",
     "text": [
      "100%|█████████████████████████████████████████████████████████████████████████████████| 100/100 [00:03<00:00, 30.94it/s]\n"
     ]
    },
    {
     "name": "stdout",
     "output_type": "stream",
     "text": [
      "The cop and all its friends.\n",
      "\n",
      "\n",
      "Lila and Anna are twins who like to play in the sun. They have a big slide and a swing. They like to play and run. Anna has a black dress.\n",
      "One day, Anna and Ben want to go to the park. They do not want to go outside. They feel sad.\n",
      "\"Let's go outside and play in the slide!\" Anna says.\n",
      "\"OK, Lila, Ben. Maybe we can take a break. We\n",
      "2.403347969055176\n"
     ]
    },
    {
     "name": "stderr",
     "output_type": "stream",
     "text": [
      "100%|█████████████████████████████████████████████████████████████████████████████████| 100/100 [00:03<00:00, 29.94it/s]\n"
     ]
    },
    {
     "name": "stdout",
     "output_type": "stream",
     "text": [
      "The comet went on a walk. They saw many things in the barn. It was green and round. The rabbit was a small, happy rabbit. They both loved it.\n",
      "The bear was very happy. He said to the rabbit and the rabbit. They went back to the rabbit. The rabbit did not like the rabbit.\n",
      "The rabbit and his family played together in the forest. They were happy. The leopard said, \"I'm a strong, little rabbit. I need to clean it.\"\n",
      "2.3540189266204834\n"
     ]
    },
    {
     "name": "stderr",
     "output_type": "stream",
     "text": [
      "100%|████████████████████████████████████████████████████████████████████████████████| 100/100 [00:00<00:00, 237.05it/s]\n"
     ]
    },
    {
     "name": "stdout",
     "output_type": "stream",
     "text": [
      "The bus stopped. The sun and the moon became friends. They played all day long. The sun was warm and the night.\n",
      "One day, a little girl named Lily came to the park. She saw the trees and the birds all night. Lily was very sad. She saw the moon and wanted to play with it. But then, something unexpected happened. The sky started to rain, and the rain fell into its mouth. Lily was sad and cried.\n",
      "Just then, Lily saw a big\n",
      "2.2590694427490234\n"
     ]
    },
    {
     "name": "stderr",
     "output_type": "stream",
     "text": [
      "100%|█████████████████████████████████████████████████████████████████████████████████| 100/100 [00:03<00:00, 30.84it/s]\n"
     ]
    },
    {
     "name": "stdout",
     "output_type": "stream",
     "text": [
      "The bird saw the bird and was singing a happy song. The bird wanted to dance and sing a song for the bird. The bird flew into the big tree.\n",
      "The bird saw the bird and thought, \"Hello, little bird. The bird can fly and jump high to the tree.\" The bird flew up high and tried to fly, but it was too fast. It became very high and could not fly.\n",
      "The bird saw a little bird. The bird said, \"Why are you sad\n",
      "2.5511176586151123\n"
     ]
    },
    {
     "name": "stderr",
     "output_type": "stream",
     "text": [
      "100%|█████████████████████████████████████████████████████████████████████████████████| 100/100 [00:03<00:00, 30.48it/s]\n"
     ]
    },
    {
     "name": "stdout",
     "output_type": "stream",
     "text": [
      "The pigeon asked the fish. The shark was scared, but he said it was too big to move.\n",
      "The shrimp tried to climb, but he was too heavy. He could not see the fish. The big fish did not know the big fish. The big fish had a friend named Lily. Lily and the little fish were very happy to play with Lily.\n",
      "One day, a big girl named Lily came to the park. Lily was playing with her ball and the little boy. The sun was\n",
      "2.339078664779663\n"
     ]
    },
    {
     "name": "stderr",
     "output_type": "stream",
     "text": [
      "100%|█████████████████████████████████████████████████████████████████████████████████| 100/100 [00:03<00:00, 30.16it/s]\n"
     ]
    },
    {
     "name": "stdout",
     "output_type": "stream",
     "text": [
      "The cat could not fly, but he was still scared. The cat was scared.\n",
      "But then, something unexpected happened. The tree began to rain. The cat was stuck in the tree, and the cat was very sad. The tree missed its long friend. The cat wanted to help the cat find the cat. The tree and the cat found the ball. The cat was happy to help the cat. And that was the cat and the cat became good friends.\n",
      "\n",
      "\n",
      "Lily likes to play\n",
      "2.547783136367798\n"
     ]
    },
    {
     "name": "stderr",
     "output_type": "stream",
     "text": [
      "100%|█████████████████████████████████████████████████████████████████████████████████| 100/100 [00:03<00:00, 30.52it/s]\n"
     ]
    },
    {
     "name": "stdout",
     "output_type": "stream",
     "text": [
      "The bird flew up to the bush.\n",
      "While they were flying, they saw a big, red ball. They wanted to catch it, but it was too fast. The ball stopped and the ball went down to get it. The ball was very fast and it became shiny and shiny.\n",
      "The ball was not very loud. The ball wanted to try. So, the ball went up and down the ball. The ball was happy and fast. They played and laughed and had fun.\n",
      "\n",
      "\n",
      "\n",
      "2.47658634185791\n"
     ]
    },
    {
     "name": "stderr",
     "output_type": "stream",
     "text": [
      "100%|█████████████████████████████████████████████████████████████████████████████████| 100/100 [00:03<00:00, 30.90it/s]\n"
     ]
    },
    {
     "name": "stdout",
     "output_type": "stream",
     "text": [
      "The room and started to feel dizzy. The night was shining, and the sky was shining, and the sun was shining.\n",
      "\"Wow, it was so cool!\" said Tim. \"I found a surprise for you. Let's take the dress with the dress!\" They went up, and down the slide. Tim and Sue were having so much fun. They played with the swings, and the seesaw played with their toys. They had a fun time playing with their toys and their dolls.\n",
      "\n",
      "\n",
      "2.3522825241088867\n"
     ]
    },
    {
     "name": "stderr",
     "output_type": "stream",
     "text": [
      "100%|█████████████████████████████████████████████████████████████████████████████████| 100/100 [00:03<00:00, 30.13it/s]\n"
     ]
    },
    {
     "name": "stdout",
     "output_type": "stream",
     "text": [
      "The red button on the floor. The blue team on the couch and the yellow dress on the floor. The blue team in the town and the green blue team on the floor and the blue paper.\n",
      "The new friend, Tom, came to the door. Tom saw the pictures on the floor and ran to the door. They both stopped crying and hugged Tom. The princess and Tom were very sad. They ran to the couch and got Mom's toys and put them back in a safe place. The\n",
      "2.3709311485290527\n"
     ]
    },
    {
     "name": "stderr",
     "output_type": "stream",
     "text": [
      "100%|████████████████████████████████████████████████████████████████████████████████| 100/100 [00:00<00:00, 217.08it/s]\n"
     ]
    },
    {
     "name": "stdout",
     "output_type": "stream",
     "text": [
      "The bird thanked them for teaching them that he should never be careful with just for not to hurt his feelings.\n",
      "\n",
      "\n",
      "Lily and Ben were playing in the park. They saw a big tree with a stick in it. They wanted to climb the tree. They went to the tree and tried to climb it.\n",
      "\"Can we climb the tree, please?\" Lily asked.\n",
      "\"Yes, it's. Maybe we can fly and sing to the flowers,\" Ben said.\n",
      "\"OK, but\n",
      "2.3129987716674805\n"
     ]
    },
    {
     "name": "stderr",
     "output_type": "stream",
     "text": [
      "100%|█████████████████████████████████████████████████████████████████████████████████| 100/100 [00:03<00:00, 29.99it/s]\n"
     ]
    },
    {
     "name": "stdout",
     "output_type": "stream",
     "text": [
      "The bird felt sad. He realized that being mean to him, then he could not fly again. The bird wished for help the bird.\n",
      "\n",
      "\n",
      "Lily and Ben were best friends. They liked to play together every day. Today, they would go to the park. It was a big red slide. It was a ball. Lily loved to play with the ball.\n",
      "One day, Lily went to the park with her ball. It was a big ball. It had many ball to play with\n",
      "2.3768465518951416\n"
     ]
    },
    {
     "name": "stderr",
     "output_type": "stream",
     "text": [
      "100%|█████████████████████████████████████████████████████████████████████████████████| 100/100 [00:03<00:00, 29.14it/s]\n"
     ]
    },
    {
     "name": "stdout",
     "output_type": "stream",
     "text": [
      "The little red ball was so happy. The red ball danced together and had a new friend.\n",
      "\n",
      "\n",
      "Lily and Ben are playing with their ball. They have fun together. But when they do not want to play with them.\n",
      "But then, the ball gets dark and makes them go faster. It makes loud noises and screaming. Lily and Ben are playing with the ball and the ball. They have fun in the big green snow.\n",
      "\"Look, we are the ball! What is that\n",
      "2.3602681159973145\n"
     ]
    },
    {
     "name": "stderr",
     "output_type": "stream",
     "text": [
      "100%|█████████████████████████████████████████████████████████████████████████████████| 100/100 [00:03<00:00, 31.19it/s]\n"
     ]
    },
    {
     "name": "stdout",
     "output_type": "stream",
     "text": [
      "The moral of the story is to always listen and be nice.\"\n",
      "\n",
      "\n",
      "Lily and Ben are friends who liked to play in the park. They like to swing in the park. One day, they see a big, red slide. Lily wanted to see the slide too.\n",
      "\"Let's go down and play with the slide!\" Ben asks. He runs after Lily and Ben, but no more is scared of them. He does not want to share. He likes the slide and the slide and\n",
      "2.650434970855713\n"
     ]
    },
    {
     "name": "stderr",
     "output_type": "stream",
     "text": [
      "100%|█████████████████████████████████████████████████████████████████████████████████| 100/100 [00:03<00:00, 30.60it/s]\n"
     ]
    },
    {
     "name": "stdout",
     "output_type": "stream",
     "text": [
      "The moral of the story is to be kind and help others, and that are not being brave and kind to others.\n",
      "\n",
      "\n",
      "One day, a boy named Tom was playing near his house. He liked to run and jump and swim around. Tom saw a big hole in the hole. He thought it would be fun to jump and catch it.\n",
      "Tom got scared and ran to his mom. He looked around and saw something moving. The fish looked very big. It was old, and the\n",
      "2.41579532623291\n"
     ]
    },
    {
     "name": "stderr",
     "output_type": "stream",
     "text": [
      "100%|█████████████████████████████████████████████████████████████████████████████████| 100/100 [00:03<00:00, 30.56it/s]\n"
     ]
    },
    {
     "name": "stdout",
     "output_type": "stream",
     "text": [
      "The bird was very happy and thanked Tom. Tom and the bird played together with the new bird. They all had so much fun together.\n",
      "\n",
      "\n",
      "One day, a little boy went to the airport with his mom. They liked to play in the big forest. He took his mom and dad to the zoo. They had a lot of fun.\n",
      "\"Can we go on, Sam?\" asked Tim.\n",
      "His dad said. \"Yes, let's go on our club. Maybe we can\n",
      "2.281994104385376\n"
     ]
    },
    {
     "name": "stderr",
     "output_type": "stream",
     "text": [
      "100%|█████████████████████████████████████████████████████████████████████████████████| 100/100 [00:03<00:00, 30.57it/s]\n"
     ]
    },
    {
     "name": "stdout",
     "output_type": "stream",
     "text": [
      "The little boy and its friends played with the toys all day. They had lots of fun.\n",
      "But then, a big wind came. It blew them out of the door and broke the door. The little boy and Tom were scared. They could not find the door and looked for a big, old tree.\n",
      "\"Where did the little boy find, Tom?\" said Tom asked. \"I can't see the little boy. The little boy just sat down and watched me!\" \n",
      "Tom and\n",
      "2.44578218460083\n"
     ]
    },
    {
     "name": "stderr",
     "output_type": "stream",
     "text": [
      "100%|████████████████████████████████████████████████████████████████████████████████| 100/100 [00:00<00:00, 206.95it/s]\n"
     ]
    },
    {
     "name": "stdout",
     "output_type": "stream",
     "text": [
      "The bird flew up on the branch and took the bird down. The bird was happy and thanked the bird.\n",
      "\n",
      "\n",
      "Ben and Lily like to play with their ball. They have many toys, dolls, clothes, and even the birds. They had a big drum with many animals, birds, and other people. They were good friends and had many friends.\n",
      "One day, they find a new toy. It was shiny. It could bend high or the sky and the park. Ben said,\n",
      "2.2706665992736816\n"
     ]
    },
    {
     "name": "stderr",
     "output_type": "stream",
     "text": [
      "100%|█████████████████████████████████████████████████████████████████████████████████| 100/100 [00:03<00:00, 29.75it/s]\n"
     ]
    },
    {
     "name": "stdout",
     "output_type": "stream",
     "text": [
      "The little mouse saw the little mouse playing near the big tree. The small mouse was happy to hear the tiny mouse.\n",
      "The grumpy mouse thought about what was in the forest. But, a small mouse jumped out of the big tree! The cow and the mouse laughed and ran to their fun place. They played together and became the best of friends.\n",
      "\n",
      "\n",
      "\n",
      "\n",
      "Lila and Tom were twins who liked to play in the park. They were having a lot of fun. Sometimes they did a\n",
      "2.344378709793091\n"
     ]
    },
    {
     "name": "stderr",
     "output_type": "stream",
     "text": [
      "100%|█████████████████████████████████████████████████████████████████████████████████| 100/100 [00:03<00:00, 29.91it/s]\n"
     ]
    },
    {
     "name": "stdout",
     "output_type": "stream",
     "text": [
      "The little girl saw that she was sad. She knew the girl had to help the girl. From that day onwards was more important than being selfish. The girl was happy that she had made the best friend.\n",
      "\n",
      "\n",
      "Ben and Lily liked to play with her toys in the yard. Ben had a big red box. He had many toys that they could talk to them. Lily would make a loud noises and chase her crayons.\n",
      "One day, Ben met a boy named Max. He did not\n",
      "2.3097639083862305\n"
     ]
    },
    {
     "name": "stderr",
     "output_type": "stream",
     "text": [
      "100%|█████████████████████████████████████████████████████████████████████████████████| 100/100 [00:03<00:00, 30.18it/s]\n"
     ]
    },
    {
     "name": "stdout",
     "output_type": "stream",
     "text": [
      "The moral of the story is: always think you can be kind to others and make friends.\n",
      "\n",
      "\n",
      "Tom and Sam were happy. They liked to play in the park. Tom liked to spin on the grass and slide. He saw the big tree and Sam. He wanted to climb the tree and look up. He climbed up the tree and looked at the tree.\n",
      "Tom was sad. He lost his ball. He said, \"Sam, please help me. I will help you find your\n",
      "2.314263343811035\n"
     ]
    },
    {
     "name": "stderr",
     "output_type": "stream",
     "text": [
      "100%|█████████████████████████████████████████████████████████████████████████████████| 100/100 [00:03<00:00, 29.03it/s]\n"
     ]
    },
    {
     "name": "stdout",
     "output_type": "stream",
     "text": [
      "The bus saw a small boy who had a red ball. She asked him if he could play with him. His mom said yes and they all played together, having lots of fun.\n",
      "After a while, the bus and his mom went to play with their ball. They were very happy and excited. They played with the kids and had lots of fun.\n",
      "\n",
      "\n",
      "Lily and Ben were playing in the park with their dolls. They liked to run and jump and roll in the park.\n",
      "One\n",
      "2.13704252243042\n"
     ]
    },
    {
     "name": "stderr",
     "output_type": "stream",
     "text": [
      "100%|█████████████████████████████████████████████████████████████████████████████████| 100/100 [00:03<00:00, 30.23it/s]\n"
     ]
    },
    {
     "name": "stdout",
     "output_type": "stream",
     "text": [
      "The bee was not nice. It was too hot to drink from the farm.\n",
      "The goat had a friend, a cat, and a cat. The cat saw the farm and was trying to gather it. The goat wanted to touch the farm. The farmer said, \"No, little mouse! My name is Tom. I am a princess.\"\n",
      "Tom said, \"I will teach you some words. It is too salty.\" The goat was very happy. He said, \"Thank you, Tom\n",
      "2.3048477172851562\n"
     ]
    },
    {
     "name": "stderr",
     "output_type": "stream",
     "text": [
      "100%|█████████████████████████████████████████████████████████████████████████████████| 100/100 [00:03<00:00, 30.76it/s]\n"
     ]
    },
    {
     "name": "stdout",
     "output_type": "stream",
     "text": [
      "The bird saw the bird and the bird fighting. The bird said, \"I wish the bird's like the bird's language. It can fly.\" The bird felt happy and thanked the bird for helping the bird.\n",
      "\n",
      "\n",
      "The bird was a happy girl. The girl liked to sing. She liked to sing stories in the park. She saw a big, red bird with many leaves and flowers. She saw a little bird. She was sad and hungry.\n",
      "\"Hi, bird. I don\n",
      "2.4428892135620117\n"
     ]
    },
    {
     "name": "stderr",
     "output_type": "stream",
     "text": [
      "100%|████████████████████████████████████████████████████████████████████████████████| 100/100 [00:00<00:00, 463.96it/s]\n"
     ]
    },
    {
     "name": "stdout",
     "output_type": "stream",
     "text": [
      "The bird tried to fly like a bird, but it was too high.\n",
      "Then, something unexpected happened. The bird started to fly! It landed in the sky. The bird was happy and said, \"Thank you, bird! I love it!\" The bird and the bird were very surprised.\n",
      "The bird said, \"Thank you, bird, for helping me!\" The bird was so happy to hear the bird again. They were the best of friends.\n",
      "\n",
      "\n",
      "One day, a big\n",
      "2.151869773864746\n"
     ]
    },
    {
     "name": "stderr",
     "output_type": "stream",
     "text": [
      "100%|█████████████████████████████████████████████████████████████████████████████████| 100/100 [00:03<00:00, 31.43it/s]\n"
     ]
    },
    {
     "name": "stdout",
     "output_type": "stream",
     "text": [
      "The person who worked together and the elderly man was very happy.\n",
      "One day, a big dog saw the dog. The dog wanted to play too. He wanted to play with the dog. But the dog did not want to play with him. The dog was sad too.\n",
      "Then, the dog saw a big dog. The dog was very big and white. He did not know the dog was hungry. The dog thought it would be fun. The dog took the big bone. The dog's\n",
      "2.3875365257263184\n"
     ]
    },
    {
     "name": "stderr",
     "output_type": "stream",
     "text": [
      "100%|█████████████████████████████████████████████████████████████████████████████████| 100/100 [00:03<00:00, 30.85it/s]\n"
     ]
    },
    {
     "name": "stdout",
     "output_type": "stream",
     "text": [
      "The truck driver who was on the truck. He was very happy and he was very happy.\n",
      "\n",
      "\n",
      "Lily was a little boy who liked to run and bounce. She had many dolls of blocks and shapes and flowers. She had many dolls, but she had many toys. She saw a big pile of animals and a slide.\n",
      "\"Wow, look at me!\" he said. \"Let's play the game. The sun is blue and orange. The ducks are orange and red. I want\n",
      "2.3459649085998535\n"
     ]
    },
    {
     "name": "stderr",
     "output_type": "stream",
     "text": [
      "100%|█████████████████████████████████████████████████████████████████████████████████| 100/100 [00:03<00:00, 29.45it/s]\n"
     ]
    },
    {
     "name": "stdout",
     "output_type": "stream",
     "text": [
      "The man was kind, but he liked to play with his friends.\n",
      "One day, a little boy named Tim came to visit the man. He was very patient. Tim saw the man and wanted to help him. He took him up to his home, and they all played together. Tim was very happy to have his new friend.\n",
      "\n",
      "\n",
      "Lily and Ben are playing in the park. They see a big red ball that is on a big car. Ben is a big dog. He is happy\n",
      "2.1696205139160156\n"
     ]
    },
    {
     "name": "stderr",
     "output_type": "stream",
     "text": [
      "100%|█████████████████████████████████████████████████████████████████████████████████| 100/100 [00:03<00:00, 31.24it/s]\n"
     ]
    },
    {
     "name": "stdout",
     "output_type": "stream",
     "text": [
      "The bird was sad because the bird missed the bird. Tim said, \"I am sorry, little bird. I can help you find the bird.\" The bird flew down to the tree and said, \"I can help you, but we must listen to the bird.\" Tim was very surprised and said, \"I am sorry, bird. I will help you find you.\"\n",
      "Tim and the bird took a bite of the tree and the bird used the bird to make the nest fly up and back down\n",
      "2.300100326538086\n"
     ]
    },
    {
     "name": "stderr",
     "output_type": "stream",
     "text": [
      "100%|█████████████████████████████████████████████████████████████████████████████████| 100/100 [00:03<00:00, 30.84it/s]\n"
     ]
    },
    {
     "name": "stdout",
     "output_type": "stream",
     "text": [
      "The dove was happy he said yes and waved back. They thanked the bird and continued to play with the new toy in the dirt every day. The toy car was the best friend of the big, round ball.\n",
      "\n",
      "\n",
      "Ben and Lily liked to play near the beach. They used red balls to splash in the water and make different shapes. One day, they went to the park to look for bugs. They saw some sand and birds.\n",
      "\"Wow, look at that!\" said the green\n",
      "2.420786142349243\n"
     ]
    },
    {
     "name": "stderr",
     "output_type": "stream",
     "text": [
      "100%|█████████████████████████████████████████████████████████████████████████████████| 100/100 [00:03<00:00, 30.45it/s]\n"
     ]
    },
    {
     "name": "stdout",
     "output_type": "stream",
     "text": [
      "The truck drove into the truck. Tim was so happy that he had shared his truck with his friends.\n",
      "\n",
      "\n",
      "One day, Tim and Sam were playing outside. They liked to build things. They wanted to see many things. They took a big step and went on the road. They laughed and played together.\n",
      "But when they were building, something unexpected happened. A big wind came and blew the snow away. Tim and Sam ran away. They pulled and pushed. But the wind did not\n",
      "2.360377311706543\n"
     ]
    },
    {
     "name": "stderr",
     "output_type": "stream",
     "text": [
      "100%|████████████████████████████████████████████████████████████████████████████████| 100/100 [00:00<00:00, 285.69it/s]\n"
     ]
    },
    {
     "name": "stdout",
     "output_type": "stream",
     "text": [
      "The truck had been a special key for him. He was very excited and saw the lock. He opened the lock and found out what was inside the lock.\n",
      "He opened the lock door and found a key! It was a key. It was the key. They opened the door and opened the key door. It was a surprise. The key was filled with toys!\n",
      "The new toy was now a gift. He had lost it for him. He had done a good job.\n",
      "The small\n",
      "2.1771960258483887\n"
     ]
    },
    {
     "name": "stderr",
     "output_type": "stream",
     "text": [
      "100%|█████████████████████████████████████████████████████████████████████████████████| 100/100 [00:03<00:00, 29.71it/s]\n"
     ]
    },
    {
     "name": "stdout",
     "output_type": "stream",
     "text": [
      "The little bird liked to talk to the little bird. One day, the bird wanted to serve food for all the people in the forest.\n",
      "\"Hello, little bird,\" said the little bird. \"Why are you sad?\"\n",
      "\"I want to be friends with a friend.\" The bird agreed, and they followed the bird together. The bird and the bird were very happy.\n",
      "They shared their food and ate all the animals together. They were happy and full of help. They learned that things\n"
     ]
    }
   ],
   "source": [
    "transformer.to(device)\n",
    "for epoch in range(1000):\n",
    "    \n",
    "    opt.zero_grad()\n",
    "    trainBatch, targetBatch = dataLoader(dataset, batch_size, context_length, device=device)\n",
    "    logits = transformer(trainBatch)\n",
    "    loss = cross_entropy(logits, targetBatch)\n",
    "    loss.backward()\n",
    "    with torch.no_grad():\n",
    "        if epoch % 10 == 0:\n",
    "            print(loss.item())\n",
    "            generatedStem = \"The\"\n",
    "            for x in tqdm(range(100)):\n",
    "                generatedStem = generateOneToken(transformer, tok, generatedStem, device=device)\n",
    "            print(generatedStem)\n",
    "    opt.step()\n",
    "    "
   ]
  },
  {
   "cell_type": "code",
   "execution_count": 18,
   "id": "e7fd0c18-1309-4b1e-96ab-b0308e8e7814",
   "metadata": {},
   "outputs": [
    {
     "name": "stderr",
     "output_type": "stream",
     "text": [
      "100%|█████████████████████████████████████████████████████████████████████████████████| 100/100 [00:03<00:00, 26.38it/s]"
     ]
    },
    {
     "name": "stdout",
     "output_type": "stream",
     "text": [
      "Ben was sad because he lost his toy.\n",
      "\"Lily, Lily, look at my toy!\" Ben cried. \"I did not know. Maybe I can fix it.\"\n",
      "Lily looked at the toy and asked her mom for help. She was very sorry and scared. She hugged Ben and said, \"It's okay, Ben. We can play together again.\"\n",
      "\n",
      "\n",
      "Tim and Lily liked to play together. They had a big ball to play with. They threw the ball to each other. But their\n"
     ]
    },
    {
     "name": "stderr",
     "output_type": "stream",
     "text": [
      "\n"
     ]
    }
   ],
   "source": [
    "generatedStem = \"Ben was sad because\"\n",
    "for x in tqdm(range(100)):\n",
    "    generatedStem = generateOneToken(transformer, tok, generatedStem, device='cuda:0')\n",
    "print(generatedStem)"
   ]
  },
  {
   "cell_type": "code",
   "execution_count": 22,
   "id": "543c616b-47b6-4b7a-8254-da8e62322c5f",
   "metadata": {},
   "outputs": [
    {
     "name": "stderr",
     "output_type": "stream",
     "text": [
      "100%|█████████████████████████████████████████████████████████████████████████████████| 100/100 [00:03<00:00, 26.38it/s]"
     ]
    },
    {
     "name": "stdout",
     "output_type": "stream",
     "text": [
      "Ben was happy because he had an honest dog on his way. He also gave him a big hug and a kiss. He said, \"Thank you for helping me. You are a good friend.\"\n",
      "One day, Lily found a toy gun in her hand. She was very happy and wanted to show it to her friends. She hugged it and hugged it. The toy made her happy. They played together in the yard every day.\n",
      "\n",
      "\n",
      "Tom and Lily are friends. They like to play with toys in\n"
     ]
    },
    {
     "name": "stderr",
     "output_type": "stream",
     "text": [
      "\n"
     ]
    }
   ],
   "source": [
    "generatedStem = \"Ben was happy because\"\n",
    "for x in tqdm(range(100)):\n",
    "    generatedStem = generateOneToken(transformer, tok, generatedStem, device='cuda:0')\n",
    "print(generatedStem)"
   ]
  }
 ],
 "metadata": {
  "kernelspec": {
   "display_name": "Python 3 (ipykernel)",
   "language": "python",
   "name": "python3"
  },
  "language_info": {
   "codemirror_mode": {
    "name": "ipython",
    "version": 3
   },
   "file_extension": ".py",
   "mimetype": "text/x-python",
   "name": "python",
   "nbconvert_exporter": "python",
   "pygments_lexer": "ipython3",
   "version": "3.12.3"
  }
 },
 "nbformat": 4,
 "nbformat_minor": 5
}
