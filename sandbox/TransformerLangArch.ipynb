{
 "cells": [
  {
   "cell_type": "code",
   "execution_count": 1,
   "id": "1b874dc9-08bf-47be-a618-b548a3b5066a",
   "metadata": {},
   "outputs": [],
   "source": [
    "import torch\n",
    "import einx\n",
    "import torch.nn as nn\n",
    "\n",
    "class MyLinear(nn.Module):\n",
    "    def __init__(self, in_features, out_features, device=None, dtype=None):\n",
    "        super().__init__()\n",
    "        w = torch.empty(out_features, in_features)\n",
    "        std = (2 / (in_features + out_features)) ** 1/2\n",
    "        nn.init.trunc_normal_(w, mean = 0, std = std, a = -3 * std, b = 3 * std)\n",
    "        self.mat = nn.Parameter(w)\n",
    "        \n",
    "    def forward(self, x: torch.Tensor) -> torch.Tensor:\n",
    "        \n",
    "        return einx.dot(\"out [in], ... [in] -> ... out\", self.mat, x)\n",
    "\n",
    "class MyEmbedding(nn.Module):\n",
    "    def __init__(self, num_embeddings, embedding_dim, device=None, dtype=None):\n",
    "        super().__init__()\n",
    "        w = torch.empty(num_embeddings, embedding_dim)\n",
    "        nn.init.trunc_normal_(w, mean = 0, std = 1, a = -3 , b = 3)\n",
    "        self.mat = nn.Parameter(w)\n",
    "        \n",
    "    def forward(self, x: torch.Tensor) -> torch.Tensor:\n",
    "        \n",
    "        return self.mat[x]"
   ]
  },
  {
   "cell_type": "code",
   "execution_count": 2,
   "id": "c070e75e-81fb-4763-93c7-741b1a197bbd",
   "metadata": {},
   "outputs": [
    {
     "data": {
      "text/plain": [
       "tensor([-1.1431, -0.4317, -0.6513, -0.2015,  1.3787, -0.9340,  0.6720],\n",
       "       grad_fn=<SelectBackward0>)"
      ]
     },
     "execution_count": 2,
     "metadata": {},
     "output_type": "execute_result"
    }
   ],
   "source": [
    "w = torch.empty(3, 7)\n",
    "nn.init.trunc_normal_(w, mean = 0, std = 1, a = -3, b = 3)\n",
    "x = nn.Parameter(w)\n",
    "\n",
    "x[torch.LongTensor([[1, 2, 2, 2], [0, 0, 0, 0]])][0][1]"
   ]
  },
  {
   "cell_type": "code",
   "execution_count": 3,
   "id": "2b841693-15be-4f0c-bee5-562c9188428d",
   "metadata": {},
   "outputs": [
    {
     "name": "stdout",
     "output_type": "stream",
     "text": [
      "tensor([6., 0.])\n",
      "tensor([2., 0.])\n",
      "tensor([1.4142, 0.0032])\n",
      "tensor([[1.4142, 0.7071, 0.7071],\n",
      "        [0.0000, 0.0000, 0.0000]], grad_fn=<MulBackward0>)\n"
     ]
    },
    {
     "data": {
      "text/plain": [
       "tensor([[1.4142, 0.7071, 0.7071],\n",
       "        [0.0000, 0.0000, 0.0000]], grad_fn=<MulBackward0>)"
      ]
     },
     "execution_count": 3,
     "metadata": {},
     "output_type": "execute_result"
    }
   ],
   "source": [
    "class MyRMSNorm(nn.Module):\n",
    "    def __init__(self, d_model: int, eps: float = 1e-5, device=None, dtype=None):\n",
    "        super().__init__()\n",
    "        gain = torch.ones(d_model)\n",
    "        self.gain = nn.Parameter(gain)\n",
    "        self.d_model = d_model\n",
    "        self.eps = eps\n",
    "        \n",
    "    def forward(self, x: torch.Tensor) -> torch.Tensor:\n",
    "        in_dtype = x.dtype\n",
    "        x = x.to(torch.float32)\n",
    "        RMS_A = x ** 2\n",
    "        RMS_A = RMS_A.sum(axis=-1)\n",
    "        print(RMS_A)\n",
    "        RMS_A /= self.d_model\n",
    "        print(RMS_A)\n",
    "        RMS_A += self.eps\n",
    "        RMS_A = RMS_A ** (1/2)\n",
    "        print(RMS_A)\n",
    "        RMS_A = RMS_A.unsqueeze(-1)\n",
    "        x = x / RMS_A * self.gain\n",
    "        print(x)\n",
    "        return x.to(in_dtype)\n",
    "rms = MyRMSNorm(3)\n",
    "\n",
    "batch = torch.tensor([[2, 1, 1.], [0, 0, 0]])\n",
    "rms(batch)"
   ]
  },
  {
   "cell_type": "code",
   "execution_count": null,
   "id": "fbc079fe-934b-40ed-83b8-836a8583cc8a",
   "metadata": {},
   "outputs": [],
   "source": []
  },
  {
   "cell_type": "code",
   "execution_count": 105,
   "id": "0899e242-4c56-4b8f-b04d-be64f120988d",
   "metadata": {},
   "outputs": [
    {
     "data": {
      "text/plain": [
       "tensor([[0, 0, 0, 3]])"
      ]
     },
     "execution_count": 105,
     "metadata": {},
     "output_type": "execute_result"
    }
   ],
   "source": [
    "import numpy as np\n",
    "class MyRope(nn.Module):\n",
    "    def __init__(self, d_key, theta, max_seq_length, device=None, dtype=None):\n",
    "        super().__init__()\n",
    "        seqOfThetaArr = []\n",
    "        for i in range(max_seq_length):\n",
    "            thetaArr = []\n",
    "            k = 1\n",
    "            for idx in range(d_key):\n",
    "                tik = i / (theta ** ((2 * k - 2)/d_key) )\n",
    "                if idx % 2 == 0:\n",
    "                    thetaArr.append(np.array([np.cos(tik), -np.sin(tik)]))\n",
    "                else:\n",
    "                    thetaArr.append(np.array([np.sin(tik), np.cos(tik)]))\n",
    "                    k += 1\n",
    "            seqOfThetaArr.append(np.stack(thetaArr))\n",
    "        precompThetaArr = np.stack(seqOfThetaArr)\n",
    "        self.register_buffer(\"rotaryTable\", torch.tensor(precompThetaArr), persistent=False)\n",
    "        self.d_key = d_key\n",
    "        self.evenIndices = [x if x % 2 == 0 else x - 1 for x in range(d_key)]\n",
    "        self.oddIndices = [x if x % 2 == 1 else x + 1 for x in range(d_key)]\n",
    "\n",
    "    def forward(self, x: torch.Tensor, token_positions: torch.Tensor) -> torch.Tensor:\n",
    "        token_positions = token_positions.unsqueeze(-1)\n",
    "        tablesOfInterest = einx.get_at(\"[i] k z, ... [idx] -> ... k z\", self.rotaryTable, token_positions)\n",
    "        evenX = x[..., self.evenIndices]\n",
    "        oddX = x[..., self.oddIndices]\n",
    "        evenTables = tablesOfInterest[..., 0]\n",
    "        oddTables = tablesOfInterest[..., 1]\n",
    "\n",
    "        return (evenX * evenTables + oddX * oddTables).to(x.dtype)\n",
    "rope = MyRope(4, 2, 2)\n",
    "rope(torch.tensor([[0, 1, 2, 3]]), torch.tensor([1,]))"
   ]
  },
  {
   "cell_type": "code",
   "execution_count": 17,
   "id": "aded822c-7562-4af9-a9db-876af8fdb33e",
   "metadata": {},
   "outputs": [
    {
     "data": {
      "text/plain": [
       "tensor([[0.0066, 0.0179, 0.9756],\n",
       "        [0.1173, 0.8668, 0.0159]])"
      ]
     },
     "execution_count": 17,
     "metadata": {},
     "output_type": "execute_result"
    }
   ],
   "source": [
    "def softmax(x: torch.Tensor, dim):\n",
    "    x = x - x.max(dim=dim, keepdim=True).values\n",
    "    denom = torch.sum(torch.exp(x), dim=dim, keepdim=True)\n",
    "    x = torch.exp(x) / denom\n",
    "    return x\n",
    "\n",
    "softmax(x, 1)"
   ]
  },
  {
   "cell_type": "code",
   "execution_count": 18,
   "id": "f711fb4e-9c63-4f0e-84ca-e5bac7e31d63",
   "metadata": {},
   "outputs": [
    {
     "data": {
      "text/plain": [
       "tensor([[0.1192, 0.0474, 0.9933],\n",
       "        [0.8808, 0.9526, 0.0067]])"
      ]
     },
     "execution_count": 18,
     "metadata": {},
     "output_type": "execute_result"
    }
   ],
   "source": [
    "x = torch.tensor([\n",
    "    [0, 1, 5],\n",
    "    [2, 4, 0]\n",
    "])\n",
    "\n",
    "z = x - x.max(dim=0, keepdim=True).values\n",
    "\n",
    "denom = torch.sum(torch.exp(z), dim=0, keepdim=True)\n",
    "torch.exp(z) / denom"
   ]
  },
  {
   "cell_type": "code",
   "execution_count": 19,
   "id": "0f41e474-ec00-4b4f-b30a-10693fa8cf7c",
   "metadata": {},
   "outputs": [
    {
     "data": {
      "text/plain": [
       "tensor([[0.0059, 0.0174, 0.9933],\n",
       "        [0.1192, 0.9526, 0.0182]])"
      ]
     },
     "execution_count": 19,
     "metadata": {},
     "output_type": "execute_result"
    }
   ],
   "source": [
    "z = x - x.max(dim=1, keepdim=True).values\n",
    "torch.sum(torch.exp(z), dim=1, keepdim=True)\n",
    "torch.exp(z) / denom"
   ]
  },
  {
   "cell_type": "code",
   "execution_count": 53,
   "id": "b446462e-a33b-4398-acc4-2b9213228b61",
   "metadata": {},
   "outputs": [],
   "source": [
    "keys = torch.randn(2, 3, 5)\n",
    "queries = torch.randn(2, 1, 5)\n"
   ]
  },
  {
   "cell_type": "code",
   "execution_count": 81,
   "id": "fd1acf1b-3928-42b4-ba9f-ba110b5e3a75",
   "metadata": {},
   "outputs": [
    {
     "data": {
      "text/plain": [
       "tensor([[[0.2156, 0.7844, 0.0000]],\n",
       "\n",
       "        [[0.6810, 0.3190, 0.0000]]])"
      ]
     },
     "execution_count": 81,
     "metadata": {},
     "output_type": "execute_result"
    }
   ],
   "source": [
    "values = torch.tensor([\n",
    "    [\n",
    "        [5., 5],\n",
    "        [-1, -1],\n",
    "        [-1, -1]\n",
    "    ],\n",
    "    [\n",
    "        [0, 0],\n",
    "        [1, 1],\n",
    "        [2, 2]\n",
    "    ]\n",
    "])\n",
    "\n",
    "mask = torch.tensor([[True, True, False]])\n",
    "\n",
    "def scaledDotProdAttention(queries, keys, values, mask=None):\n",
    "\n",
    "    presoftAttention = einx.dot(\"b ... key [dim], b ... quer [dim] -> b ... quer key\", keys, queries) / keys.shape[-1] ** 0.5\n",
    "    if mask is not None:\n",
    "        presoftAttention[~mask.expand(presoftAttention.shape)] = - torch.inf\n",
    "    \n",
    "    softAttention = softmax(presoftAttention, dim = -1)\n",
    "    return einx.dot(\"b ... quer [key], b ... [key] d_v -> b ... quer d_v\", softAttention, values)\n",
    "softAttention"
   ]
  },
  {
   "cell_type": "code",
   "execution_count": 70,
   "id": "978dc89d-ae68-4b5a-85bb-fc4d8e2e6cf1",
   "metadata": {},
   "outputs": [
    {
     "data": {
      "text/plain": [
       "tensor([[[0.2933, 0.2933]],\n",
       "\n",
       "        [[0.3190, 0.3190]]])"
      ]
     },
     "execution_count": 70,
     "metadata": {},
     "output_type": "execute_result"
    }
   ],
   "source": [
    "einx.dot(\"b ... quer [key], b ... [key] d_v -> b ... quer d_v\", softAttention, values)"
   ]
  },
  {
   "cell_type": "code",
   "execution_count": 102,
   "id": "11867803-4d85-4b2e-9b9d-2d0bb0848aab",
   "metadata": {},
   "outputs": [
    {
     "data": {
      "text/plain": [
       "tensor([102., 100.])"
      ]
     },
     "execution_count": 102,
     "metadata": {},
     "output_type": "execute_result"
    }
   ],
   "source": [
    "fakeAttention = torch.tensor([0.5, 1, 0.5])\n",
    "vals = torch.tensor([\n",
    "    [1, 0.],\n",
    "    [100, 100],\n",
    "    [3, 0]\n",
    "])\n",
    "einx.dot(\"[s], [s] k -> k\", fakeAttention, vals, a=1)"
   ]
  },
  {
   "cell_type": "code",
   "execution_count": 99,
   "id": "f7d6b972-2512-4007-bc94-3d08cb596c6e",
   "metadata": {},
   "outputs": [
    {
     "data": {
      "text/plain": [
       "tensor([[[-5.6356e-03,  2.7596e-03,  1.3597e-02,  1.7189e-02,  1.4190e-02,\n",
       "           6.9568e-03,  3.5568e-02,  3.4001e-03],\n",
       "         [ 2.8591e-02,  4.3619e-03,  2.5728e-02, -9.0700e-03,  1.2817e-03,\n",
       "           1.8614e-03,  3.1938e-02, -4.8912e-03],\n",
       "         [-1.6222e-03,  2.9483e-03,  3.3452e-04,  7.3399e-03,  4.7355e-03,\n",
       "          -3.2652e-05,  9.7079e-03, -6.0467e-03],\n",
       "         [-9.9415e-03,  4.8823e-03, -3.5935e-03,  9.5569e-03,  5.3491e-03,\n",
       "           3.8651e-03,  8.7364e-03, -2.3996e-05],\n",
       "         [-7.2212e-03,  7.8951e-03, -1.1571e-05,  7.1348e-03,  2.5053e-03,\n",
       "           1.6936e-03,  1.1393e-02,  5.0010e-03]],\n",
       "\n",
       "        [[ 5.6048e-02, -4.6875e-02,  6.7406e-02, -1.8357e-02,  5.8747e-03,\n",
       "          -4.3492e-02,  1.8585e-02, -2.8123e-02],\n",
       "         [ 1.4272e-02, -3.6911e-02,  2.9286e-02, -1.7568e-03,  6.8680e-03,\n",
       "          -2.8475e-02, -5.3976e-03, -1.4381e-02],\n",
       "         [ 5.8715e-03, -2.1917e-02,  1.2103e-02, -3.2530e-03,  5.3082e-03,\n",
       "          -1.2299e-02, -9.1095e-03, -1.4640e-02],\n",
       "         [ 6.9578e-03, -1.2334e-02,  1.7501e-02, -1.2740e-03,  2.6334e-03,\n",
       "          -1.0121e-02,  5.4493e-03, -3.3791e-04],\n",
       "         [ 8.9607e-03, -9.6271e-03,  1.3976e-02, -2.2431e-03,  1.6234e-03,\n",
       "          -6.0087e-03,  4.8699e-03, -1.4318e-04]],\n",
       "\n",
       "        [[-5.0709e-03,  4.0230e-03, -2.7109e-03,  4.0913e-04, -1.2641e-03,\n",
       "          -1.2056e-02, -8.4336e-03, -6.6980e-03],\n",
       "         [-1.1151e-02, -4.4351e-03,  4.0347e-03, -7.9031e-04,  4.1514e-03,\n",
       "          -1.4041e-02, -1.1115e-02, -5.3236e-03],\n",
       "         [ 9.0326e-03,  2.0512e-03,  8.6749e-03, -1.1287e-02, -4.0835e-03,\n",
       "          -3.5035e-03,  7.6093e-04,  9.7272e-04],\n",
       "         [ 9.2061e-03,  1.3974e-02,  7.1599e-03, -6.7898e-03, -4.6704e-03,\n",
       "           3.2052e-03,  1.2720e-02,  1.0341e-02],\n",
       "         [ 2.0748e-02,  9.8895e-03,  1.9305e-02, -1.1715e-02, -4.4304e-03,\n",
       "          -6.0210e-04,  1.9934e-02,  6.2671e-03]]], grad_fn=<ViewBackward0>)"
      ]
     },
     "execution_count": 99,
     "metadata": {},
     "output_type": "execute_result"
    }
   ],
   "source": [
    "class MultiHeadSelfAttention(nn.Module):\n",
    "    def __init__(self, d_model, num_heads, device=None, dtype=None):\n",
    "        super().__init__()\n",
    "        self.d_model = d_model\n",
    "        self.num_heads = num_heads\n",
    "        self.dk = d_model // num_heads\n",
    "\n",
    "        self.Wq = MyLinear(d_model, d_model)\n",
    "        self.Wk = MyLinear(d_model, d_model)\n",
    "        self.Wv = MyLinear(d_model, d_model)\n",
    "        self.Wo = MyLinear(d_model, d_model)\n",
    "    def forward(self, x):\n",
    "        seq = x.shape[-2]\n",
    "        queries = self.Wq(x)\n",
    "        keys = self.Wk(x)\n",
    "        values = self.Wv(x)\n",
    "        queries = einx.rearrange(\"... seq (heads dk) -> ... heads seq dk\", queries, dk=self.dk)\n",
    "        keys = einx.rearrange(\"... seq (heads dk) -> ... heads seq dk\", keys, dk=self.dk)\n",
    "        values = einx.rearrange(\"... seq (heads dk) -> ... heads seq dk\", values, dk=self.dk)\n",
    "        mask = torch.tril(torch.ones((seq, seq))).bool()\n",
    "        attended = scaledDotProdAttention(queries, keys, values, mask)\n",
    "        multiHead = einx.rearrange(\"... heads seq dk -> ... seq (heads dk)\", attended)\n",
    "        return self.Wo(multiHead)\n",
    "\n",
    "mhsa = MultiHeadSelfAttention(8, 2)\n",
    "mhsa(torch.randn(3, 5, 8))"
   ]
  },
  {
   "cell_type": "code",
   "execution_count": 106,
   "id": "371b5b07-3c32-48a0-8916-c2d1defdef90",
   "metadata": {},
   "outputs": [
    {
     "name": "stdout",
     "output_type": "stream",
     "text": [
      "torch.float32\n"
     ]
    },
    {
     "data": {
      "text/plain": [
       "tensor([[[-0.0183,  0.0232, -0.0330,  0.0124,  0.0167, -0.0213, -0.0121,\n",
       "           0.0343],\n",
       "         [-0.0160,  0.0069, -0.0132, -0.0006, -0.0093, -0.0103,  0.0054,\n",
       "           0.0082],\n",
       "         [ 0.0025,  0.0078,  0.0001, -0.0079, -0.0146, -0.0042,  0.0045,\n",
       "           0.0096],\n",
       "         [-0.0040, -0.0073,  0.0083, -0.0046, -0.0153,  0.0078,  0.0082,\n",
       "          -0.0047],\n",
       "         [-0.0104, -0.0101,  0.0114, -0.0054, -0.0137,  0.0085,  0.0082,\n",
       "          -0.0050]],\n",
       "\n",
       "        [[ 0.0026,  0.0199, -0.0410,  0.0478,  0.0391, -0.0033, -0.0245,\n",
       "           0.0200],\n",
       "         [-0.0072,  0.0125, -0.0237,  0.0472,  0.0413, -0.0006, -0.0246,\n",
       "           0.0041],\n",
       "         [ 0.0085,  0.0062, -0.0120,  0.0297,  0.0246,  0.0077, -0.0151,\n",
       "           0.0072],\n",
       "         [ 0.0037,  0.0073, -0.0027,  0.0286,  0.0210,  0.0057, -0.0162,\n",
       "          -0.0012],\n",
       "         [ 0.0022,  0.0048, -0.0017,  0.0251,  0.0187,  0.0066, -0.0181,\n",
       "          -0.0027]],\n",
       "\n",
       "        [[ 0.0132, -0.0215,  0.0254, -0.0368, -0.0446,  0.0126,  0.0215,\n",
       "          -0.0258],\n",
       "         [ 0.0110, -0.0068,  0.0197, -0.0257, -0.0209,  0.0054, -0.0027,\n",
       "          -0.0068],\n",
       "         [-0.0016, -0.0059,  0.0043, -0.0092, -0.0137,  0.0041, -0.0042,\n",
       "          -0.0084],\n",
       "         [ 0.0074,  0.0047, -0.0038,  0.0060, -0.0024,  0.0036, -0.0015,\n",
       "           0.0073],\n",
       "         [ 0.0097, -0.0003,  0.0004, -0.0005, -0.0003,  0.0059, -0.0056,\n",
       "           0.0051]]], grad_fn=<ViewBackward0>)"
      ]
     },
     "execution_count": 106,
     "metadata": {},
     "output_type": "execute_result"
    }
   ],
   "source": [
    "class MultiHeadSelfAttentionRope(nn.Module):\n",
    "    def __init__(self, d_model, num_heads, max_seq_len, theta, device=None, dtype=None):\n",
    "        super().__init__()\n",
    "        self.d_model = d_model\n",
    "        self.num_heads = num_heads\n",
    "        self.dk = d_model // num_heads\n",
    "\n",
    "        self.rope = MyRope(self.dk, theta, max_seq_len)\n",
    "\n",
    "        self.Wq = MyLinear(d_model, d_model)\n",
    "        self.Wk = MyLinear(d_model, d_model)\n",
    "        self.Wv = MyLinear(d_model, d_model)\n",
    "        self.Wo = MyLinear(d_model, d_model)\n",
    "    def forward(self, x, token_positions):\n",
    "        seq = x.shape[-2]\n",
    "        queries = self.Wq(x)\n",
    "        keys = self.Wk(x)\n",
    "        values = self.Wv(x)\n",
    "        queries = einx.rearrange(\"... seq (heads dk) -> ... heads seq dk\", queries, dk=self.dk)\n",
    "        keys = einx.rearrange(\"... seq (heads dk) -> ... heads seq dk\", keys, dk=self.dk)\n",
    "        values = einx.rearrange(\"... seq (heads dk) -> ... heads seq dk\", values, dk=self.dk)\n",
    "\n",
    "        queries = self.rope(queries, token_positions.unsqueeze(-2).expand(keys.shape[:-1]))\n",
    "        keys = self.rope(keys, token_positions.unsqueeze(-2).expand(keys.shape[:-1]))\n",
    "        \n",
    "        mask = torch.tril(torch.ones((seq, seq))).bool()\n",
    "\n",
    "        print(queries.dtype)\n",
    "        attended = scaledDotProdAttention(queries, keys, values, mask)\n",
    "        multiHead = einx.rearrange(\"... heads seq dk -> ... seq (heads dk)\", attended)\n",
    "        return self.Wo(multiHead)\n",
    "mhsar = MultiHeadSelfAttentionRope(8, 2, 5, 1e-5)\n",
    "mhsar(torch.randn(3, 5, 8), torch.arange(5).expand(torch.randn(3, 5, 8).shape[:-1]))"
   ]
  },
  {
   "cell_type": "code",
   "execution_count": 108,
   "id": "281b3567-df1b-480e-bdb5-e19f88ae6db6",
   "metadata": {},
   "outputs": [],
   "source": [
    "class MySwiGLU(nn.Module):\n",
    "    def __init__(self, d_model, d_ff = None, device=None, dtype=None):\n",
    "        super().__init__()\n",
    "        if d_ff is None:\n",
    "            d_ff = int(round(8 / 3 * d_model / 64) * 64)\n",
    "        self.d_ff = d_ff\n",
    "\n",
    "        self.w1 = MyLinear(d_model, d_ff)\n",
    "        self.w2 = MyLinear(d_ff, d_model)\n",
    "        self.w3 = MyLinear(d_model, d_ff)\n",
    "\n",
    "        \n",
    "        \n",
    "    def forward(self, x: torch.Tensor) -> torch.Tensor:\n",
    "        w1x = self.w1(x)\n",
    "        w3x = self.w3(x)\n",
    "        elwiseProd = self.SILU(w1x) * w3x\n",
    "        out = self.w2(elwiseProd)\n",
    "        return out\n",
    "\n",
    "    def SILU(self, x: torch.Tensor):\n",
    "        return x * torch.sigmoid(x)\n",
    "class TransformerBlock(nn.Module):\n",
    "    def __init__(self, d_model, num_heads, d_ff, max_seq_len, theta):\n",
    "        super().__init__()\n",
    "        self.d_model = d_model\n",
    "        self.num_heads = num_heads\n",
    "        self.d_ff = d_ff\n",
    "        self.max_seq_len = max_seq_len\n",
    "        self.theta = theta\n",
    "\n",
    "        self.RMS1 = MyRMSNorm(d_model)\n",
    "        self.RMS2 = MyRMSNorm(d_model)\n",
    "\n",
    "        self.mhsar = MultiHeadSelfAttentionRope(d_model, num_heads, max_seq_len, theta)\n",
    "        self.ffwd = MySwiGLU(d_model, d_ff)\n",
    "\n",
    "    def forward(self, x):\n",
    "        token_positions = torch.arange(x.shape[-2]).expand(x.shape[:-1])\n",
    "        y = x + self.mhsar(self.RMS1(x), token_positions)\n",
    "        print(\"y Shape\", y.shape)\n",
    "        z = y + self.ffwd(self.RMS2(y))\n",
    "        return z"
   ]
  },
  {
   "cell_type": "code",
   "execution_count": 109,
   "id": "2be2522d-c6e8-4cfc-a52c-994581f57419",
   "metadata": {},
   "outputs": [
    {
     "data": {
      "text/plain": [
       "tensor([[[-5.5784e-05,  2.1722e-05, -4.0647e-05,  ...,  4.3912e-06,\n",
       "           8.6138e-06, -4.3669e-05],\n",
       "         [-1.0096e-04, -3.7781e-06,  3.6266e-05,  ..., -1.0608e-04,\n",
       "           3.1835e-06,  2.4812e-06],\n",
       "         [ 2.5156e-05, -6.6149e-05, -5.3761e-05,  ...,  1.9268e-05,\n",
       "          -3.5005e-06, -6.9269e-05],\n",
       "         ...,\n",
       "         [ 2.8158e-05, -5.7070e-05,  8.8641e-05,  ...,  3.2948e-05,\n",
       "          -1.7302e-05,  1.3374e-05],\n",
       "         [ 6.1499e-05, -3.5933e-05, -3.2347e-05,  ..., -5.6971e-05,\n",
       "          -3.9987e-05,  4.1134e-05],\n",
       "         [ 3.7481e-05,  2.4902e-05,  1.1735e-05,  ...,  8.8581e-06,\n",
       "          -2.2123e-05, -6.4748e-05]],\n",
       "\n",
       "        [[-3.7254e-05, -2.6964e-05,  1.0151e-04,  ..., -5.7524e-06,\n",
       "          -1.5768e-06, -2.1357e-05],\n",
       "         [-2.7622e-05, -9.3886e-06,  2.0122e-05,  ...,  5.3260e-05,\n",
       "          -1.4699e-05,  2.7704e-05],\n",
       "         [ 4.4525e-05, -1.8425e-05,  4.2244e-05,  ..., -5.1800e-05,\n",
       "          -9.2712e-06,  3.7986e-05],\n",
       "         ...,\n",
       "         [ 3.0380e-05, -1.5951e-06, -4.2389e-05,  ..., -2.6842e-05,\n",
       "          -3.2132e-05, -1.4352e-05],\n",
       "         [ 1.1242e-05, -3.0341e-05,  3.9563e-05,  ...,  1.2344e-05,\n",
       "          -1.1089e-05,  4.9825e-05],\n",
       "         [-1.5188e-04,  2.7723e-05, -1.0214e-06,  ..., -8.0169e-05,\n",
       "          -3.5627e-05, -9.0709e-05]],\n",
       "\n",
       "        [[ 2.8393e-05,  2.3371e-05,  6.4132e-06,  ..., -8.4481e-05,\n",
       "          -8.2962e-05, -4.0146e-05],\n",
       "         [ 7.0597e-05, -1.3378e-05,  7.9198e-05,  ..., -7.4228e-05,\n",
       "          -8.9123e-05,  7.4734e-05],\n",
       "         [-1.1167e-05,  3.0154e-05,  7.0450e-05,  ..., -1.1247e-05,\n",
       "          -4.2953e-05, -2.7944e-05],\n",
       "         ...,\n",
       "         [ 6.2865e-05, -2.4433e-05, -7.5879e-05,  ..., -1.0996e-04,\n",
       "          -9.3006e-06,  4.3862e-05],\n",
       "         [ 2.4773e-05, -1.2293e-05,  1.2231e-05,  ...,  1.4329e-05,\n",
       "          -3.4898e-05,  2.6280e-05],\n",
       "         [ 3.2852e-05,  4.7937e-05, -1.6168e-06,  ..., -3.9848e-05,\n",
       "           4.5713e-05,  2.9337e-05]],\n",
       "\n",
       "        [[-3.6550e-05,  4.2032e-05,  6.8480e-06,  ...,  4.7175e-05,\n",
       "          -9.9312e-07, -1.0202e-04],\n",
       "         [-5.5617e-05, -1.0297e-04, -3.8729e-05,  ...,  5.5420e-05,\n",
       "          -8.3310e-05,  1.1308e-04],\n",
       "         [ 6.8089e-05,  1.5631e-05, -1.2427e-04,  ..., -2.3678e-05,\n",
       "           4.4402e-05,  3.3231e-05],\n",
       "         ...,\n",
       "         [ 3.3520e-05,  7.4049e-06, -2.7350e-05,  ..., -6.1616e-05,\n",
       "           3.5753e-05, -2.8279e-05],\n",
       "         [ 1.1746e-04, -1.4326e-06, -1.9734e-05,  ..., -7.3024e-05,\n",
       "          -5.6492e-05,  2.1919e-05],\n",
       "         [ 6.6149e-05,  3.1364e-05, -6.8046e-06,  ..., -5.3318e-05,\n",
       "           2.6765e-05, -3.5765e-05]]], grad_fn=<ViewBackward0>)"
      ]
     },
     "execution_count": 109,
     "metadata": {},
     "output_type": "execute_result"
    }
   ],
   "source": [
    "t = MySwiGLU(64, 128)\n",
    "t(torch.randn(4, 12, 64))"
   ]
  },
  {
   "cell_type": "code",
   "execution_count": null,
   "id": "24a7d183-bf81-4759-a6d7-184003c69f6a",
   "metadata": {},
   "outputs": [],
   "source": [
    "class Transfomer(nn.Module):\n",
    "    def __init__(self, vocab_size, context_length, num_layers, d_model, num_heads, d_ff, theta):\n",
    "        super().__init__()\n",
    "        self.vocab_size = vocab_size\n",
    "        self.context_length = context_length\n",
    "        self.embedding = MyEmbedding(vocab_size, d_model)\n",
    "        self.transformerBlocks = nn.ModuleList([TransformerBlock(d_model, num_heads, d_ff, context_length, theta) for _ in range(num_layers)])\n",
    "        self.rmsNorm = MyRMSNorm(d_model)\n",
    "        self.outFwd = MyLinear(d_model, vocab_size)\n",
    "    def forward(self, tokIds):\n",
    "        emb = self.embedding(tokIds)\n",
    "        for block in self.transformerBlocks:\n",
    "            emb = block(emb)\n",
    "        emb = self.rmsNorm(emb)\n",
    "        emb = self.outFwd(emb)\n",
    "        emb = softmax(emb, dim=-1)\n",
    "        return emb\n",
    "        "
   ]
  }
 ],
 "metadata": {
  "kernelspec": {
   "display_name": "Python 3 (ipykernel)",
   "language": "python",
   "name": "python3"
  },
  "language_info": {
   "codemirror_mode": {
    "name": "ipython",
    "version": 3
   },
   "file_extension": ".py",
   "mimetype": "text/x-python",
   "name": "python",
   "nbconvert_exporter": "python",
   "pygments_lexer": "ipython3",
   "version": "3.12.3"
  }
 },
 "nbformat": 4,
 "nbformat_minor": 5
}
